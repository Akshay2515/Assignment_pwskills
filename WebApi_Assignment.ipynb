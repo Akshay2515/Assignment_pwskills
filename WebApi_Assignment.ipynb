{
 "cells": [
  {
   "cell_type": "markdown",
   "id": "920b062b-15b9-4b50-b010-dfb13dd40f56",
   "metadata": {},
   "source": [
    "# ASSIGNMENT- WEB API"
   ]
  },
  {
   "cell_type": "markdown",
   "id": "c81d06c4-0d20-4191-aa23-9680a52ff4c8",
   "metadata": {},
   "source": [
    "## Q1. What is an API? Give an example, where an API is used in real life.\n",
    "## SOLUTION:"
   ]
  },
  {
   "cell_type": "markdown",
   "id": "4058a4b7-00eb-4a0b-bae0-c8400787d8a2",
   "metadata": {},
   "source": [
    "## API: API stands for application programming interface. it is a set of rules and protocols that allow one piece of software application to interact with each other.\n",
    "## APIs define the methods and data formats that applications used to request and exchange information."
   ]
  },
  {
   "cell_type": "markdown",
   "id": "22d94b6d-7c6e-4311-aeb2-f23e58f8c176",
   "metadata": {},
   "source": [
    "## Example:"
   ]
  },
  {
   "cell_type": "markdown",
   "id": "3d9b7285-74a6-4b50-9da8-74d511aa7851",
   "metadata": {},
   "source": [
    "## let's consider the example of a social media login. Many websites and applications allow users to log in using their social media accounts like Facebook or Google. In this scenario:\n",
    "\n",
    "## 1. User Interaction: A user clicks on \"Login with Facebook\" on a website or app.\n",
    "\n",
    "## 2. API Request: The website or app sends a request to Facebook's API, asking for permission to access the user's account information.\n",
    "\n",
    "## 3. Facebook API Response: Facebook's API checks if the user has granted permission. If yes, it sends back the necessary user data (like name and email) to the website or app.\n",
    "\n",
    "## 4. User Logged In: The website or app uses the received data to create an account or log in the user without the need for the user to create a new username and password.\n",
    "\n"
   ]
  },
  {
   "cell_type": "markdown",
   "id": "45a89cee-19a6-4b06-aaa3-8a1cf1bb9913",
   "metadata": {},
   "source": [
    "## Q2. Give advantages and disadvantages of using API. \n",
    "## SOLUTION:"
   ]
  },
  {
   "cell_type": "markdown",
   "id": "40f9965e-90b9-4bf1-8adb-a26ebb92fee9",
   "metadata": {},
   "source": [
    "## Advantages of APIs:"
   ]
  },
  {
   "cell_type": "markdown",
   "id": "a06551a4-2a30-4781-93b6-c8f50cea270d",
   "metadata": {},
   "source": [
    "## 1. easy integration: APIs make it easier for different software systems work together. it's like having a common language that allow applications to communicate.\n",
    "## 2. Time and cost efficiency: using APIs saves time and resources.\n",
    "## 3. Data access: APIs provides controlled access to data. if a service share specific information, it can expose only the necessary data through the APIs, maintaining security and privacy."
   ]
  },
  {
   "cell_type": "markdown",
   "id": "e5ff4497-1038-4fe3-96b3-904edb02c148",
   "metadata": {},
   "source": [
    "## Disaadvanteges of APIs"
   ]
  },
  {
   "cell_type": "markdown",
   "id": "b2e28038-9032-4540-96fb-22158c0abe23",
   "metadata": {},
   "source": [
    "## 1. Security concerns: APIs security is crucial. if not properly secured, APIs can be vunerable to attacks.\n",
    "## 2. changes in APIs versions: APIs can evolve and newer version may not be backward compatible."
   ]
  },
  {
   "cell_type": "markdown",
   "id": "a57ed176-028f-4bc7-b3ca-c0a49efd5d1c",
   "metadata": {},
   "source": [
    "## Q3. What is a Web API? Differentiate between API and Web API.\n",
    "## SOLUTION:"
   ]
  },
  {
   "cell_type": "markdown",
   "id": "311136fc-cd7a-4300-8ff5-67741bcda9ee",
   "metadata": {},
   "source": [
    "## API stands for Application Programming Interface.\n",
    "\n",
    "## A Web API is an application programming interface for the Web.\n",
    "\n",
    "## A Browser API can extend the functionality of a web browser."
   ]
  },
  {
   "cell_type": "markdown",
   "id": "8a170e90-6467-4254-903c-684e83131b8c",
   "metadata": {},
   "source": [
    "## API: An API (Application Programming Interface) is a set of protocols and tools for building software applications. It defines the methods and data formats that applications can use to communicate with each other. APIs can be used for various types of software, including desktop, mobile, and web applications."
   ]
  },
  {
   "cell_type": "markdown",
   "id": "54225f75-b764-488b-95a0-2d10c618af7d",
   "metadata": {},
   "source": [
    "## WEB API: A Web API is a specific type of API that is designed to be accessed over the web using standard HTTP protocols. It enables communication between different software systems over the internet. While APIs, in general, can be used for various types of applications, a Web API specifically leverages web technologies to facilitate communication between web servers and clients."
   ]
  },
  {
   "cell_type": "markdown",
   "id": "46ef189f-10f2-4d55-9cc7-dbb5cf15d510",
   "metadata": {},
   "source": [
    "## Q4. Explain REST and SOAP Architecture. Mention shortcomings of SOAP.\n",
    "## SOLUTION:"
   ]
  },
  {
   "cell_type": "markdown",
   "id": "bc4428a8-e2e4-43e5-88b1-c47a4c83793b",
   "metadata": {},
   "source": [
    "## REST: It stands for Representational State Transfer. REST is an architectural style for designing networked applications. It relies on a stateless communication model, where each request from a client to a server must contain all the information needed to understand and process the request. RESTful architectures use standard HTTP methods (GET, POST, PUT, DELETE) for communication, and they typically operate over the web."
   ]
  },
  {
   "cell_type": "markdown",
   "id": "dfaf71c0-4ac5-4346-9016-01962d4d574d",
   "metadata": {},
   "source": [
    "## SOAP: It stands for Simple Object Access Protocol. SOAP is a protocol for exchanging structured information in web services. It relies on XML for message formatting and can use various transport protocols, including HTTP and SMTP. SOAP is known for its strict standards and provides a more comprehensive set of features compared to REST."
   ]
  },
  {
   "cell_type": "markdown",
   "id": "086e3bd3-b70f-46ae-ba95-fd7a1a50d24d",
   "metadata": {},
   "source": [
    "## Q5. Differentiate between REST and SOAP.\n",
    "## Solution:"
   ]
  },
  {
   "cell_type": "markdown",
   "id": "267616a0-fbf3-4917-802f-3143a6169cd2",
   "metadata": {},
   "source": [
    "## REST is often preferred for simplicity, scalability, and performance in scenarios where lightweight communication is crucial.\n",
    "## SOAP may be chosen for scenarios where a more comprehensive set of standards and features is required, or when working in environments that demand strict protocols."
   ]
  },
  {
   "cell_type": "code",
   "execution_count": null,
   "id": "6a615f41-d0a3-4174-a59c-c19510528c37",
   "metadata": {},
   "outputs": [],
   "source": []
  }
 ],
 "metadata": {
  "kernelspec": {
   "display_name": "Python 3 (ipykernel)",
   "language": "python",
   "name": "python3"
  },
  "language_info": {
   "codemirror_mode": {
    "name": "ipython",
    "version": 3
   },
   "file_extension": ".py",
   "mimetype": "text/x-python",
   "name": "python",
   "nbconvert_exporter": "python",
   "pygments_lexer": "ipython3",
   "version": "3.10.8"
  }
 },
 "nbformat": 4,
 "nbformat_minor": 5
}
