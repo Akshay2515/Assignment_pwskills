{
 "cells": [
  {
   "cell_type": "markdown",
   "id": "edb69082-7a98-45ea-bd94-236f80fa87b0",
   "metadata": {},
   "source": [
    "# MULTITHREADING ASSIGNMENT"
   ]
  },
  {
   "cell_type": "markdown",
   "id": "edddd5f7-4c19-4d76-8b0a-327fe22d279c",
   "metadata": {},
   "source": [
    "## Q1. what is multithreading in python? why is it used? Name the module used to handle threads in python?\n",
    "## SOLUTION:"
   ]
  },
  {
   "cell_type": "markdown",
   "id": "fce6dd3b-4ec3-4628-add5-c250f5762899",
   "metadata": {},
   "source": [
    "## Multithreading is defined as the ability of a processor to execute multiple threads concurrently. \n",
    "## \"A thread\" is a sequence of a instruction within a program that can execute independently of other code.\n",
    "## In a simple, single-core CPU, it is achieved using frequent switching between threads. This term is content switching.\n",
    "## In content switching, the state of thread is saved and the state of another thread is loaded whenever any interrupt take place."
   ]
  },
  {
   "cell_type": "markdown",
   "id": "97c944bd-a18d-4e01-8029-733d6820a22c",
   "metadata": {},
   "source": [
    "## 2. It is used because multithreading allows many parts of a program to run simultaneously. These parts are referred to as threads, and they are lightweight processes that are available within the process. As a result, multithreading increases CPU utilization through multitasking."
   ]
  },
  {
   "cell_type": "markdown",
   "id": "e4c14055-5520-4fcc-b151-b8fd255b858c",
   "metadata": {},
   "source": [
    "## 3. we use threading module to handle thread in python.\n",
    "## syntax: import threading"
   ]
  },
  {
   "cell_type": "markdown",
   "id": "3e95ddde-b9c7-4b55-9e93-a7add8c2e7ae",
   "metadata": {},
   "source": [
    "## Q2. why threading module used? write the use of the following functions?\n",
    "## activeCount()\n",
    "## currentThread()\n",
    "## enumerate()\n",
    "\n",
    "## SOLUTION:"
   ]
  },
  {
   "cell_type": "markdown",
   "id": "e00daedc-19bf-4023-b177-ac1375e19702",
   "metadata": {},
   "source": [
    "## Because threading module is used to handle the thread in code."
   ]
  },
  {
   "cell_type": "markdown",
   "id": "81d39bc2-7b09-404e-9e89-e63247342846",
   "metadata": {},
   "source": [
    "## 1. activeCount() : This function will return the number of thread objects currently alive.\n",
    "## 2. currentThread() : This function will return the current thread object.\n",
    "## 3. enumerate(): This method will return the list of all thread object currently alive."
   ]
  },
  {
   "cell_type": "code",
   "execution_count": 33,
   "id": "4212d70d-71c6-4041-aef6-a09362072caa",
   "metadata": {},
   "outputs": [],
   "source": [
    "## EXMAPLE\n",
    "import threading\n",
    "def test1(id):\n",
    "    print(\"this is my current id number {}\".format(id))"
   ]
  },
  {
   "cell_type": "code",
   "execution_count": 34,
   "id": "ec2453c7-2b54-4910-8bc7-942cda6e2a1f",
   "metadata": {},
   "outputs": [],
   "source": [
    "thread = [threading.Thread(target = test1, args = (i,)) for i in [2,3,4,5]]"
   ]
  },
  {
   "cell_type": "code",
   "execution_count": 35,
   "id": "a91851c0-b8e1-4524-a96c-8bd501df19d5",
   "metadata": {},
   "outputs": [
    {
     "data": {
      "text/plain": [
       "[<Thread(Thread-33 (test1), initial)>,\n",
       " <Thread(Thread-34 (test1), initial)>,\n",
       " <Thread(Thread-35 (test1), initial)>,\n",
       " <Thread(Thread-36 (test1), initial)>]"
      ]
     },
     "execution_count": 35,
     "metadata": {},
     "output_type": "execute_result"
    }
   ],
   "source": [
    "thread"
   ]
  },
  {
   "cell_type": "code",
   "execution_count": 36,
   "id": "5d5426d3-802f-4a00-bff4-4de9c3ad56c9",
   "metadata": {},
   "outputs": [
    {
     "name": "stdout",
     "output_type": "stream",
     "text": [
      "this is my current id number 2\n",
      "no. of active thread is: 8\n",
      "current thread is: <_MainThread(MainThread, started 140024977135424)>\n",
      " list of all thread objects [<_MainThread(MainThread, started 140024977135424)>, <Thread(IOPub, started daemon 140024906606144)>, <Heartbeat(Heartbeat, started daemon 140024898213440)>, <Thread(Thread-3 (_watch_pipe_fd), started daemon 140024873035328)>, <Thread(Thread-4 (_watch_pipe_fd), started daemon 140024523781696)>, <ControlThread(Control, started daemon 140024515388992)>, <HistorySavingThread(IPythonHistorySavingThread, started 140024506996288)>, <ParentPollerUnix(Thread-2, started daemon 140024498603584)>]\n",
      "this is my current id number 3\n",
      "no. of active thread is: 8\n",
      "current thread is: <_MainThread(MainThread, started 140024977135424)>\n",
      " list of all thread objects [<_MainThread(MainThread, started 140024977135424)>, <Thread(IOPub, started daemon 140024906606144)>, <Heartbeat(Heartbeat, started daemon 140024898213440)>, <Thread(Thread-3 (_watch_pipe_fd), started daemon 140024873035328)>, <Thread(Thread-4 (_watch_pipe_fd), started daemon 140024523781696)>, <ControlThread(Control, started daemon 140024515388992)>, <HistorySavingThread(IPythonHistorySavingThread, started 140024506996288)>, <ParentPollerUnix(Thread-2, started daemon 140024498603584)>]\n",
      "this is my current id number 4\n",
      "no. of active thread is: 8\n",
      "current thread is: <_MainThread(MainThread, started 140024977135424)>\n",
      " list of all thread objects [<_MainThread(MainThread, started 140024977135424)>, <Thread(IOPub, started daemon 140024906606144)>, <Heartbeat(Heartbeat, started daemon 140024898213440)>, <Thread(Thread-3 (_watch_pipe_fd), started daemon 140024873035328)>, <Thread(Thread-4 (_watch_pipe_fd), started daemon 140024523781696)>, <ControlThread(Control, started daemon 140024515388992)>, <HistorySavingThread(IPythonHistorySavingThread, started 140024506996288)>, <ParentPollerUnix(Thread-2, started daemon 140024498603584)>]\n",
      "this is my current id number 5\n",
      "no. of active thread is: 8\n",
      "current thread is: <_MainThread(MainThread, started 140024977135424)>\n",
      " list of all thread objects [<_MainThread(MainThread, started 140024977135424)>, <Thread(IOPub, started daemon 140024906606144)>, <Heartbeat(Heartbeat, started daemon 140024898213440)>, <Thread(Thread-3 (_watch_pipe_fd), started daemon 140024873035328)>, <Thread(Thread-4 (_watch_pipe_fd), started daemon 140024523781696)>, <ControlThread(Control, started daemon 140024515388992)>, <HistorySavingThread(IPythonHistorySavingThread, started 140024506996288)>, <ParentPollerUnix(Thread-2, started daemon 140024498603584)>]\n"
     ]
    }
   ],
   "source": [
    "for t in thread:\n",
    "    t.start()\n",
    "    print(\"no. of active thread is:\",threading.active_count())\n",
    "    print(\"current thread is:\",threading.current_thread())\n",
    "    print(\" list of all thread objects\",threading.enumerate())\n",
    "    t.join()"
   ]
  },
  {
   "cell_type": "markdown",
   "id": "061a93b5-9f59-428b-85c3-dcb1fb098b68",
   "metadata": {},
   "source": [
    "## Q3. Explain the following functions?\n",
    "##  1.run()\n",
    "## 2.start()\n",
    "## 3.join()\n",
    "## 4.isAlive()\n",
    "## SOLUTION:"
   ]
  },
  {
   "cell_type": "markdown",
   "id": "bc72de08-f50e-4266-89cc-a3db1abf29d5",
   "metadata": {},
   "source": [
    "## 1.run() : This is Thread.run method. it is an inbuilt method of thread class of the threading module. it is used to represent the thread activity. it call the method expressed as target argument in the thread object along with positional and keyword arguments taken from args argument. This method can also be overridden in the subclass."
   ]
  },
  {
   "cell_type": "markdown",
   "id": "bb65e1af-417a-45de-9513-143921a96888",
   "metadata": {},
   "source": [
    "## 2.start() : it is used to start a thread's activity. This method calls the run() method internally which then executes the target method."
   ]
  },
  {
   "cell_type": "markdown",
   "id": "f1b69537-8b24-47ca-9dc6-e3358e59b029",
   "metadata": {},
   "source": [
    "## 3.join() : Whenever this method is called for any Thread object, it blocks the calling thread till the time the thread whose join() method is called terminates, either normally or through an unhandled exception."
   ]
  },
  {
   "cell_type": "markdown",
   "id": "bc63b187-ba54-4beb-8c86-83f0cc645bda",
   "metadata": {},
   "source": [
    "## 4.isAlive() : it is used to check whether that thread is alive or not, ie, it is still running or not. This method returns True before the run() starts until just after the run() method is executed."
   ]
  },
  {
   "cell_type": "markdown",
   "id": "d2e5d73f-5436-47aa-aebf-d41afb45797c",
   "metadata": {},
   "source": [
    "## Q4.  write a python program to create two threads. Thread one must print the list of squares and thread two must print the list of cubes?\n",
    "## SOLUTION:"
   ]
  },
  {
   "cell_type": "code",
   "execution_count": 34,
   "id": "bd7cbfc0-0aeb-4b15-9d28-ebd363866f95",
   "metadata": {},
   "outputs": [],
   "source": [
    "## import threading\n",
    "import threading\n",
    "\n",
    "## for squares numbers\n",
    "def square(x):\n",
    "    square = []\n",
    "    for i in x:\n",
    "         square.append(i**2)\n",
    "    print(\"list of square number is {}\".format(square))\n",
    "    \n",
    "## for cubes    \n",
    "def cubes(x):\n",
    "    cubes = []\n",
    "    for i in x:\n",
    "         cubes.append(i**3)\n",
    "    print(\"list of cubes is {}\".format(cubes))    "
   ]
  },
  {
   "cell_type": "code",
   "execution_count": 35,
   "id": "39951c5d-d58a-406b-9b63-0c0ec41fb5e1",
   "metadata": {},
   "outputs": [],
   "source": [
    "## creating thread\n",
    "## for square number of list\n",
    "thread1 = [threading.Thread(target = square, args = (i,)) for i in [[1,2,3]]]"
   ]
  },
  {
   "cell_type": "code",
   "execution_count": 36,
   "id": "43265300-be43-455e-9aab-9737fbe3b24e",
   "metadata": {},
   "outputs": [
    {
     "data": {
      "text/plain": [
       "[<Thread(Thread-7 (square), initial)>]"
      ]
     },
     "execution_count": 36,
     "metadata": {},
     "output_type": "execute_result"
    }
   ],
   "source": [
    "thread1"
   ]
  },
  {
   "cell_type": "code",
   "execution_count": 37,
   "id": "d887d248-29d0-4fd5-bd47-d3f94bfbe23b",
   "metadata": {},
   "outputs": [
    {
     "name": "stdout",
     "output_type": "stream",
     "text": [
      "list of square number is [1, 4, 9]\n"
     ]
    }
   ],
   "source": [
    "for t in thread1:\n",
    "    t.start()"
   ]
  },
  {
   "cell_type": "code",
   "execution_count": 38,
   "id": "983b6dcf-d85b-42c7-a17e-009376edb997",
   "metadata": {},
   "outputs": [],
   "source": [
    "## creating thread2 for cubes\n",
    "thread2 = [threading.Thread(target = cubes, args = (i,)) for i in [[1,2,3]]]"
   ]
  },
  {
   "cell_type": "code",
   "execution_count": 39,
   "id": "bab71b1d-c7c3-4bb7-81b7-b7bd9334add8",
   "metadata": {},
   "outputs": [
    {
     "data": {
      "text/plain": [
       "[<Thread(Thread-8 (cubes), initial)>]"
      ]
     },
     "execution_count": 39,
     "metadata": {},
     "output_type": "execute_result"
    }
   ],
   "source": [
    "thread2"
   ]
  },
  {
   "cell_type": "code",
   "execution_count": 40,
   "id": "2e2ffafc-801c-4e32-9a14-116dae56864b",
   "metadata": {},
   "outputs": [
    {
     "name": "stdout",
     "output_type": "stream",
     "text": [
      "list of cubes is [1, 8, 27]\n"
     ]
    }
   ],
   "source": [
    "for t in thread2:\n",
    "    t.start()"
   ]
  },
  {
   "cell_type": "markdown",
   "id": "ef34d682-f2be-4e17-8175-5005535983c8",
   "metadata": {},
   "source": [
    "## Q5. State advantages and disadvantages of multithreading?\n",
    "## SOLUTION:"
   ]
  },
  {
   "cell_type": "markdown",
   "id": "9c9e1d48-c4de-4531-b631-7576cacc361e",
   "metadata": {},
   "source": [
    "## Advanteges of multithreading are::\n",
    "## 1.Python multithreading enables efficient utilization of the resources as the threads share the data space and memory.\n",
    "## 2.Multithreading in Python allows the concurrent and parallel occurrence of various tasks.\n",
    "## 3.It causes a reduction in time consumption or response time, thereby increasing the performance."
   ]
  },
  {
   "cell_type": "markdown",
   "id": "f4935505-2ee9-4911-b40f-44d6428a09fe",
   "metadata": {},
   "source": [
    "## Disadvanteges of multithreading are ::\n",
    "## 1.Race Conditions and Deadlocks: Managing shared resources among threads can be complex and lead to race conditions and deadlocks if synchronization mechanisms are not used correctly.\n",
    "## 2.Debugging Complexity: Multi-threaded programs can be difficult to debug due to non-deterministic behavior and race conditions.\n",
    "## 3.Limited CPU Utilization: Because of the GIL, CPU-bound tasks don't benefit significantly from threading because multiple threads can't efficiently utilize multiple CPU cores."
   ]
  },
  {
   "cell_type": "markdown",
   "id": "429bb40b-6a76-41ff-84a8-a22d2386b622",
   "metadata": {},
   "source": [
    "## Q6.Explain deadlocks and race conditions?\n",
    "## SOLUTION:"
   ]
  },
  {
   "cell_type": "markdown",
   "id": "a32645fe-d440-4c65-a18c-367942c2568b",
   "metadata": {},
   "source": [
    "## Race Condition: When two processes are competing with each other causing data corruption.\n",
    "## for example:\n",
    "## if two processes/threads are trying to execute the following conditions simultaneously, they cause data corruption:\n",
    "\n",
    "## Thread 1:\n",
    "## total = num1 + num2\n",
    "\n",
    "## Thread 2:\n",
    "## total = num1 - num2"
   ]
  },
  {
   "cell_type": "code",
   "execution_count": null,
   "id": "a8ab36be-4811-42ad-95de-bca061aa5818",
   "metadata": {},
   "outputs": [],
   "source": [
    "## Dead"
   ]
  }
 ],
 "metadata": {
  "kernelspec": {
   "display_name": "Python 3 (ipykernel)",
   "language": "python",
   "name": "python3"
  },
  "language_info": {
   "codemirror_mode": {
    "name": "ipython",
    "version": 3
   },
   "file_extension": ".py",
   "mimetype": "text/x-python",
   "name": "python",
   "nbconvert_exporter": "python",
   "pygments_lexer": "ipython3",
   "version": "3.10.8"
  }
 },
 "nbformat": 4,
 "nbformat_minor": 5
}
