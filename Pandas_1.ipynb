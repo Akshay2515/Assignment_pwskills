{
 "cells": [
  {
   "cell_type": "markdown",
   "id": "63a1e01f-2b34-4676-ad29-1484a081f069",
   "metadata": {},
   "source": [
    "# PANDAS_ASSIGNMENT-1"
   ]
  },
  {
   "cell_type": "markdown",
   "id": "aadc6005-5ad4-415a-b2c3-0d1f107444e5",
   "metadata": {},
   "source": [
    "## Q1. Create a Pandas Series that contains the following data: 4, 8, 15, 16, 23, and 42. Then, print the series.\n",
    "## SOLUTION:"
   ]
  },
  {
   "cell_type": "code",
   "execution_count": 15,
   "id": "4855fd18-9f6f-4135-850e-245543b2b668",
   "metadata": {},
   "outputs": [],
   "source": [
    "import pandas as pd"
   ]
  },
  {
   "cell_type": "code",
   "execution_count": 2,
   "id": "dfc246e1-305f-4eea-80d6-0ee17769ca2f",
   "metadata": {},
   "outputs": [],
   "source": [
    "my_series = pd.Series([4,8,15,16,23,42])"
   ]
  },
  {
   "cell_type": "code",
   "execution_count": 3,
   "id": "0a2891dd-6027-4089-94ae-e49d539ac48b",
   "metadata": {},
   "outputs": [
    {
     "data": {
      "text/plain": [
       "0     4\n",
       "1     8\n",
       "2    15\n",
       "3    16\n",
       "4    23\n",
       "5    42\n",
       "dtype: int64"
      ]
     },
     "execution_count": 3,
     "metadata": {},
     "output_type": "execute_result"
    }
   ],
   "source": [
    "my_series"
   ]
  },
  {
   "cell_type": "code",
   "execution_count": 4,
   "id": "91def706-f462-4613-b909-a4cee208f9cf",
   "metadata": {},
   "outputs": [
    {
     "data": {
      "text/plain": [
       "pandas.core.series.Series"
      ]
     },
     "execution_count": 4,
     "metadata": {},
     "output_type": "execute_result"
    }
   ],
   "source": [
    "type(my_series)"
   ]
  },
  {
   "cell_type": "markdown",
   "id": "1758ebbc-8b65-42da-803e-bf52548a2a5b",
   "metadata": {},
   "source": [
    "## Q2. Create a variable of list type containing 10 elements in it, and apply pandas.Series function on the variable print it.\n",
    "## SOLUTION:"
   ]
  },
  {
   "cell_type": "code",
   "execution_count": 5,
   "id": "9a8c5633-7816-44c1-b9d8-0a3b615adb06",
   "metadata": {},
   "outputs": [],
   "source": [
    "l = [1,2,3,4,5,6,7,8,9,10]"
   ]
  },
  {
   "cell_type": "code",
   "execution_count": 6,
   "id": "577ca1d6-2ea0-4f80-802d-754b2ac32b99",
   "metadata": {},
   "outputs": [],
   "source": [
    "my_list_series = pd.Series(l)"
   ]
  },
  {
   "cell_type": "code",
   "execution_count": 7,
   "id": "9167d780-a7d8-4bac-b12d-fd1ae819d664",
   "metadata": {},
   "outputs": [
    {
     "data": {
      "text/plain": [
       "0     1\n",
       "1     2\n",
       "2     3\n",
       "3     4\n",
       "4     5\n",
       "5     6\n",
       "6     7\n",
       "7     8\n",
       "8     9\n",
       "9    10\n",
       "dtype: int64"
      ]
     },
     "execution_count": 7,
     "metadata": {},
     "output_type": "execute_result"
    }
   ],
   "source": [
    "my_list_series"
   ]
  },
  {
   "cell_type": "code",
   "execution_count": 8,
   "id": "1a2712ab-f5ce-4d67-8a9f-f8ee24b8f437",
   "metadata": {},
   "outputs": [
    {
     "data": {
      "text/plain": [
       "pandas.core.series.Series"
      ]
     },
     "execution_count": 8,
     "metadata": {},
     "output_type": "execute_result"
    }
   ],
   "source": [
    "type(my_list_series)"
   ]
  },
  {
   "cell_type": "markdown",
   "id": "5538d6e1-840f-4833-9791-68a110cb2734",
   "metadata": {},
   "source": [
    "## Q3. Create a Pandas DataFrame that contains the following data: Then, print the DataFrame.    \n",
    "\n",
    "Name\n",
    "Alice\n",
    "Bob\n",
    "Claire\n",
    "\n",
    "Age\n",
    "25\n",
    "30\n",
    "27\n",
    "\n",
    "Gender\n",
    "Female\n",
    "Male\n",
    "Female"
   ]
  },
  {
   "cell_type": "code",
   "execution_count": 9,
   "id": "a393c465-6a82-4cf2-a413-5c799de791f5",
   "metadata": {},
   "outputs": [],
   "source": [
    "my_data = {'Name':['Alice','Bob','Claire'],\n",
    "          'Age':[25,30,27],\n",
    "           'Gender':['Female','Male','Female']}\n"
   ]
  },
  {
   "cell_type": "code",
   "execution_count": 10,
   "id": "ce0f6298-1208-4572-9394-10661a50093d",
   "metadata": {},
   "outputs": [
    {
     "data": {
      "text/plain": [
       "{'Name': ['Alice', 'Bob', 'Claire'],\n",
       " 'Age': [25, 30, 27],\n",
       " 'Gender': ['Female', 'Male', 'Female']}"
      ]
     },
     "execution_count": 10,
     "metadata": {},
     "output_type": "execute_result"
    }
   ],
   "source": [
    "my_data"
   ]
  },
  {
   "cell_type": "code",
   "execution_count": 11,
   "id": "20aa6da9-30f9-4f77-a729-482fd63c51f5",
   "metadata": {},
   "outputs": [],
   "source": [
    "my_DataFrame = pd.DataFrame(my_data)"
   ]
  },
  {
   "cell_type": "code",
   "execution_count": 12,
   "id": "8312866f-ee68-48c1-88be-b3760c112c18",
   "metadata": {},
   "outputs": [
    {
     "data": {
      "text/html": [
       "<div>\n",
       "<style scoped>\n",
       "    .dataframe tbody tr th:only-of-type {\n",
       "        vertical-align: middle;\n",
       "    }\n",
       "\n",
       "    .dataframe tbody tr th {\n",
       "        vertical-align: top;\n",
       "    }\n",
       "\n",
       "    .dataframe thead th {\n",
       "        text-align: right;\n",
       "    }\n",
       "</style>\n",
       "<table border=\"1\" class=\"dataframe\">\n",
       "  <thead>\n",
       "    <tr style=\"text-align: right;\">\n",
       "      <th></th>\n",
       "      <th>Name</th>\n",
       "      <th>Age</th>\n",
       "      <th>Gender</th>\n",
       "    </tr>\n",
       "  </thead>\n",
       "  <tbody>\n",
       "    <tr>\n",
       "      <th>0</th>\n",
       "      <td>Alice</td>\n",
       "      <td>25</td>\n",
       "      <td>Female</td>\n",
       "    </tr>\n",
       "    <tr>\n",
       "      <th>1</th>\n",
       "      <td>Bob</td>\n",
       "      <td>30</td>\n",
       "      <td>Male</td>\n",
       "    </tr>\n",
       "    <tr>\n",
       "      <th>2</th>\n",
       "      <td>Claire</td>\n",
       "      <td>27</td>\n",
       "      <td>Female</td>\n",
       "    </tr>\n",
       "  </tbody>\n",
       "</table>\n",
       "</div>"
      ],
      "text/plain": [
       "     Name  Age  Gender\n",
       "0   Alice   25  Female\n",
       "1     Bob   30    Male\n",
       "2  Claire   27  Female"
      ]
     },
     "execution_count": 12,
     "metadata": {},
     "output_type": "execute_result"
    }
   ],
   "source": [
    "my_DataFrame"
   ]
  },
  {
   "cell_type": "code",
   "execution_count": 13,
   "id": "ee77ccb6-c043-4b2c-babb-a424cbde5ba9",
   "metadata": {},
   "outputs": [
    {
     "data": {
      "text/plain": [
       "pandas.core.frame.DataFrame"
      ]
     },
     "execution_count": 13,
     "metadata": {},
     "output_type": "execute_result"
    }
   ],
   "source": [
    "type(my_DataFrame)"
   ]
  },
  {
   "cell_type": "markdown",
   "id": "d15ffdf1-d4a1-4fa4-91ff-c19568af6b79",
   "metadata": {},
   "source": [
    "## Q4. What is ‘DataFrame’ in pandas and how is it different from pandas.series? Explain with an example.\n",
    "## Solution:"
   ]
  },
  {
   "cell_type": "markdown",
   "id": "c6e1125e-9ba2-4748-b96e-b51be7a3c91f",
   "metadata": {},
   "source": [
    "## DataFrame is a collection of rows and columns in pandas. Data means 'information' and Frame means 'Structured'. Meaning that our data present in well structured format (Tabular format which containing rows and columns). "
   ]
  },
  {
   "cell_type": "markdown",
   "id": "7662e741-0cb2-465c-9f6a-70b61492e363",
   "metadata": {},
   "source": [
    "## \"series\" refers to a one-dimensional labeled array provided by the pandas library."
   ]
  },
  {
   "cell_type": "code",
   "execution_count": 2,
   "id": "e70295c1-3512-4888-accf-442f18b89f49",
   "metadata": {},
   "outputs": [],
   "source": [
    "## example series\n",
    "import numpy as np"
   ]
  },
  {
   "cell_type": "code",
   "execution_count": 15,
   "id": "ea2bfcc7-3554-4673-a371-62b4ba90182b",
   "metadata": {},
   "outputs": [],
   "source": [
    "array = np.random.randn(10)"
   ]
  },
  {
   "cell_type": "code",
   "execution_count": 16,
   "id": "5c3fb97b-b5a6-4e24-89de-5a45f92e9596",
   "metadata": {},
   "outputs": [
    {
     "data": {
      "text/plain": [
       "array([ 0.02680308,  0.03488179,  0.91648305, -1.40207792, -0.57111196,\n",
       "        0.77303534,  0.27473195,  1.16166925,  0.1013637 ,  1.28009039])"
      ]
     },
     "execution_count": 16,
     "metadata": {},
     "output_type": "execute_result"
    }
   ],
   "source": [
    "array"
   ]
  },
  {
   "cell_type": "code",
   "execution_count": 17,
   "id": "34bd3771-d0ce-47f9-9237-6e7b2ecb8429",
   "metadata": {},
   "outputs": [],
   "source": [
    "my_Series = pd.Series(array)"
   ]
  },
  {
   "cell_type": "code",
   "execution_count": 18,
   "id": "641fab03-0601-4e9b-bcc4-44db62cb79bd",
   "metadata": {},
   "outputs": [
    {
     "data": {
      "text/plain": [
       "0    0.026803\n",
       "1    0.034882\n",
       "2    0.916483\n",
       "3   -1.402078\n",
       "4   -0.571112\n",
       "5    0.773035\n",
       "6    0.274732\n",
       "7    1.161669\n",
       "8    0.101364\n",
       "9    1.280090\n",
       "dtype: float64"
      ]
     },
     "execution_count": 18,
     "metadata": {},
     "output_type": "execute_result"
    }
   ],
   "source": [
    "my_Series"
   ]
  },
  {
   "cell_type": "code",
   "execution_count": 19,
   "id": "9c1f3c00-0205-4761-adf7-ed2bf7ea9ace",
   "metadata": {},
   "outputs": [],
   "source": [
    "## example dataframe\n",
    "my_dataframe = pd.DataFrame(array)"
   ]
  },
  {
   "cell_type": "code",
   "execution_count": 20,
   "id": "c4b02020-534a-4d21-bf25-516009572a92",
   "metadata": {},
   "outputs": [
    {
     "data": {
      "text/html": [
       "<div>\n",
       "<style scoped>\n",
       "    .dataframe tbody tr th:only-of-type {\n",
       "        vertical-align: middle;\n",
       "    }\n",
       "\n",
       "    .dataframe tbody tr th {\n",
       "        vertical-align: top;\n",
       "    }\n",
       "\n",
       "    .dataframe thead th {\n",
       "        text-align: right;\n",
       "    }\n",
       "</style>\n",
       "<table border=\"1\" class=\"dataframe\">\n",
       "  <thead>\n",
       "    <tr style=\"text-align: right;\">\n",
       "      <th></th>\n",
       "      <th>0</th>\n",
       "    </tr>\n",
       "  </thead>\n",
       "  <tbody>\n",
       "    <tr>\n",
       "      <th>0</th>\n",
       "      <td>0.026803</td>\n",
       "    </tr>\n",
       "    <tr>\n",
       "      <th>1</th>\n",
       "      <td>0.034882</td>\n",
       "    </tr>\n",
       "    <tr>\n",
       "      <th>2</th>\n",
       "      <td>0.916483</td>\n",
       "    </tr>\n",
       "    <tr>\n",
       "      <th>3</th>\n",
       "      <td>-1.402078</td>\n",
       "    </tr>\n",
       "    <tr>\n",
       "      <th>4</th>\n",
       "      <td>-0.571112</td>\n",
       "    </tr>\n",
       "    <tr>\n",
       "      <th>5</th>\n",
       "      <td>0.773035</td>\n",
       "    </tr>\n",
       "    <tr>\n",
       "      <th>6</th>\n",
       "      <td>0.274732</td>\n",
       "    </tr>\n",
       "    <tr>\n",
       "      <th>7</th>\n",
       "      <td>1.161669</td>\n",
       "    </tr>\n",
       "    <tr>\n",
       "      <th>8</th>\n",
       "      <td>0.101364</td>\n",
       "    </tr>\n",
       "    <tr>\n",
       "      <th>9</th>\n",
       "      <td>1.280090</td>\n",
       "    </tr>\n",
       "  </tbody>\n",
       "</table>\n",
       "</div>"
      ],
      "text/plain": [
       "          0\n",
       "0  0.026803\n",
       "1  0.034882\n",
       "2  0.916483\n",
       "3 -1.402078\n",
       "4 -0.571112\n",
       "5  0.773035\n",
       "6  0.274732\n",
       "7  1.161669\n",
       "8  0.101364\n",
       "9  1.280090"
      ]
     },
     "execution_count": 20,
     "metadata": {},
     "output_type": "execute_result"
    }
   ],
   "source": [
    "my_dataframe"
   ]
  },
  {
   "cell_type": "code",
   "execution_count": 21,
   "id": "ca4e85c4-3224-4bec-8d5f-61cfddc0aeac",
   "metadata": {},
   "outputs": [],
   "source": [
    "## you can see the dataframe in well structured format."
   ]
  },
  {
   "cell_type": "markdown",
   "id": "ebffe5af-067d-4cbd-9049-d46b8575ac65",
   "metadata": {},
   "source": [
    "## Q5. What are some common functions you can use to manipulate data in a Pandas DataFrame? Can you give an example of when you might use one of these functions?\n",
    "## SOLUTION:"
   ]
  },
  {
   "cell_type": "markdown",
   "id": "68ddabad-0d22-4352-a170-37c883fa201d",
   "metadata": {},
   "source": [
    "## 1.head() and tail()\n",
    "\n",
    "Example: df.head() returns the first 5 rows of the DataFrame. This is useful to quickly inspect the beginning of the dataset.\n",
    "## 2.info() and describe()\n",
    "\n",
    "Example: df.info() provides a concise summary of the DataFrame, including data types and missing values. df.describe() gives statistical information such as mean, standard deviation, and quartiles.\n",
    "## 3.shape\n",
    "\n",
    "Example: df.shape returns a tuple representing the dimensions of the DataFrame (number of rows, number of columns).\n",
    "## 4.loc[] and iloc[]\n",
    "\n",
    "Example: df.loc[row_label, col_label] and df.iloc[row_index, col_index] are used for label-based and integer-based indexing, respectively. This allows you to access and modify specific elements in the DataFrame.\n",
    "## 5.drop()\n",
    "\n",
    "Example: df.drop(columns=['Column1', 'Column2']) removes specified columns from the DataFrame. This is useful when you want to eliminate unnecessary features.\n",
    "\n",
    "## 6.fillna()\n",
    "\n",
    "Example: df.fillna(value) fills in missing values with the specified value. This is important for handling missing data in a DataFrame.\n",
    "## 7.groupby()\n",
    "\n",
    "Example: df.groupby('Category').mean() groups the DataFrame by a specified column ('Category' in this case) and calculates the mean for each group. This is useful for aggregation and summary statistics.\n",
    "## 8.merge()\n",
    "\n",
    "Example: pd.merge(df1, df2, on='key') merges two DataFrames (df1 and df2) based on a common column ('key' in this case). This is useful for combining information from multiple sources.\n",
    "## 9.sort_values()\n",
    "\n",
    "Example: df.sort_values(by='Column1', ascending=False) sorts the DataFrame based on the values in 'Column1' in descending order. This is useful for sorting data for better analysis."
   ]
  },
  {
   "cell_type": "markdown",
   "id": "889011f9-3240-4a81-ba7d-c0b6db3a6981",
   "metadata": {},
   "source": [
    "## Q6. Which of the following is mutable in nature Series, DataFrame, Panel?\n",
    "## SOLUTION:"
   ]
  },
  {
   "cell_type": "markdown",
   "id": "9c823be8-e723-4be3-8cc2-d0a047896158",
   "metadata": {},
   "source": [
    "## Series: A Pandas Series is mutable. You can modify the values in a Series after it has been created.\n",
    "\n",
    "## DataFrame: A Pandas DataFrame is mutable. You can add, delete, or modify columns, as well as change the values within the DataFrame.\n",
    "\n",
    "## Panel: The Panel class used to be a part of Pandas for handling three-dimensional data, but it has been deprecated since version 0.25.0. You are encouraged to use MultiIndex DataFrames instead. If you encounter a situation where you need a three-dimensional data structure, you can use a DataFrame with a MultiIndex.\n",
    "\n",
    "## So, both Series and DataFrame are mutable in nature."
   ]
  },
  {
   "cell_type": "markdown",
   "id": "39bfb70c-4e83-4c02-8da9-a3d18c223cd2",
   "metadata": {},
   "source": [
    "## Q7. Create a DataFrame using multiple Series. Explain with an example.\n",
    "## SOLUTION:"
   ]
  },
  {
   "cell_type": "code",
   "execution_count": 16,
   "id": "12443e69-db13-4d9e-b597-1094faae128c",
   "metadata": {},
   "outputs": [],
   "source": [
    "series1 = pd.Series([1,2,3,4])"
   ]
  },
  {
   "cell_type": "code",
   "execution_count": 17,
   "id": "b4968853-533e-4eb2-a778-94827253b4bd",
   "metadata": {},
   "outputs": [],
   "source": [
    "series2 = pd.Series([5,6,7,8,])"
   ]
  },
  {
   "cell_type": "code",
   "execution_count": 18,
   "id": "fc1ad913-09a3-4c3f-9af3-d66540e08ad5",
   "metadata": {},
   "outputs": [],
   "source": [
    "series3 = pd.Series([9,10,11,12])"
   ]
  },
  {
   "cell_type": "code",
   "execution_count": 19,
   "id": "9eea5b36-3409-4b5f-872c-5e272f372af5",
   "metadata": {},
   "outputs": [
    {
     "data": {
      "text/plain": [
       "0    1\n",
       "1    2\n",
       "2    3\n",
       "3    4\n",
       "dtype: int64"
      ]
     },
     "execution_count": 19,
     "metadata": {},
     "output_type": "execute_result"
    }
   ],
   "source": [
    "series1"
   ]
  },
  {
   "cell_type": "code",
   "execution_count": 20,
   "id": "69d34bf1-77d0-4d53-a1d9-c9efd2b0e4b0",
   "metadata": {},
   "outputs": [
    {
     "data": {
      "text/plain": [
       "0    5\n",
       "1    6\n",
       "2    7\n",
       "3    8\n",
       "dtype: int64"
      ]
     },
     "execution_count": 20,
     "metadata": {},
     "output_type": "execute_result"
    }
   ],
   "source": [
    "series2"
   ]
  },
  {
   "cell_type": "code",
   "execution_count": 21,
   "id": "50095c35-4d2b-4665-9c14-58f2c654b78d",
   "metadata": {},
   "outputs": [
    {
     "data": {
      "text/plain": [
       "0     9\n",
       "1    10\n",
       "2    11\n",
       "3    12\n",
       "dtype: int64"
      ]
     },
     "execution_count": 21,
     "metadata": {},
     "output_type": "execute_result"
    }
   ],
   "source": [
    "series3"
   ]
  },
  {
   "cell_type": "code",
   "execution_count": 23,
   "id": "9f7dfee8-1c0c-4f11-9d11-b2ca8b6855bd",
   "metadata": {},
   "outputs": [],
   "source": [
    "new_data = pd.DataFrame([series1,series2,series3])"
   ]
  },
  {
   "cell_type": "code",
   "execution_count": 24,
   "id": "f4e96298-0e48-4081-9690-67cde117a535",
   "metadata": {},
   "outputs": [
    {
     "data": {
      "text/html": [
       "<div>\n",
       "<style scoped>\n",
       "    .dataframe tbody tr th:only-of-type {\n",
       "        vertical-align: middle;\n",
       "    }\n",
       "\n",
       "    .dataframe tbody tr th {\n",
       "        vertical-align: top;\n",
       "    }\n",
       "\n",
       "    .dataframe thead th {\n",
       "        text-align: right;\n",
       "    }\n",
       "</style>\n",
       "<table border=\"1\" class=\"dataframe\">\n",
       "  <thead>\n",
       "    <tr style=\"text-align: right;\">\n",
       "      <th></th>\n",
       "      <th>0</th>\n",
       "      <th>1</th>\n",
       "      <th>2</th>\n",
       "      <th>3</th>\n",
       "    </tr>\n",
       "  </thead>\n",
       "  <tbody>\n",
       "    <tr>\n",
       "      <th>0</th>\n",
       "      <td>1</td>\n",
       "      <td>2</td>\n",
       "      <td>3</td>\n",
       "      <td>4</td>\n",
       "    </tr>\n",
       "    <tr>\n",
       "      <th>1</th>\n",
       "      <td>5</td>\n",
       "      <td>6</td>\n",
       "      <td>7</td>\n",
       "      <td>8</td>\n",
       "    </tr>\n",
       "    <tr>\n",
       "      <th>2</th>\n",
       "      <td>9</td>\n",
       "      <td>10</td>\n",
       "      <td>11</td>\n",
       "      <td>12</td>\n",
       "    </tr>\n",
       "  </tbody>\n",
       "</table>\n",
       "</div>"
      ],
      "text/plain": [
       "   0   1   2   3\n",
       "0  1   2   3   4\n",
       "1  5   6   7   8\n",
       "2  9  10  11  12"
      ]
     },
     "execution_count": 24,
     "metadata": {},
     "output_type": "execute_result"
    }
   ],
   "source": [
    "new_data"
   ]
  },
  {
   "cell_type": "code",
   "execution_count": null,
   "id": "0608f74b-e05b-4032-953f-d3431ee3e53f",
   "metadata": {},
   "outputs": [],
   "source": []
  }
 ],
 "metadata": {
  "kernelspec": {
   "display_name": "Python 3 (ipykernel)",
   "language": "python",
   "name": "python3"
  },
  "language_info": {
   "codemirror_mode": {
    "name": "ipython",
    "version": 3
   },
   "file_extension": ".py",
   "mimetype": "text/x-python",
   "name": "python",
   "nbconvert_exporter": "python",
   "pygments_lexer": "ipython3",
   "version": "3.10.8"
  }
 },
 "nbformat": 4,
 "nbformat_minor": 5
}
