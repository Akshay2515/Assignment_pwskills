{
 "cells": [
  {
   "cell_type": "markdown",
   "id": "638c8107-8e30-4820-8d9f-465ab21d9c20",
   "metadata": {},
   "source": [
    "# PANDAS_ASSIGNMENT ADVANCE-2"
   ]
  },
  {
   "cell_type": "markdown",
   "id": "ea4185d3-b019-4492-bbf8-15f1eb0d8c5b",
   "metadata": {},
   "source": [
    "## Consider following code to answer further questions:"
   ]
  },
  {
   "cell_type": "code",
   "execution_count": null,
   "id": "adae469e-7292-4401-85ee-dc59cfa52725",
   "metadata": {},
   "outputs": [],
   "source": [
    "import pandas as pd\n",
    "course_name = [‘Data Science’, ‘Machine Learning’, ‘Big Data’, ‘Data Engineer’]\n",
    "duration = [2,3,6,4]\n",
    "df = pd.DataFrame(data = {‘course_name’ : course_name, ‘duration’ : duration})"
   ]
  },
  {
   "cell_type": "markdown",
   "id": "3171637a-0698-407f-94f7-dc5db061fa0d",
   "metadata": {},
   "source": [
    "## Q1. Write a code to print the data present in the second row of the dataframe, df.\n",
    "## solution:"
   ]
  },
  {
   "cell_type": "code",
   "execution_count": 2,
   "id": "6267b754-ee1a-4b6a-bff4-380e04d10682",
   "metadata": {},
   "outputs": [],
   "source": [
    "import pandas as pd\n",
    "course_name = ['Data Science', 'Machine Learning', 'Big Data', 'Data Engineer']\n",
    "duration = [2,3,6,4]\n",
    "df = pd.DataFrame(data = {'course_name' : course_name, 'duration' : duration})"
   ]
  },
  {
   "cell_type": "code",
   "execution_count": 3,
   "id": "92ce6a5d-234e-45b1-a384-5ee5075a9c9e",
   "metadata": {},
   "outputs": [
    {
     "data": {
      "text/html": [
       "<div>\n",
       "<style scoped>\n",
       "    .dataframe tbody tr th:only-of-type {\n",
       "        vertical-align: middle;\n",
       "    }\n",
       "\n",
       "    .dataframe tbody tr th {\n",
       "        vertical-align: top;\n",
       "    }\n",
       "\n",
       "    .dataframe thead th {\n",
       "        text-align: right;\n",
       "    }\n",
       "</style>\n",
       "<table border=\"1\" class=\"dataframe\">\n",
       "  <thead>\n",
       "    <tr style=\"text-align: right;\">\n",
       "      <th></th>\n",
       "      <th>course_name</th>\n",
       "      <th>duration</th>\n",
       "    </tr>\n",
       "  </thead>\n",
       "  <tbody>\n",
       "    <tr>\n",
       "      <th>0</th>\n",
       "      <td>Data Science</td>\n",
       "      <td>2</td>\n",
       "    </tr>\n",
       "    <tr>\n",
       "      <th>1</th>\n",
       "      <td>Machine Learning</td>\n",
       "      <td>3</td>\n",
       "    </tr>\n",
       "    <tr>\n",
       "      <th>2</th>\n",
       "      <td>Big Data</td>\n",
       "      <td>6</td>\n",
       "    </tr>\n",
       "    <tr>\n",
       "      <th>3</th>\n",
       "      <td>Data Engineer</td>\n",
       "      <td>4</td>\n",
       "    </tr>\n",
       "  </tbody>\n",
       "</table>\n",
       "</div>"
      ],
      "text/plain": [
       "        course_name  duration\n",
       "0      Data Science         2\n",
       "1  Machine Learning         3\n",
       "2          Big Data         6\n",
       "3     Data Engineer         4"
      ]
     },
     "execution_count": 3,
     "metadata": {},
     "output_type": "execute_result"
    }
   ],
   "source": [
    "df"
   ]
  },
  {
   "cell_type": "code",
   "execution_count": 5,
   "id": "277ab48d-e4fc-4d1e-8328-ac653c02ca84",
   "metadata": {},
   "outputs": [
    {
     "data": {
      "text/plain": [
       "course_name    Big Data\n",
       "duration              6\n",
       "Name: 2, dtype: object"
      ]
     },
     "execution_count": 5,
     "metadata": {},
     "output_type": "execute_result"
    }
   ],
   "source": [
    "df.iloc[2] ## second row data"
   ]
  },
  {
   "cell_type": "markdown",
   "id": "d9d20de0-789f-413b-a399-f94a3ae08dcf",
   "metadata": {},
   "source": [
    "## Q2. What is the difference between the functions loc and iloc in pandas.DataFrame?\n",
    "## solution:"
   ]
  },
  {
   "cell_type": "markdown",
   "id": "913059ce-c660-454c-a7e1-3ba59c996018",
   "metadata": {},
   "source": [
    "## loc uses labels, so you specify the actual labels of rows and columns.\n",
    "## iloc uses integer indices, so you specify the numerical positions of rows and columns."
   ]
  },
  {
   "cell_type": "markdown",
   "id": "59d97c46-5d67-4ed7-9d1b-e4acef941532",
   "metadata": {},
   "source": [
    "## Q3. Reindex the given dataframe using a variable, reindex = [3,0,1,2] and store it in the variable, new_df then find the output for both new_df.loc[2] and new_df.iloc[2].\n",
    "## solution:"
   ]
  },
  {
   "cell_type": "code",
   "execution_count": 6,
   "id": "158d53a6-7a54-4782-ba94-1198924579f6",
   "metadata": {},
   "outputs": [
    {
     "data": {
      "text/html": [
       "<div>\n",
       "<style scoped>\n",
       "    .dataframe tbody tr th:only-of-type {\n",
       "        vertical-align: middle;\n",
       "    }\n",
       "\n",
       "    .dataframe tbody tr th {\n",
       "        vertical-align: top;\n",
       "    }\n",
       "\n",
       "    .dataframe thead th {\n",
       "        text-align: right;\n",
       "    }\n",
       "</style>\n",
       "<table border=\"1\" class=\"dataframe\">\n",
       "  <thead>\n",
       "    <tr style=\"text-align: right;\">\n",
       "      <th></th>\n",
       "      <th>course_name</th>\n",
       "      <th>duration</th>\n",
       "    </tr>\n",
       "  </thead>\n",
       "  <tbody>\n",
       "    <tr>\n",
       "      <th>3</th>\n",
       "      <td>Data Engineer</td>\n",
       "      <td>4</td>\n",
       "    </tr>\n",
       "    <tr>\n",
       "      <th>0</th>\n",
       "      <td>Data Science</td>\n",
       "      <td>2</td>\n",
       "    </tr>\n",
       "    <tr>\n",
       "      <th>1</th>\n",
       "      <td>Machine Learning</td>\n",
       "      <td>3</td>\n",
       "    </tr>\n",
       "    <tr>\n",
       "      <th>2</th>\n",
       "      <td>Big Data</td>\n",
       "      <td>6</td>\n",
       "    </tr>\n",
       "  </tbody>\n",
       "</table>\n",
       "</div>"
      ],
      "text/plain": [
       "        course_name  duration\n",
       "3     Data Engineer         4\n",
       "0      Data Science         2\n",
       "1  Machine Learning         3\n",
       "2          Big Data         6"
      ]
     },
     "execution_count": 6,
     "metadata": {},
     "output_type": "execute_result"
    }
   ],
   "source": [
    "df.reindex([3,0,1,2])"
   ]
  },
  {
   "cell_type": "code",
   "execution_count": 7,
   "id": "36840254-7633-4a2f-a9d6-9f91f3cd8e79",
   "metadata": {},
   "outputs": [],
   "source": [
    "new_df = df.reindex([3,0,1,2])"
   ]
  },
  {
   "cell_type": "code",
   "execution_count": 8,
   "id": "a87dfb77-04df-4669-8905-b8fcef1929cc",
   "metadata": {},
   "outputs": [
    {
     "data": {
      "text/html": [
       "<div>\n",
       "<style scoped>\n",
       "    .dataframe tbody tr th:only-of-type {\n",
       "        vertical-align: middle;\n",
       "    }\n",
       "\n",
       "    .dataframe tbody tr th {\n",
       "        vertical-align: top;\n",
       "    }\n",
       "\n",
       "    .dataframe thead th {\n",
       "        text-align: right;\n",
       "    }\n",
       "</style>\n",
       "<table border=\"1\" class=\"dataframe\">\n",
       "  <thead>\n",
       "    <tr style=\"text-align: right;\">\n",
       "      <th></th>\n",
       "      <th>course_name</th>\n",
       "      <th>duration</th>\n",
       "    </tr>\n",
       "  </thead>\n",
       "  <tbody>\n",
       "    <tr>\n",
       "      <th>3</th>\n",
       "      <td>Data Engineer</td>\n",
       "      <td>4</td>\n",
       "    </tr>\n",
       "    <tr>\n",
       "      <th>0</th>\n",
       "      <td>Data Science</td>\n",
       "      <td>2</td>\n",
       "    </tr>\n",
       "    <tr>\n",
       "      <th>1</th>\n",
       "      <td>Machine Learning</td>\n",
       "      <td>3</td>\n",
       "    </tr>\n",
       "    <tr>\n",
       "      <th>2</th>\n",
       "      <td>Big Data</td>\n",
       "      <td>6</td>\n",
       "    </tr>\n",
       "  </tbody>\n",
       "</table>\n",
       "</div>"
      ],
      "text/plain": [
       "        course_name  duration\n",
       "3     Data Engineer         4\n",
       "0      Data Science         2\n",
       "1  Machine Learning         3\n",
       "2          Big Data         6"
      ]
     },
     "execution_count": 8,
     "metadata": {},
     "output_type": "execute_result"
    }
   ],
   "source": [
    "new_df"
   ]
  },
  {
   "cell_type": "code",
   "execution_count": 9,
   "id": "5e1c06f2-9c3a-4de9-a62d-23adfaa1ed46",
   "metadata": {},
   "outputs": [
    {
     "data": {
      "text/plain": [
       "course_name    Machine Learning\n",
       "duration                      3\n",
       "Name: 1, dtype: object"
      ]
     },
     "execution_count": 9,
     "metadata": {},
     "output_type": "execute_result"
    }
   ],
   "source": [
    "new_df.iloc[2]"
   ]
  },
  {
   "cell_type": "code",
   "execution_count": 10,
   "id": "d9ecc2f3-0aad-40e7-822e-f16e05e1f2cd",
   "metadata": {},
   "outputs": [
    {
     "data": {
      "text/plain": [
       "course_name    Big Data\n",
       "duration              6\n",
       "Name: 2, dtype: object"
      ]
     },
     "execution_count": 10,
     "metadata": {},
     "output_type": "execute_result"
    }
   ],
   "source": [
    "new_df.loc[2]"
   ]
  },
  {
   "cell_type": "markdown",
   "id": "47f833c8-3dea-4b5f-a7bf-d84f99acc4ef",
   "metadata": {},
   "source": [
    "## Did you observe any difference in both the outputs? If so then explain it."
   ]
  },
  {
   "cell_type": "markdown",
   "id": "99a90e19-f148-4941-a6ac-f7f2cc280a3d",
   "metadata": {},
   "source": [
    "## yes In iloc[2] function will return the index value and loc[2] will return the value present at label 2"
   ]
  },
  {
   "cell_type": "markdown",
   "id": "1dfce9cb-1cea-4f7b-a6e5-dba11ad6af05",
   "metadata": {},
   "source": [
    "## Consider the below code to answer further questions:"
   ]
  },
  {
   "cell_type": "code",
   "execution_count": 11,
   "id": "bff0302c-2609-423f-9715-d192779f9abf",
   "metadata": {},
   "outputs": [],
   "source": [
    "import pandas as pd\n",
    "import numpy as np\n",
    "columns = ['column_1', 'column_2', 'column_3', 'column_4', 'column_5', 'column_6']\n",
    "indices = [1,2,3,4,5,6]\n",
    "#Creating a dataframe:\n",
    "df1 = pd.DataFrame(np.random.rand(6,6), columns = columns, index = indices)"
   ]
  },
  {
   "cell_type": "code",
   "execution_count": 12,
   "id": "118f2925-add3-4484-ad9b-0b726d605bd8",
   "metadata": {},
   "outputs": [
    {
     "data": {
      "text/html": [
       "<div>\n",
       "<style scoped>\n",
       "    .dataframe tbody tr th:only-of-type {\n",
       "        vertical-align: middle;\n",
       "    }\n",
       "\n",
       "    .dataframe tbody tr th {\n",
       "        vertical-align: top;\n",
       "    }\n",
       "\n",
       "    .dataframe thead th {\n",
       "        text-align: right;\n",
       "    }\n",
       "</style>\n",
       "<table border=\"1\" class=\"dataframe\">\n",
       "  <thead>\n",
       "    <tr style=\"text-align: right;\">\n",
       "      <th></th>\n",
       "      <th>column_1</th>\n",
       "      <th>column_2</th>\n",
       "      <th>column_3</th>\n",
       "      <th>column_4</th>\n",
       "      <th>column_5</th>\n",
       "      <th>column_6</th>\n",
       "    </tr>\n",
       "  </thead>\n",
       "  <tbody>\n",
       "    <tr>\n",
       "      <th>1</th>\n",
       "      <td>0.783770</td>\n",
       "      <td>0.925464</td>\n",
       "      <td>0.558862</td>\n",
       "      <td>0.602397</td>\n",
       "      <td>0.110009</td>\n",
       "      <td>0.123781</td>\n",
       "    </tr>\n",
       "    <tr>\n",
       "      <th>2</th>\n",
       "      <td>0.111911</td>\n",
       "      <td>0.101631</td>\n",
       "      <td>0.272288</td>\n",
       "      <td>0.387603</td>\n",
       "      <td>0.999477</td>\n",
       "      <td>0.890101</td>\n",
       "    </tr>\n",
       "    <tr>\n",
       "      <th>3</th>\n",
       "      <td>0.045957</td>\n",
       "      <td>0.729317</td>\n",
       "      <td>0.427419</td>\n",
       "      <td>0.164914</td>\n",
       "      <td>0.442436</td>\n",
       "      <td>0.941158</td>\n",
       "    </tr>\n",
       "    <tr>\n",
       "      <th>4</th>\n",
       "      <td>0.831275</td>\n",
       "      <td>0.144660</td>\n",
       "      <td>0.011303</td>\n",
       "      <td>0.694277</td>\n",
       "      <td>0.831114</td>\n",
       "      <td>0.840175</td>\n",
       "    </tr>\n",
       "    <tr>\n",
       "      <th>5</th>\n",
       "      <td>0.830342</td>\n",
       "      <td>0.651302</td>\n",
       "      <td>0.795675</td>\n",
       "      <td>0.607045</td>\n",
       "      <td>0.075532</td>\n",
       "      <td>0.564200</td>\n",
       "    </tr>\n",
       "    <tr>\n",
       "      <th>6</th>\n",
       "      <td>0.856850</td>\n",
       "      <td>0.335978</td>\n",
       "      <td>0.410314</td>\n",
       "      <td>0.294879</td>\n",
       "      <td>0.672477</td>\n",
       "      <td>0.078530</td>\n",
       "    </tr>\n",
       "  </tbody>\n",
       "</table>\n",
       "</div>"
      ],
      "text/plain": [
       "   column_1  column_2  column_3  column_4  column_5  column_6\n",
       "1  0.783770  0.925464  0.558862  0.602397  0.110009  0.123781\n",
       "2  0.111911  0.101631  0.272288  0.387603  0.999477  0.890101\n",
       "3  0.045957  0.729317  0.427419  0.164914  0.442436  0.941158\n",
       "4  0.831275  0.144660  0.011303  0.694277  0.831114  0.840175\n",
       "5  0.830342  0.651302  0.795675  0.607045  0.075532  0.564200\n",
       "6  0.856850  0.335978  0.410314  0.294879  0.672477  0.078530"
      ]
     },
     "execution_count": 12,
     "metadata": {},
     "output_type": "execute_result"
    }
   ],
   "source": [
    "df1"
   ]
  },
  {
   "cell_type": "markdown",
   "id": "45ab49d3-5777-48d3-afcd-0eea0e85491a",
   "metadata": {},
   "source": [
    "## Q4. Write a code to find the following statistical measurements for the above dataframe df1:\n",
    "(i) mean of each and every column present in the dataframe.\n",
    "(ii) standard deviation of column, ‘column_2’"
   ]
  },
  {
   "cell_type": "code",
   "execution_count": 13,
   "id": "f63dfb4d-d56e-42ff-af39-1947d8ec593f",
   "metadata": {},
   "outputs": [
    {
     "data": {
      "text/plain": [
       "column_1    0.576684\n",
       "column_2    0.481392\n",
       "column_3    0.412643\n",
       "column_4    0.458519\n",
       "column_5    0.521841\n",
       "column_6    0.572991\n",
       "dtype: float64"
      ]
     },
     "execution_count": 13,
     "metadata": {},
     "output_type": "execute_result"
    }
   ],
   "source": [
    "df1.mean()"
   ]
  },
  {
   "cell_type": "code",
   "execution_count": 16,
   "id": "a87815d2-ed0c-4086-a3c5-c0b15bc3a75e",
   "metadata": {},
   "outputs": [
    {
     "data": {
      "text/plain": [
       "0.33653759023691165"
      ]
     },
     "execution_count": 16,
     "metadata": {},
     "output_type": "execute_result"
    }
   ],
   "source": [
    "df1['column_2'].std()"
   ]
  },
  {
   "cell_type": "markdown",
   "id": "d6b39d4e-8ec9-491f-bae9-625755588606",
   "metadata": {},
   "source": [
    "## Q5. Replace the data present in the second row of column, ‘column_2’ by a string variable then find the mean of column, column_2.\n",
    "If you are getting errors in executing it then explain why.\n",
    "[Hint: To replace the data use df1.loc[] and equate this to string data of your choice.]"
   ]
  },
  {
   "cell_type": "code",
   "execution_count": 17,
   "id": "e0dc8b19-2ee0-458d-84f8-b48e1e2bc53c",
   "metadata": {},
   "outputs": [
    {
     "data": {
      "text/html": [
       "<div>\n",
       "<style scoped>\n",
       "    .dataframe tbody tr th:only-of-type {\n",
       "        vertical-align: middle;\n",
       "    }\n",
       "\n",
       "    .dataframe tbody tr th {\n",
       "        vertical-align: top;\n",
       "    }\n",
       "\n",
       "    .dataframe thead th {\n",
       "        text-align: right;\n",
       "    }\n",
       "</style>\n",
       "<table border=\"1\" class=\"dataframe\">\n",
       "  <thead>\n",
       "    <tr style=\"text-align: right;\">\n",
       "      <th></th>\n",
       "      <th>column_1</th>\n",
       "      <th>column_2</th>\n",
       "      <th>column_3</th>\n",
       "      <th>column_4</th>\n",
       "      <th>column_5</th>\n",
       "      <th>column_6</th>\n",
       "    </tr>\n",
       "  </thead>\n",
       "  <tbody>\n",
       "    <tr>\n",
       "      <th>1</th>\n",
       "      <td>0.783770</td>\n",
       "      <td>0.925464</td>\n",
       "      <td>0.558862</td>\n",
       "      <td>0.602397</td>\n",
       "      <td>0.110009</td>\n",
       "      <td>0.123781</td>\n",
       "    </tr>\n",
       "    <tr>\n",
       "      <th>2</th>\n",
       "      <td>0.111911</td>\n",
       "      <td>0.101631</td>\n",
       "      <td>0.272288</td>\n",
       "      <td>0.387603</td>\n",
       "      <td>0.999477</td>\n",
       "      <td>0.890101</td>\n",
       "    </tr>\n",
       "    <tr>\n",
       "      <th>3</th>\n",
       "      <td>0.045957</td>\n",
       "      <td>0.729317</td>\n",
       "      <td>0.427419</td>\n",
       "      <td>0.164914</td>\n",
       "      <td>0.442436</td>\n",
       "      <td>0.941158</td>\n",
       "    </tr>\n",
       "    <tr>\n",
       "      <th>4</th>\n",
       "      <td>0.831275</td>\n",
       "      <td>0.144660</td>\n",
       "      <td>0.011303</td>\n",
       "      <td>0.694277</td>\n",
       "      <td>0.831114</td>\n",
       "      <td>0.840175</td>\n",
       "    </tr>\n",
       "    <tr>\n",
       "      <th>5</th>\n",
       "      <td>0.830342</td>\n",
       "      <td>0.651302</td>\n",
       "      <td>0.795675</td>\n",
       "      <td>0.607045</td>\n",
       "      <td>0.075532</td>\n",
       "      <td>0.564200</td>\n",
       "    </tr>\n",
       "    <tr>\n",
       "      <th>6</th>\n",
       "      <td>0.856850</td>\n",
       "      <td>0.335978</td>\n",
       "      <td>0.410314</td>\n",
       "      <td>0.294879</td>\n",
       "      <td>0.672477</td>\n",
       "      <td>0.078530</td>\n",
       "    </tr>\n",
       "  </tbody>\n",
       "</table>\n",
       "</div>"
      ],
      "text/plain": [
       "   column_1  column_2  column_3  column_4  column_5  column_6\n",
       "1  0.783770  0.925464  0.558862  0.602397  0.110009  0.123781\n",
       "2  0.111911  0.101631  0.272288  0.387603  0.999477  0.890101\n",
       "3  0.045957  0.729317  0.427419  0.164914  0.442436  0.941158\n",
       "4  0.831275  0.144660  0.011303  0.694277  0.831114  0.840175\n",
       "5  0.830342  0.651302  0.795675  0.607045  0.075532  0.564200\n",
       "6  0.856850  0.335978  0.410314  0.294879  0.672477  0.078530"
      ]
     },
     "execution_count": 17,
     "metadata": {},
     "output_type": "execute_result"
    }
   ],
   "source": [
    "df1"
   ]
  },
  {
   "cell_type": "code",
   "execution_count": 20,
   "id": "f221309a-a929-4e09-8774-3f08727b3453",
   "metadata": {},
   "outputs": [],
   "source": [
    "df1.loc[2,['column_2']] = 'Akshay'"
   ]
  },
  {
   "cell_type": "code",
   "execution_count": 21,
   "id": "d4060993-7181-4767-b6ec-f793093458eb",
   "metadata": {},
   "outputs": [
    {
     "data": {
      "text/html": [
       "<div>\n",
       "<style scoped>\n",
       "    .dataframe tbody tr th:only-of-type {\n",
       "        vertical-align: middle;\n",
       "    }\n",
       "\n",
       "    .dataframe tbody tr th {\n",
       "        vertical-align: top;\n",
       "    }\n",
       "\n",
       "    .dataframe thead th {\n",
       "        text-align: right;\n",
       "    }\n",
       "</style>\n",
       "<table border=\"1\" class=\"dataframe\">\n",
       "  <thead>\n",
       "    <tr style=\"text-align: right;\">\n",
       "      <th></th>\n",
       "      <th>column_1</th>\n",
       "      <th>column_2</th>\n",
       "      <th>column_3</th>\n",
       "      <th>column_4</th>\n",
       "      <th>column_5</th>\n",
       "      <th>column_6</th>\n",
       "    </tr>\n",
       "  </thead>\n",
       "  <tbody>\n",
       "    <tr>\n",
       "      <th>1</th>\n",
       "      <td>0.783770</td>\n",
       "      <td>0.925464</td>\n",
       "      <td>0.558862</td>\n",
       "      <td>0.602397</td>\n",
       "      <td>0.110009</td>\n",
       "      <td>0.123781</td>\n",
       "    </tr>\n",
       "    <tr>\n",
       "      <th>2</th>\n",
       "      <td>0.111911</td>\n",
       "      <td>Akshay</td>\n",
       "      <td>0.272288</td>\n",
       "      <td>0.387603</td>\n",
       "      <td>0.999477</td>\n",
       "      <td>0.890101</td>\n",
       "    </tr>\n",
       "    <tr>\n",
       "      <th>3</th>\n",
       "      <td>0.045957</td>\n",
       "      <td>0.729317</td>\n",
       "      <td>0.427419</td>\n",
       "      <td>0.164914</td>\n",
       "      <td>0.442436</td>\n",
       "      <td>0.941158</td>\n",
       "    </tr>\n",
       "    <tr>\n",
       "      <th>4</th>\n",
       "      <td>0.831275</td>\n",
       "      <td>0.14466</td>\n",
       "      <td>0.011303</td>\n",
       "      <td>0.694277</td>\n",
       "      <td>0.831114</td>\n",
       "      <td>0.840175</td>\n",
       "    </tr>\n",
       "    <tr>\n",
       "      <th>5</th>\n",
       "      <td>0.830342</td>\n",
       "      <td>0.651302</td>\n",
       "      <td>0.795675</td>\n",
       "      <td>0.607045</td>\n",
       "      <td>0.075532</td>\n",
       "      <td>0.564200</td>\n",
       "    </tr>\n",
       "    <tr>\n",
       "      <th>6</th>\n",
       "      <td>0.856850</td>\n",
       "      <td>0.335978</td>\n",
       "      <td>0.410314</td>\n",
       "      <td>0.294879</td>\n",
       "      <td>0.672477</td>\n",
       "      <td>0.078530</td>\n",
       "    </tr>\n",
       "  </tbody>\n",
       "</table>\n",
       "</div>"
      ],
      "text/plain": [
       "   column_1  column_2  column_3  column_4  column_5  column_6\n",
       "1  0.783770  0.925464  0.558862  0.602397  0.110009  0.123781\n",
       "2  0.111911    Akshay  0.272288  0.387603  0.999477  0.890101\n",
       "3  0.045957  0.729317  0.427419  0.164914  0.442436  0.941158\n",
       "4  0.831275   0.14466  0.011303  0.694277  0.831114  0.840175\n",
       "5  0.830342  0.651302  0.795675  0.607045  0.075532  0.564200\n",
       "6  0.856850  0.335978  0.410314  0.294879  0.672477  0.078530"
      ]
     },
     "execution_count": 21,
     "metadata": {},
     "output_type": "execute_result"
    }
   ],
   "source": [
    "df1"
   ]
  },
  {
   "cell_type": "code",
   "execution_count": 23,
   "id": "f0ea588a-d1d9-4866-82de-e24fa0e3b304",
   "metadata": {},
   "outputs": [
    {
     "ename": "TypeError",
     "evalue": "unsupported operand type(s) for +: 'float' and 'str'",
     "output_type": "error",
     "traceback": [
      "\u001b[0;31m---------------------------------------------------------------------------\u001b[0m",
      "\u001b[0;31mTypeError\u001b[0m                                 Traceback (most recent call last)",
      "Cell \u001b[0;32mIn[23], line 1\u001b[0m\n\u001b[0;32m----> 1\u001b[0m \u001b[43mdf1\u001b[49m\u001b[43m[\u001b[49m\u001b[38;5;124;43m'\u001b[39;49m\u001b[38;5;124;43mcolumn_2\u001b[39;49m\u001b[38;5;124;43m'\u001b[39;49m\u001b[43m]\u001b[49m\u001b[38;5;241;43m.\u001b[39;49m\u001b[43mmean\u001b[49m\u001b[43m(\u001b[49m\u001b[43m)\u001b[49m\n",
      "File \u001b[0;32m/opt/conda/lib/python3.10/site-packages/pandas/core/generic.py:11847\u001b[0m, in \u001b[0;36mNDFrame._add_numeric_operations.<locals>.mean\u001b[0;34m(self, axis, skipna, level, numeric_only, **kwargs)\u001b[0m\n\u001b[1;32m  11829\u001b[0m \u001b[38;5;129m@doc\u001b[39m(\n\u001b[1;32m  11830\u001b[0m     _num_doc,\n\u001b[1;32m  11831\u001b[0m     desc\u001b[38;5;241m=\u001b[39m\u001b[38;5;124m\"\u001b[39m\u001b[38;5;124mReturn the mean of the values over the requested axis.\u001b[39m\u001b[38;5;124m\"\u001b[39m,\n\u001b[0;32m   (...)\u001b[0m\n\u001b[1;32m  11845\u001b[0m     \u001b[38;5;241m*\u001b[39m\u001b[38;5;241m*\u001b[39mkwargs,\n\u001b[1;32m  11846\u001b[0m ):\n\u001b[0;32m> 11847\u001b[0m     \u001b[38;5;28;01mreturn\u001b[39;00m \u001b[43mNDFrame\u001b[49m\u001b[38;5;241;43m.\u001b[39;49m\u001b[43mmean\u001b[49m\u001b[43m(\u001b[49m\u001b[38;5;28;43mself\u001b[39;49m\u001b[43m,\u001b[49m\u001b[43m \u001b[49m\u001b[43maxis\u001b[49m\u001b[43m,\u001b[49m\u001b[43m \u001b[49m\u001b[43mskipna\u001b[49m\u001b[43m,\u001b[49m\u001b[43m \u001b[49m\u001b[43mlevel\u001b[49m\u001b[43m,\u001b[49m\u001b[43m \u001b[49m\u001b[43mnumeric_only\u001b[49m\u001b[43m,\u001b[49m\u001b[43m \u001b[49m\u001b[38;5;241;43m*\u001b[39;49m\u001b[38;5;241;43m*\u001b[39;49m\u001b[43mkwargs\u001b[49m\u001b[43m)\u001b[49m\n",
      "File \u001b[0;32m/opt/conda/lib/python3.10/site-packages/pandas/core/generic.py:11401\u001b[0m, in \u001b[0;36mNDFrame.mean\u001b[0;34m(self, axis, skipna, level, numeric_only, **kwargs)\u001b[0m\n\u001b[1;32m  11393\u001b[0m \u001b[38;5;28;01mdef\u001b[39;00m \u001b[38;5;21mmean\u001b[39m(\n\u001b[1;32m  11394\u001b[0m     \u001b[38;5;28mself\u001b[39m,\n\u001b[1;32m  11395\u001b[0m     axis: Axis \u001b[38;5;241m|\u001b[39m \u001b[38;5;28;01mNone\u001b[39;00m \u001b[38;5;241m|\u001b[39m lib\u001b[38;5;241m.\u001b[39mNoDefault \u001b[38;5;241m=\u001b[39m lib\u001b[38;5;241m.\u001b[39mno_default,\n\u001b[0;32m   (...)\u001b[0m\n\u001b[1;32m  11399\u001b[0m     \u001b[38;5;241m*\u001b[39m\u001b[38;5;241m*\u001b[39mkwargs,\n\u001b[1;32m  11400\u001b[0m ) \u001b[38;5;241m-\u001b[39m\u001b[38;5;241m>\u001b[39m Series \u001b[38;5;241m|\u001b[39m \u001b[38;5;28mfloat\u001b[39m:\n\u001b[0;32m> 11401\u001b[0m     \u001b[38;5;28;01mreturn\u001b[39;00m \u001b[38;5;28;43mself\u001b[39;49m\u001b[38;5;241;43m.\u001b[39;49m\u001b[43m_stat_function\u001b[49m\u001b[43m(\u001b[49m\n\u001b[1;32m  11402\u001b[0m \u001b[43m        \u001b[49m\u001b[38;5;124;43m\"\u001b[39;49m\u001b[38;5;124;43mmean\u001b[39;49m\u001b[38;5;124;43m\"\u001b[39;49m\u001b[43m,\u001b[49m\u001b[43m \u001b[49m\u001b[43mnanops\u001b[49m\u001b[38;5;241;43m.\u001b[39;49m\u001b[43mnanmean\u001b[49m\u001b[43m,\u001b[49m\u001b[43m \u001b[49m\u001b[43maxis\u001b[49m\u001b[43m,\u001b[49m\u001b[43m \u001b[49m\u001b[43mskipna\u001b[49m\u001b[43m,\u001b[49m\u001b[43m \u001b[49m\u001b[43mlevel\u001b[49m\u001b[43m,\u001b[49m\u001b[43m \u001b[49m\u001b[43mnumeric_only\u001b[49m\u001b[43m,\u001b[49m\u001b[43m \u001b[49m\u001b[38;5;241;43m*\u001b[39;49m\u001b[38;5;241;43m*\u001b[39;49m\u001b[43mkwargs\u001b[49m\n\u001b[1;32m  11403\u001b[0m \u001b[43m    \u001b[49m\u001b[43m)\u001b[49m\n",
      "File \u001b[0;32m/opt/conda/lib/python3.10/site-packages/pandas/core/generic.py:11353\u001b[0m, in \u001b[0;36mNDFrame._stat_function\u001b[0;34m(self, name, func, axis, skipna, level, numeric_only, **kwargs)\u001b[0m\n\u001b[1;32m  11343\u001b[0m     warnings\u001b[38;5;241m.\u001b[39mwarn(\n\u001b[1;32m  11344\u001b[0m         \u001b[38;5;124m\"\u001b[39m\u001b[38;5;124mUsing the level keyword in DataFrame and Series aggregations is \u001b[39m\u001b[38;5;124m\"\u001b[39m\n\u001b[1;32m  11345\u001b[0m         \u001b[38;5;124m\"\u001b[39m\u001b[38;5;124mdeprecated and will be removed in a future version. Use groupby \u001b[39m\u001b[38;5;124m\"\u001b[39m\n\u001b[0;32m   (...)\u001b[0m\n\u001b[1;32m  11348\u001b[0m         stacklevel\u001b[38;5;241m=\u001b[39mfind_stack_level(),\n\u001b[1;32m  11349\u001b[0m     )\n\u001b[1;32m  11350\u001b[0m     \u001b[38;5;28;01mreturn\u001b[39;00m \u001b[38;5;28mself\u001b[39m\u001b[38;5;241m.\u001b[39m_agg_by_level(\n\u001b[1;32m  11351\u001b[0m         name, axis\u001b[38;5;241m=\u001b[39maxis, level\u001b[38;5;241m=\u001b[39mlevel, skipna\u001b[38;5;241m=\u001b[39mskipna, numeric_only\u001b[38;5;241m=\u001b[39mnumeric_only\n\u001b[1;32m  11352\u001b[0m     )\n\u001b[0;32m> 11353\u001b[0m \u001b[38;5;28;01mreturn\u001b[39;00m \u001b[38;5;28;43mself\u001b[39;49m\u001b[38;5;241;43m.\u001b[39;49m\u001b[43m_reduce\u001b[49m\u001b[43m(\u001b[49m\n\u001b[1;32m  11354\u001b[0m \u001b[43m    \u001b[49m\u001b[43mfunc\u001b[49m\u001b[43m,\u001b[49m\u001b[43m \u001b[49m\u001b[43mname\u001b[49m\u001b[38;5;241;43m=\u001b[39;49m\u001b[43mname\u001b[49m\u001b[43m,\u001b[49m\u001b[43m \u001b[49m\u001b[43maxis\u001b[49m\u001b[38;5;241;43m=\u001b[39;49m\u001b[43maxis\u001b[49m\u001b[43m,\u001b[49m\u001b[43m \u001b[49m\u001b[43mskipna\u001b[49m\u001b[38;5;241;43m=\u001b[39;49m\u001b[43mskipna\u001b[49m\u001b[43m,\u001b[49m\u001b[43m \u001b[49m\u001b[43mnumeric_only\u001b[49m\u001b[38;5;241;43m=\u001b[39;49m\u001b[43mnumeric_only\u001b[49m\n\u001b[1;32m  11355\u001b[0m \u001b[43m\u001b[49m\u001b[43m)\u001b[49m\n",
      "File \u001b[0;32m/opt/conda/lib/python3.10/site-packages/pandas/core/series.py:4816\u001b[0m, in \u001b[0;36mSeries._reduce\u001b[0;34m(self, op, name, axis, skipna, numeric_only, filter_type, **kwds)\u001b[0m\n\u001b[1;32m   4812\u001b[0m     \u001b[38;5;28;01mraise\u001b[39;00m \u001b[38;5;167;01mNotImplementedError\u001b[39;00m(\n\u001b[1;32m   4813\u001b[0m         \u001b[38;5;124mf\u001b[39m\u001b[38;5;124m\"\u001b[39m\u001b[38;5;124mSeries.\u001b[39m\u001b[38;5;132;01m{\u001b[39;00mname\u001b[38;5;132;01m}\u001b[39;00m\u001b[38;5;124m does not implement \u001b[39m\u001b[38;5;132;01m{\u001b[39;00mkwd_name\u001b[38;5;132;01m}\u001b[39;00m\u001b[38;5;124m.\u001b[39m\u001b[38;5;124m\"\u001b[39m\n\u001b[1;32m   4814\u001b[0m     )\n\u001b[1;32m   4815\u001b[0m \u001b[38;5;28;01mwith\u001b[39;00m np\u001b[38;5;241m.\u001b[39merrstate(\u001b[38;5;28mall\u001b[39m\u001b[38;5;241m=\u001b[39m\u001b[38;5;124m\"\u001b[39m\u001b[38;5;124mignore\u001b[39m\u001b[38;5;124m\"\u001b[39m):\n\u001b[0;32m-> 4816\u001b[0m     \u001b[38;5;28;01mreturn\u001b[39;00m \u001b[43mop\u001b[49m\u001b[43m(\u001b[49m\u001b[43mdelegate\u001b[49m\u001b[43m,\u001b[49m\u001b[43m \u001b[49m\u001b[43mskipna\u001b[49m\u001b[38;5;241;43m=\u001b[39;49m\u001b[43mskipna\u001b[49m\u001b[43m,\u001b[49m\u001b[43m \u001b[49m\u001b[38;5;241;43m*\u001b[39;49m\u001b[38;5;241;43m*\u001b[39;49m\u001b[43mkwds\u001b[49m\u001b[43m)\u001b[49m\n",
      "File \u001b[0;32m/opt/conda/lib/python3.10/site-packages/pandas/core/nanops.py:93\u001b[0m, in \u001b[0;36mdisallow.__call__.<locals>._f\u001b[0;34m(*args, **kwargs)\u001b[0m\n\u001b[1;32m     91\u001b[0m \u001b[38;5;28;01mtry\u001b[39;00m:\n\u001b[1;32m     92\u001b[0m     \u001b[38;5;28;01mwith\u001b[39;00m np\u001b[38;5;241m.\u001b[39merrstate(invalid\u001b[38;5;241m=\u001b[39m\u001b[38;5;124m\"\u001b[39m\u001b[38;5;124mignore\u001b[39m\u001b[38;5;124m\"\u001b[39m):\n\u001b[0;32m---> 93\u001b[0m         \u001b[38;5;28;01mreturn\u001b[39;00m \u001b[43mf\u001b[49m\u001b[43m(\u001b[49m\u001b[38;5;241;43m*\u001b[39;49m\u001b[43margs\u001b[49m\u001b[43m,\u001b[49m\u001b[43m \u001b[49m\u001b[38;5;241;43m*\u001b[39;49m\u001b[38;5;241;43m*\u001b[39;49m\u001b[43mkwargs\u001b[49m\u001b[43m)\u001b[49m\n\u001b[1;32m     94\u001b[0m \u001b[38;5;28;01mexcept\u001b[39;00m \u001b[38;5;167;01mValueError\u001b[39;00m \u001b[38;5;28;01mas\u001b[39;00m e:\n\u001b[1;32m     95\u001b[0m     \u001b[38;5;66;03m# we want to transform an object array\u001b[39;00m\n\u001b[1;32m     96\u001b[0m     \u001b[38;5;66;03m# ValueError message to the more typical TypeError\u001b[39;00m\n\u001b[1;32m     97\u001b[0m     \u001b[38;5;66;03m# e.g. this is normally a disallowed function on\u001b[39;00m\n\u001b[1;32m     98\u001b[0m     \u001b[38;5;66;03m# object arrays that contain strings\u001b[39;00m\n\u001b[1;32m     99\u001b[0m     \u001b[38;5;28;01mif\u001b[39;00m is_object_dtype(args[\u001b[38;5;241m0\u001b[39m]):\n",
      "File \u001b[0;32m/opt/conda/lib/python3.10/site-packages/pandas/core/nanops.py:155\u001b[0m, in \u001b[0;36mbottleneck_switch.__call__.<locals>.f\u001b[0;34m(values, axis, skipna, **kwds)\u001b[0m\n\u001b[1;32m    153\u001b[0m         result \u001b[38;5;241m=\u001b[39m alt(values, axis\u001b[38;5;241m=\u001b[39maxis, skipna\u001b[38;5;241m=\u001b[39mskipna, \u001b[38;5;241m*\u001b[39m\u001b[38;5;241m*\u001b[39mkwds)\n\u001b[1;32m    154\u001b[0m \u001b[38;5;28;01melse\u001b[39;00m:\n\u001b[0;32m--> 155\u001b[0m     result \u001b[38;5;241m=\u001b[39m \u001b[43malt\u001b[49m\u001b[43m(\u001b[49m\u001b[43mvalues\u001b[49m\u001b[43m,\u001b[49m\u001b[43m \u001b[49m\u001b[43maxis\u001b[49m\u001b[38;5;241;43m=\u001b[39;49m\u001b[43maxis\u001b[49m\u001b[43m,\u001b[49m\u001b[43m \u001b[49m\u001b[43mskipna\u001b[49m\u001b[38;5;241;43m=\u001b[39;49m\u001b[43mskipna\u001b[49m\u001b[43m,\u001b[49m\u001b[43m \u001b[49m\u001b[38;5;241;43m*\u001b[39;49m\u001b[38;5;241;43m*\u001b[39;49m\u001b[43mkwds\u001b[49m\u001b[43m)\u001b[49m\n\u001b[1;32m    157\u001b[0m \u001b[38;5;28;01mreturn\u001b[39;00m result\n",
      "File \u001b[0;32m/opt/conda/lib/python3.10/site-packages/pandas/core/nanops.py:418\u001b[0m, in \u001b[0;36m_datetimelike_compat.<locals>.new_func\u001b[0;34m(values, axis, skipna, mask, **kwargs)\u001b[0m\n\u001b[1;32m    415\u001b[0m \u001b[38;5;28;01mif\u001b[39;00m datetimelike \u001b[38;5;129;01mand\u001b[39;00m mask \u001b[38;5;129;01mis\u001b[39;00m \u001b[38;5;28;01mNone\u001b[39;00m:\n\u001b[1;32m    416\u001b[0m     mask \u001b[38;5;241m=\u001b[39m isna(values)\n\u001b[0;32m--> 418\u001b[0m result \u001b[38;5;241m=\u001b[39m \u001b[43mfunc\u001b[49m\u001b[43m(\u001b[49m\u001b[43mvalues\u001b[49m\u001b[43m,\u001b[49m\u001b[43m \u001b[49m\u001b[43maxis\u001b[49m\u001b[38;5;241;43m=\u001b[39;49m\u001b[43maxis\u001b[49m\u001b[43m,\u001b[49m\u001b[43m \u001b[49m\u001b[43mskipna\u001b[49m\u001b[38;5;241;43m=\u001b[39;49m\u001b[43mskipna\u001b[49m\u001b[43m,\u001b[49m\u001b[43m \u001b[49m\u001b[43mmask\u001b[49m\u001b[38;5;241;43m=\u001b[39;49m\u001b[43mmask\u001b[49m\u001b[43m,\u001b[49m\u001b[43m \u001b[49m\u001b[38;5;241;43m*\u001b[39;49m\u001b[38;5;241;43m*\u001b[39;49m\u001b[43mkwargs\u001b[49m\u001b[43m)\u001b[49m\n\u001b[1;32m    420\u001b[0m \u001b[38;5;28;01mif\u001b[39;00m datetimelike:\n\u001b[1;32m    421\u001b[0m     result \u001b[38;5;241m=\u001b[39m _wrap_results(result, orig_values\u001b[38;5;241m.\u001b[39mdtype, fill_value\u001b[38;5;241m=\u001b[39miNaT)\n",
      "File \u001b[0;32m/opt/conda/lib/python3.10/site-packages/pandas/core/nanops.py:706\u001b[0m, in \u001b[0;36mnanmean\u001b[0;34m(values, axis, skipna, mask)\u001b[0m\n\u001b[1;32m    703\u001b[0m     dtype_count \u001b[38;5;241m=\u001b[39m dtype\n\u001b[1;32m    705\u001b[0m count \u001b[38;5;241m=\u001b[39m _get_counts(values\u001b[38;5;241m.\u001b[39mshape, mask, axis, dtype\u001b[38;5;241m=\u001b[39mdtype_count)\n\u001b[0;32m--> 706\u001b[0m the_sum \u001b[38;5;241m=\u001b[39m _ensure_numeric(\u001b[43mvalues\u001b[49m\u001b[38;5;241;43m.\u001b[39;49m\u001b[43msum\u001b[49m\u001b[43m(\u001b[49m\u001b[43maxis\u001b[49m\u001b[43m,\u001b[49m\u001b[43m \u001b[49m\u001b[43mdtype\u001b[49m\u001b[38;5;241;43m=\u001b[39;49m\u001b[43mdtype_sum\u001b[49m\u001b[43m)\u001b[49m)\n\u001b[1;32m    708\u001b[0m \u001b[38;5;28;01mif\u001b[39;00m axis \u001b[38;5;129;01mis\u001b[39;00m \u001b[38;5;129;01mnot\u001b[39;00m \u001b[38;5;28;01mNone\u001b[39;00m \u001b[38;5;129;01mand\u001b[39;00m \u001b[38;5;28mgetattr\u001b[39m(the_sum, \u001b[38;5;124m\"\u001b[39m\u001b[38;5;124mndim\u001b[39m\u001b[38;5;124m\"\u001b[39m, \u001b[38;5;28;01mFalse\u001b[39;00m):\n\u001b[1;32m    709\u001b[0m     count \u001b[38;5;241m=\u001b[39m cast(np\u001b[38;5;241m.\u001b[39mndarray, count)\n",
      "File \u001b[0;32m/opt/conda/lib/python3.10/site-packages/numpy/core/_methods.py:48\u001b[0m, in \u001b[0;36m_sum\u001b[0;34m(a, axis, dtype, out, keepdims, initial, where)\u001b[0m\n\u001b[1;32m     46\u001b[0m \u001b[38;5;28;01mdef\u001b[39;00m \u001b[38;5;21m_sum\u001b[39m(a, axis\u001b[38;5;241m=\u001b[39m\u001b[38;5;28;01mNone\u001b[39;00m, dtype\u001b[38;5;241m=\u001b[39m\u001b[38;5;28;01mNone\u001b[39;00m, out\u001b[38;5;241m=\u001b[39m\u001b[38;5;28;01mNone\u001b[39;00m, keepdims\u001b[38;5;241m=\u001b[39m\u001b[38;5;28;01mFalse\u001b[39;00m,\n\u001b[1;32m     47\u001b[0m          initial\u001b[38;5;241m=\u001b[39m_NoValue, where\u001b[38;5;241m=\u001b[39m\u001b[38;5;28;01mTrue\u001b[39;00m):\n\u001b[0;32m---> 48\u001b[0m     \u001b[38;5;28;01mreturn\u001b[39;00m \u001b[43mumr_sum\u001b[49m\u001b[43m(\u001b[49m\u001b[43ma\u001b[49m\u001b[43m,\u001b[49m\u001b[43m \u001b[49m\u001b[43maxis\u001b[49m\u001b[43m,\u001b[49m\u001b[43m \u001b[49m\u001b[43mdtype\u001b[49m\u001b[43m,\u001b[49m\u001b[43m \u001b[49m\u001b[43mout\u001b[49m\u001b[43m,\u001b[49m\u001b[43m \u001b[49m\u001b[43mkeepdims\u001b[49m\u001b[43m,\u001b[49m\u001b[43m \u001b[49m\u001b[43minitial\u001b[49m\u001b[43m,\u001b[49m\u001b[43m \u001b[49m\u001b[43mwhere\u001b[49m\u001b[43m)\u001b[49m\n",
      "\u001b[0;31mTypeError\u001b[0m: unsupported operand type(s) for +: 'float' and 'str'"
     ]
    }
   ],
   "source": [
    "df1['column_2'].mean()"
   ]
  },
  {
   "cell_type": "markdown",
   "id": "fe4a20e0-5768-42ad-b67f-7e32e533a4f3",
   "metadata": {},
   "source": [
    "## facing a typeerror. we can't calculation on string object"
   ]
  },
  {
   "cell_type": "code",
   "execution_count": 24,
   "id": "23945d39-d080-4715-883c-99c3e9ec23c7",
   "metadata": {},
   "outputs": [
    {
     "data": {
      "text/plain": [
       "count     6.000000\n",
       "unique    6.000000\n",
       "top       0.925464\n",
       "freq      1.000000\n",
       "Name: column_2, dtype: float64"
      ]
     },
     "execution_count": 24,
     "metadata": {},
     "output_type": "execute_result"
    }
   ],
   "source": [
    "df1['column_2'].describe()"
   ]
  },
  {
   "cell_type": "markdown",
   "id": "2ac28972-5c0d-4e6e-9886-5de762c02990",
   "metadata": {},
   "source": [
    "## Q6. What do you understand about the windows function in pandas and list the types of windows functions?\n",
    "## solution:"
   ]
  },
  {
   "cell_type": "markdown",
   "id": "f75eb685-f3d8-4277-8518-a9a4bb4ad189",
   "metadata": {},
   "source": [
    "## In Pandas, window functions are operations that perform a calculation on a specified window of data. A window is a set of rows in your DataFrame that are defined by a window specification, and the function is applied to this set of rows. This is particularly useful for time-series data and other ordered data."
   ]
  },
  {
   "cell_type": "markdown",
   "id": "84f36c7a-b739-416a-a16b-596b327d80c7",
   "metadata": {},
   "source": [
    "## 1.Rolling Window Functions:A rolling window is a fixed-size subseries that is used to perform calculations. Common functions: mean, sum, std, min, max."
   ]
  },
  {
   "cell_type": "code",
   "execution_count": 25,
   "id": "3a078470-1540-4a14-a1df-2ae115b55f30",
   "metadata": {},
   "outputs": [
    {
     "data": {
      "text/html": [
       "<div>\n",
       "<style scoped>\n",
       "    .dataframe tbody tr th:only-of-type {\n",
       "        vertical-align: middle;\n",
       "    }\n",
       "\n",
       "    .dataframe tbody tr th {\n",
       "        vertical-align: top;\n",
       "    }\n",
       "\n",
       "    .dataframe thead th {\n",
       "        text-align: right;\n",
       "    }\n",
       "</style>\n",
       "<table border=\"1\" class=\"dataframe\">\n",
       "  <thead>\n",
       "    <tr style=\"text-align: right;\">\n",
       "      <th></th>\n",
       "      <th>column_1</th>\n",
       "      <th>column_2</th>\n",
       "      <th>column_3</th>\n",
       "      <th>column_4</th>\n",
       "      <th>column_5</th>\n",
       "      <th>column_6</th>\n",
       "    </tr>\n",
       "  </thead>\n",
       "  <tbody>\n",
       "    <tr>\n",
       "      <th>1</th>\n",
       "      <td>0.783770</td>\n",
       "      <td>0.925464</td>\n",
       "      <td>0.558862</td>\n",
       "      <td>0.602397</td>\n",
       "      <td>0.110009</td>\n",
       "      <td>0.123781</td>\n",
       "    </tr>\n",
       "    <tr>\n",
       "      <th>2</th>\n",
       "      <td>0.111911</td>\n",
       "      <td>Akshay</td>\n",
       "      <td>0.272288</td>\n",
       "      <td>0.387603</td>\n",
       "      <td>0.999477</td>\n",
       "      <td>0.890101</td>\n",
       "    </tr>\n",
       "    <tr>\n",
       "      <th>3</th>\n",
       "      <td>0.045957</td>\n",
       "      <td>0.729317</td>\n",
       "      <td>0.427419</td>\n",
       "      <td>0.164914</td>\n",
       "      <td>0.442436</td>\n",
       "      <td>0.941158</td>\n",
       "    </tr>\n",
       "    <tr>\n",
       "      <th>4</th>\n",
       "      <td>0.831275</td>\n",
       "      <td>0.14466</td>\n",
       "      <td>0.011303</td>\n",
       "      <td>0.694277</td>\n",
       "      <td>0.831114</td>\n",
       "      <td>0.840175</td>\n",
       "    </tr>\n",
       "    <tr>\n",
       "      <th>5</th>\n",
       "      <td>0.830342</td>\n",
       "      <td>0.651302</td>\n",
       "      <td>0.795675</td>\n",
       "      <td>0.607045</td>\n",
       "      <td>0.075532</td>\n",
       "      <td>0.564200</td>\n",
       "    </tr>\n",
       "    <tr>\n",
       "      <th>6</th>\n",
       "      <td>0.856850</td>\n",
       "      <td>0.335978</td>\n",
       "      <td>0.410314</td>\n",
       "      <td>0.294879</td>\n",
       "      <td>0.672477</td>\n",
       "      <td>0.078530</td>\n",
       "    </tr>\n",
       "  </tbody>\n",
       "</table>\n",
       "</div>"
      ],
      "text/plain": [
       "   column_1  column_2  column_3  column_4  column_5  column_6\n",
       "1  0.783770  0.925464  0.558862  0.602397  0.110009  0.123781\n",
       "2  0.111911    Akshay  0.272288  0.387603  0.999477  0.890101\n",
       "3  0.045957  0.729317  0.427419  0.164914  0.442436  0.941158\n",
       "4  0.831275   0.14466  0.011303  0.694277  0.831114  0.840175\n",
       "5  0.830342  0.651302  0.795675  0.607045  0.075532  0.564200\n",
       "6  0.856850  0.335978  0.410314  0.294879  0.672477  0.078530"
      ]
     },
     "execution_count": 25,
     "metadata": {},
     "output_type": "execute_result"
    }
   ],
   "source": [
    "df1"
   ]
  },
  {
   "cell_type": "code",
   "execution_count": 27,
   "id": "ea0bf0e9-f734-440b-b60a-6a59dc28dc4b",
   "metadata": {},
   "outputs": [],
   "source": [
    "df1['Rolling_mean_column3'] = df1['column_3'].rolling(window=2).mean()"
   ]
  },
  {
   "cell_type": "code",
   "execution_count": 28,
   "id": "f2a6b7f5-6078-4513-a62c-8c48e87c4c98",
   "metadata": {},
   "outputs": [
    {
     "data": {
      "text/html": [
       "<div>\n",
       "<style scoped>\n",
       "    .dataframe tbody tr th:only-of-type {\n",
       "        vertical-align: middle;\n",
       "    }\n",
       "\n",
       "    .dataframe tbody tr th {\n",
       "        vertical-align: top;\n",
       "    }\n",
       "\n",
       "    .dataframe thead th {\n",
       "        text-align: right;\n",
       "    }\n",
       "</style>\n",
       "<table border=\"1\" class=\"dataframe\">\n",
       "  <thead>\n",
       "    <tr style=\"text-align: right;\">\n",
       "      <th></th>\n",
       "      <th>column_1</th>\n",
       "      <th>column_2</th>\n",
       "      <th>column_3</th>\n",
       "      <th>column_4</th>\n",
       "      <th>column_5</th>\n",
       "      <th>column_6</th>\n",
       "      <th>Rolling_mean_column3</th>\n",
       "    </tr>\n",
       "  </thead>\n",
       "  <tbody>\n",
       "    <tr>\n",
       "      <th>1</th>\n",
       "      <td>0.783770</td>\n",
       "      <td>0.925464</td>\n",
       "      <td>0.558862</td>\n",
       "      <td>0.602397</td>\n",
       "      <td>0.110009</td>\n",
       "      <td>0.123781</td>\n",
       "      <td>NaN</td>\n",
       "    </tr>\n",
       "    <tr>\n",
       "      <th>2</th>\n",
       "      <td>0.111911</td>\n",
       "      <td>Akshay</td>\n",
       "      <td>0.272288</td>\n",
       "      <td>0.387603</td>\n",
       "      <td>0.999477</td>\n",
       "      <td>0.890101</td>\n",
       "      <td>0.415575</td>\n",
       "    </tr>\n",
       "    <tr>\n",
       "      <th>3</th>\n",
       "      <td>0.045957</td>\n",
       "      <td>0.729317</td>\n",
       "      <td>0.427419</td>\n",
       "      <td>0.164914</td>\n",
       "      <td>0.442436</td>\n",
       "      <td>0.941158</td>\n",
       "      <td>0.349853</td>\n",
       "    </tr>\n",
       "    <tr>\n",
       "      <th>4</th>\n",
       "      <td>0.831275</td>\n",
       "      <td>0.14466</td>\n",
       "      <td>0.011303</td>\n",
       "      <td>0.694277</td>\n",
       "      <td>0.831114</td>\n",
       "      <td>0.840175</td>\n",
       "      <td>0.219361</td>\n",
       "    </tr>\n",
       "    <tr>\n",
       "      <th>5</th>\n",
       "      <td>0.830342</td>\n",
       "      <td>0.651302</td>\n",
       "      <td>0.795675</td>\n",
       "      <td>0.607045</td>\n",
       "      <td>0.075532</td>\n",
       "      <td>0.564200</td>\n",
       "      <td>0.403489</td>\n",
       "    </tr>\n",
       "    <tr>\n",
       "      <th>6</th>\n",
       "      <td>0.856850</td>\n",
       "      <td>0.335978</td>\n",
       "      <td>0.410314</td>\n",
       "      <td>0.294879</td>\n",
       "      <td>0.672477</td>\n",
       "      <td>0.078530</td>\n",
       "      <td>0.602994</td>\n",
       "    </tr>\n",
       "  </tbody>\n",
       "</table>\n",
       "</div>"
      ],
      "text/plain": [
       "   column_1  column_2  column_3  column_4  column_5  column_6  \\\n",
       "1  0.783770  0.925464  0.558862  0.602397  0.110009  0.123781   \n",
       "2  0.111911    Akshay  0.272288  0.387603  0.999477  0.890101   \n",
       "3  0.045957  0.729317  0.427419  0.164914  0.442436  0.941158   \n",
       "4  0.831275   0.14466  0.011303  0.694277  0.831114  0.840175   \n",
       "5  0.830342  0.651302  0.795675  0.607045  0.075532  0.564200   \n",
       "6  0.856850  0.335978  0.410314  0.294879  0.672477  0.078530   \n",
       "\n",
       "   Rolling_mean_column3  \n",
       "1                   NaN  \n",
       "2              0.415575  \n",
       "3              0.349853  \n",
       "4              0.219361  \n",
       "5              0.403489  \n",
       "6              0.602994  "
      ]
     },
     "execution_count": 28,
     "metadata": {},
     "output_type": "execute_result"
    }
   ],
   "source": [
    "df1"
   ]
  },
  {
   "cell_type": "markdown",
   "id": "8f6dccb5-47e6-4852-8a36-8e8cf93e8eea",
   "metadata": {},
   "source": [
    "## 2.Expanding Window Functions:Expanding windows grow with the size of the data. It includes all the data from the beginning of the series up to the current point."
   ]
  },
  {
   "cell_type": "code",
   "execution_count": 29,
   "id": "3b22cc39-5ab0-4ac2-ab0e-cef56e9f44f1",
   "metadata": {},
   "outputs": [],
   "source": [
    "df1['Expanding_window_column3'] = df1['column_3'].expanding().sum()"
   ]
  },
  {
   "cell_type": "code",
   "execution_count": 30,
   "id": "0c4604fc-a6c6-4548-8045-6c1d422c6340",
   "metadata": {},
   "outputs": [
    {
     "data": {
      "text/html": [
       "<div>\n",
       "<style scoped>\n",
       "    .dataframe tbody tr th:only-of-type {\n",
       "        vertical-align: middle;\n",
       "    }\n",
       "\n",
       "    .dataframe tbody tr th {\n",
       "        vertical-align: top;\n",
       "    }\n",
       "\n",
       "    .dataframe thead th {\n",
       "        text-align: right;\n",
       "    }\n",
       "</style>\n",
       "<table border=\"1\" class=\"dataframe\">\n",
       "  <thead>\n",
       "    <tr style=\"text-align: right;\">\n",
       "      <th></th>\n",
       "      <th>column_1</th>\n",
       "      <th>column_2</th>\n",
       "      <th>column_3</th>\n",
       "      <th>column_4</th>\n",
       "      <th>column_5</th>\n",
       "      <th>column_6</th>\n",
       "      <th>Rolling_mean_column3</th>\n",
       "      <th>Expanding_window_column3</th>\n",
       "    </tr>\n",
       "  </thead>\n",
       "  <tbody>\n",
       "    <tr>\n",
       "      <th>1</th>\n",
       "      <td>0.783770</td>\n",
       "      <td>0.925464</td>\n",
       "      <td>0.558862</td>\n",
       "      <td>0.602397</td>\n",
       "      <td>0.110009</td>\n",
       "      <td>0.123781</td>\n",
       "      <td>NaN</td>\n",
       "      <td>0.558862</td>\n",
       "    </tr>\n",
       "    <tr>\n",
       "      <th>2</th>\n",
       "      <td>0.111911</td>\n",
       "      <td>Akshay</td>\n",
       "      <td>0.272288</td>\n",
       "      <td>0.387603</td>\n",
       "      <td>0.999477</td>\n",
       "      <td>0.890101</td>\n",
       "      <td>0.415575</td>\n",
       "      <td>0.831150</td>\n",
       "    </tr>\n",
       "    <tr>\n",
       "      <th>3</th>\n",
       "      <td>0.045957</td>\n",
       "      <td>0.729317</td>\n",
       "      <td>0.427419</td>\n",
       "      <td>0.164914</td>\n",
       "      <td>0.442436</td>\n",
       "      <td>0.941158</td>\n",
       "      <td>0.349853</td>\n",
       "      <td>1.258569</td>\n",
       "    </tr>\n",
       "    <tr>\n",
       "      <th>4</th>\n",
       "      <td>0.831275</td>\n",
       "      <td>0.14466</td>\n",
       "      <td>0.011303</td>\n",
       "      <td>0.694277</td>\n",
       "      <td>0.831114</td>\n",
       "      <td>0.840175</td>\n",
       "      <td>0.219361</td>\n",
       "      <td>1.269872</td>\n",
       "    </tr>\n",
       "    <tr>\n",
       "      <th>5</th>\n",
       "      <td>0.830342</td>\n",
       "      <td>0.651302</td>\n",
       "      <td>0.795675</td>\n",
       "      <td>0.607045</td>\n",
       "      <td>0.075532</td>\n",
       "      <td>0.564200</td>\n",
       "      <td>0.403489</td>\n",
       "      <td>2.065547</td>\n",
       "    </tr>\n",
       "    <tr>\n",
       "      <th>6</th>\n",
       "      <td>0.856850</td>\n",
       "      <td>0.335978</td>\n",
       "      <td>0.410314</td>\n",
       "      <td>0.294879</td>\n",
       "      <td>0.672477</td>\n",
       "      <td>0.078530</td>\n",
       "      <td>0.602994</td>\n",
       "      <td>2.475861</td>\n",
       "    </tr>\n",
       "  </tbody>\n",
       "</table>\n",
       "</div>"
      ],
      "text/plain": [
       "   column_1  column_2  column_3  column_4  column_5  column_6  \\\n",
       "1  0.783770  0.925464  0.558862  0.602397  0.110009  0.123781   \n",
       "2  0.111911    Akshay  0.272288  0.387603  0.999477  0.890101   \n",
       "3  0.045957  0.729317  0.427419  0.164914  0.442436  0.941158   \n",
       "4  0.831275   0.14466  0.011303  0.694277  0.831114  0.840175   \n",
       "5  0.830342  0.651302  0.795675  0.607045  0.075532  0.564200   \n",
       "6  0.856850  0.335978  0.410314  0.294879  0.672477  0.078530   \n",
       "\n",
       "   Rolling_mean_column3  Expanding_window_column3  \n",
       "1                   NaN                  0.558862  \n",
       "2              0.415575                  0.831150  \n",
       "3              0.349853                  1.258569  \n",
       "4              0.219361                  1.269872  \n",
       "5              0.403489                  2.065547  \n",
       "6              0.602994                  2.475861  "
      ]
     },
     "execution_count": 30,
     "metadata": {},
     "output_type": "execute_result"
    }
   ],
   "source": [
    "df1"
   ]
  },
  {
   "cell_type": "markdown",
   "id": "2bac5d62-cc9f-4b07-9ce4-f6651a1e77b8",
   "metadata": {},
   "source": [
    "## 3.Exponential Moving Window Functions: Weighted moving average, where more recent values have higher weights. Common functions: ewm (exponential weighted functions)."
   ]
  },
  {
   "cell_type": "code",
   "execution_count": 32,
   "id": "4074ae89-8da7-480f-988b-ce0d23acfb0c",
   "metadata": {},
   "outputs": [],
   "source": [
    "df1['ewm_mean'] = df1['column_3'].ewm(span=3).mean()"
   ]
  },
  {
   "cell_type": "code",
   "execution_count": 33,
   "id": "f4998278-14aa-404c-a9ca-b909872f712b",
   "metadata": {},
   "outputs": [
    {
     "data": {
      "text/html": [
       "<div>\n",
       "<style scoped>\n",
       "    .dataframe tbody tr th:only-of-type {\n",
       "        vertical-align: middle;\n",
       "    }\n",
       "\n",
       "    .dataframe tbody tr th {\n",
       "        vertical-align: top;\n",
       "    }\n",
       "\n",
       "    .dataframe thead th {\n",
       "        text-align: right;\n",
       "    }\n",
       "</style>\n",
       "<table border=\"1\" class=\"dataframe\">\n",
       "  <thead>\n",
       "    <tr style=\"text-align: right;\">\n",
       "      <th></th>\n",
       "      <th>column_1</th>\n",
       "      <th>column_2</th>\n",
       "      <th>column_3</th>\n",
       "      <th>column_4</th>\n",
       "      <th>column_5</th>\n",
       "      <th>column_6</th>\n",
       "      <th>Rolling_mean_column3</th>\n",
       "      <th>Expanding_window_column3</th>\n",
       "      <th>ewm_mean</th>\n",
       "    </tr>\n",
       "  </thead>\n",
       "  <tbody>\n",
       "    <tr>\n",
       "      <th>1</th>\n",
       "      <td>0.783770</td>\n",
       "      <td>0.925464</td>\n",
       "      <td>0.558862</td>\n",
       "      <td>0.602397</td>\n",
       "      <td>0.110009</td>\n",
       "      <td>0.123781</td>\n",
       "      <td>NaN</td>\n",
       "      <td>0.558862</td>\n",
       "      <td>0.558862</td>\n",
       "    </tr>\n",
       "    <tr>\n",
       "      <th>2</th>\n",
       "      <td>0.111911</td>\n",
       "      <td>Akshay</td>\n",
       "      <td>0.272288</td>\n",
       "      <td>0.387603</td>\n",
       "      <td>0.999477</td>\n",
       "      <td>0.890101</td>\n",
       "      <td>0.415575</td>\n",
       "      <td>0.831150</td>\n",
       "      <td>0.367813</td>\n",
       "    </tr>\n",
       "    <tr>\n",
       "      <th>3</th>\n",
       "      <td>0.045957</td>\n",
       "      <td>0.729317</td>\n",
       "      <td>0.427419</td>\n",
       "      <td>0.164914</td>\n",
       "      <td>0.442436</td>\n",
       "      <td>0.941158</td>\n",
       "      <td>0.349853</td>\n",
       "      <td>1.258569</td>\n",
       "      <td>0.401873</td>\n",
       "    </tr>\n",
       "    <tr>\n",
       "      <th>4</th>\n",
       "      <td>0.831275</td>\n",
       "      <td>0.14466</td>\n",
       "      <td>0.011303</td>\n",
       "      <td>0.694277</td>\n",
       "      <td>0.831114</td>\n",
       "      <td>0.840175</td>\n",
       "      <td>0.219361</td>\n",
       "      <td>1.269872</td>\n",
       "      <td>0.193569</td>\n",
       "    </tr>\n",
       "    <tr>\n",
       "      <th>5</th>\n",
       "      <td>0.830342</td>\n",
       "      <td>0.651302</td>\n",
       "      <td>0.795675</td>\n",
       "      <td>0.607045</td>\n",
       "      <td>0.075532</td>\n",
       "      <td>0.564200</td>\n",
       "      <td>0.403489</td>\n",
       "      <td>2.065547</td>\n",
       "      <td>0.504333</td>\n",
       "    </tr>\n",
       "    <tr>\n",
       "      <th>6</th>\n",
       "      <td>0.856850</td>\n",
       "      <td>0.335978</td>\n",
       "      <td>0.410314</td>\n",
       "      <td>0.294879</td>\n",
       "      <td>0.672477</td>\n",
       "      <td>0.078530</td>\n",
       "      <td>0.602994</td>\n",
       "      <td>2.475861</td>\n",
       "      <td>0.456578</td>\n",
       "    </tr>\n",
       "  </tbody>\n",
       "</table>\n",
       "</div>"
      ],
      "text/plain": [
       "   column_1  column_2  column_3  column_4  column_5  column_6  \\\n",
       "1  0.783770  0.925464  0.558862  0.602397  0.110009  0.123781   \n",
       "2  0.111911    Akshay  0.272288  0.387603  0.999477  0.890101   \n",
       "3  0.045957  0.729317  0.427419  0.164914  0.442436  0.941158   \n",
       "4  0.831275   0.14466  0.011303  0.694277  0.831114  0.840175   \n",
       "5  0.830342  0.651302  0.795675  0.607045  0.075532  0.564200   \n",
       "6  0.856850  0.335978  0.410314  0.294879  0.672477  0.078530   \n",
       "\n",
       "   Rolling_mean_column3  Expanding_window_column3  ewm_mean  \n",
       "1                   NaN                  0.558862  0.558862  \n",
       "2              0.415575                  0.831150  0.367813  \n",
       "3              0.349853                  1.258569  0.401873  \n",
       "4              0.219361                  1.269872  0.193569  \n",
       "5              0.403489                  2.065547  0.504333  \n",
       "6              0.602994                  2.475861  0.456578  "
      ]
     },
     "execution_count": 33,
     "metadata": {},
     "output_type": "execute_result"
    }
   ],
   "source": [
    "df1"
   ]
  },
  {
   "cell_type": "markdown",
   "id": "69fc1178-42b3-40a5-a2e5-9709f6f8d025",
   "metadata": {},
   "source": [
    "## Q7. Write a code to print only the current month and year at the time of answering this question.\n",
    "[Hint: Use pandas.datetime function]"
   ]
  },
  {
   "cell_type": "code",
   "execution_count": 38,
   "id": "11ea2db0-ffa1-4783-9d22-9225877e6d1b",
   "metadata": {},
   "outputs": [],
   "source": [
    "from datetime import datetime\n",
    "\n",
    "# Get the current date and time\n",
    "current_date_time = datetime.now()\n",
    "\n",
    "# Extract the current month and year\n",
    "current_month_year = current_date_time.strftime('%D %B %Y')\n"
   ]
  },
  {
   "cell_type": "code",
   "execution_count": 39,
   "id": "9fa08fb4-2e17-4e15-a7ee-29daf1c4383a",
   "metadata": {},
   "outputs": [
    {
     "data": {
      "text/plain": [
       "'10/28/23 October 2023'"
      ]
     },
     "execution_count": 39,
     "metadata": {},
     "output_type": "execute_result"
    }
   ],
   "source": [
    "current_month_year"
   ]
  },
  {
   "cell_type": "markdown",
   "id": "520754b2-225d-43e0-83ba-ebbcea97336c",
   "metadata": {},
   "source": [
    "## Q8. Write a Python program that takes in two dates as input (in the format YYYY-MM-DD) and calculates the difference between them in days, hours, and minutes using Pandas time delta. The program should prompt the user to enter the dates and display the result.\n",
    "## solution:"
   ]
  },
  {
   "cell_type": "code",
   "execution_count": 2,
   "id": "e575d005-5092-403c-b18c-c5125f5e3e0a",
   "metadata": {},
   "outputs": [
    {
     "name": "stdin",
     "output_type": "stream",
     "text": [
      "please enter the date in YYYY-MM-DD format: 2023-07-31\n",
      "please enter the date in YYYY-MM-DD format: 2023-08-20\n"
     ]
    }
   ],
   "source": [
    "date1  = input(\"please enter the date in YYYY-MM-DD format:\")\n",
    "date2  = input(\"please enter the date in YYYY-MM-DD format:\")"
   ]
  },
  {
   "cell_type": "code",
   "execution_count": 3,
   "id": "d761675e-5a83-41d9-bb77-ef44419e595d",
   "metadata": {},
   "outputs": [],
   "source": [
    "dates = [date1,date2]"
   ]
  },
  {
   "cell_type": "code",
   "execution_count": 4,
   "id": "b93e580b-ec66-4b6d-805f-3372f654d875",
   "metadata": {},
   "outputs": [
    {
     "data": {
      "text/plain": [
       "['2023-07-31', '2023-08-20']"
      ]
     },
     "execution_count": 4,
     "metadata": {},
     "output_type": "execute_result"
    }
   ],
   "source": [
    "dates"
   ]
  },
  {
   "cell_type": "code",
   "execution_count": 1,
   "id": "9d894e7d-4d24-4ebc-a520-efdef01124ce",
   "metadata": {},
   "outputs": [],
   "source": [
    "import pandas as pd"
   ]
  },
  {
   "cell_type": "code",
   "execution_count": 6,
   "id": "04a8b4f0-8e1e-4586-b9ae-b2f17ceb057b",
   "metadata": {},
   "outputs": [],
   "source": [
    "time = pd.Timedelta(days=10, hours = 24, minutes=59)"
   ]
  },
  {
   "cell_type": "code",
   "execution_count": 7,
   "id": "dd66739d-57a9-4be0-96d0-1170d6ddd903",
   "metadata": {},
   "outputs": [
    {
     "data": {
      "text/plain": [
       "Timedelta('11 days 00:59:00')"
      ]
     },
     "execution_count": 7,
     "metadata": {},
     "output_type": "execute_result"
    }
   ],
   "source": [
    "time"
   ]
  },
  {
   "cell_type": "code",
   "execution_count": 8,
   "id": "26bf0182-f41d-458b-92d6-bd83610b4e8c",
   "metadata": {},
   "outputs": [],
   "source": [
    "dt = pd.to_datetime(dates)"
   ]
  },
  {
   "cell_type": "code",
   "execution_count": 9,
   "id": "9f9132b0-4fd7-42b7-a279-496398e9c3f8",
   "metadata": {},
   "outputs": [
    {
     "data": {
      "text/plain": [
       "DatetimeIndex(['2023-07-31', '2023-08-20'], dtype='datetime64[ns]', freq=None)"
      ]
     },
     "execution_count": 9,
     "metadata": {},
     "output_type": "execute_result"
    }
   ],
   "source": [
    "dt"
   ]
  },
  {
   "cell_type": "code",
   "execution_count": 13,
   "id": "925bc228-ec76-4b26-9757-c07f0d0c70dd",
   "metadata": {},
   "outputs": [],
   "source": [
    "result = dt-time"
   ]
  },
  {
   "cell_type": "code",
   "execution_count": 14,
   "id": "6e115160-7b0f-4237-b9c8-5940895d64a4",
   "metadata": {},
   "outputs": [
    {
     "data": {
      "text/plain": [
       "DatetimeIndex(['2023-07-19 23:01:00', '2023-08-08 23:01:00'], dtype='datetime64[ns]', freq=None)"
      ]
     },
     "execution_count": 14,
     "metadata": {},
     "output_type": "execute_result"
    }
   ],
   "source": [
    "result"
   ]
  },
  {
   "cell_type": "markdown",
   "id": "5b3db434-3de6-40f9-bcfa-a82cd745632b",
   "metadata": {},
   "source": [
    "## Q9. Write a Python program that reads a CSV file containing categorical data and converts a specified column to a categorical data type. The program should prompt the user to enter the file path, column name, and category order, and then display the sorted data.\n",
    "## solution:"
   ]
  },
  {
   "cell_type": "code",
   "execution_count": 20,
   "id": "8270d408-dfe6-48d5-a371-7acace029f08",
   "metadata": {},
   "outputs": [
    {
     "name": "stdin",
     "output_type": "stream",
     "text": [
      "pleae enter the file path : https://raw.githubusercontent.com/datasciencedojo/datasets/master/titanic.csv\n"
     ]
    }
   ],
   "source": [
    "file_path = input(\"pleae enter the file path :\")"
   ]
  },
  {
   "cell_type": "code",
   "execution_count": 21,
   "id": "27e5c4b5-b342-4a98-b56a-3e83becf9ad1",
   "metadata": {},
   "outputs": [],
   "source": [
    "df = pd.read_csv(file_path)"
   ]
  },
  {
   "cell_type": "code",
   "execution_count": 28,
   "id": "b5a41b5c-d40c-4ff2-a72c-efd8e454b7fd",
   "metadata": {},
   "outputs": [
    {
     "name": "stdin",
     "output_type": "stream",
     "text": [
      "enter the column name Fare\n"
     ]
    }
   ],
   "source": [
    "column_name = input(\"enter the column name\")"
   ]
  },
  {
   "cell_type": "code",
   "execution_count": 40,
   "id": "fb35b479-5d0f-4989-98b9-ba1cef9eafc6",
   "metadata": {},
   "outputs": [
    {
     "name": "stdin",
     "output_type": "stream",
     "text": [
      "enter the categorical order Low\n"
     ]
    }
   ],
   "source": [
    "category_order = list(input(\"enter the categorical order\"))"
   ]
  },
  {
   "cell_type": "code",
   "execution_count": 41,
   "id": "52846cfc-d158-4938-b3ff-dbe7886fb18a",
   "metadata": {},
   "outputs": [
    {
     "data": {
      "text/html": [
       "<div>\n",
       "<style scoped>\n",
       "    .dataframe tbody tr th:only-of-type {\n",
       "        vertical-align: middle;\n",
       "    }\n",
       "\n",
       "    .dataframe tbody tr th {\n",
       "        vertical-align: top;\n",
       "    }\n",
       "\n",
       "    .dataframe thead th {\n",
       "        text-align: right;\n",
       "    }\n",
       "</style>\n",
       "<table border=\"1\" class=\"dataframe\">\n",
       "  <thead>\n",
       "    <tr style=\"text-align: right;\">\n",
       "      <th></th>\n",
       "      <th>PassengerId</th>\n",
       "      <th>Survived</th>\n",
       "      <th>Pclass</th>\n",
       "      <th>Name</th>\n",
       "      <th>Sex</th>\n",
       "      <th>Age</th>\n",
       "      <th>SibSp</th>\n",
       "      <th>Parch</th>\n",
       "      <th>Ticket</th>\n",
       "      <th>Fare</th>\n",
       "      <th>Cabin</th>\n",
       "      <th>Embarked</th>\n",
       "    </tr>\n",
       "  </thead>\n",
       "  <tbody>\n",
       "    <tr>\n",
       "      <th>0</th>\n",
       "      <td>1</td>\n",
       "      <td>0</td>\n",
       "      <td>3</td>\n",
       "      <td>Braund, Mr. Owen Harris</td>\n",
       "      <td>male</td>\n",
       "      <td>22.0</td>\n",
       "      <td>1</td>\n",
       "      <td>0</td>\n",
       "      <td>A/5 21171</td>\n",
       "      <td>NaN</td>\n",
       "      <td>NaN</td>\n",
       "      <td>S</td>\n",
       "    </tr>\n",
       "    <tr>\n",
       "      <th>1</th>\n",
       "      <td>2</td>\n",
       "      <td>1</td>\n",
       "      <td>1</td>\n",
       "      <td>Cumings, Mrs. John Bradley (Florence Briggs Th...</td>\n",
       "      <td>female</td>\n",
       "      <td>38.0</td>\n",
       "      <td>1</td>\n",
       "      <td>0</td>\n",
       "      <td>PC 17599</td>\n",
       "      <td>NaN</td>\n",
       "      <td>C85</td>\n",
       "      <td>C</td>\n",
       "    </tr>\n",
       "    <tr>\n",
       "      <th>2</th>\n",
       "      <td>3</td>\n",
       "      <td>1</td>\n",
       "      <td>3</td>\n",
       "      <td>Heikkinen, Miss. Laina</td>\n",
       "      <td>female</td>\n",
       "      <td>26.0</td>\n",
       "      <td>0</td>\n",
       "      <td>0</td>\n",
       "      <td>STON/O2. 3101282</td>\n",
       "      <td>NaN</td>\n",
       "      <td>NaN</td>\n",
       "      <td>S</td>\n",
       "    </tr>\n",
       "    <tr>\n",
       "      <th>3</th>\n",
       "      <td>4</td>\n",
       "      <td>1</td>\n",
       "      <td>1</td>\n",
       "      <td>Futrelle, Mrs. Jacques Heath (Lily May Peel)</td>\n",
       "      <td>female</td>\n",
       "      <td>35.0</td>\n",
       "      <td>1</td>\n",
       "      <td>0</td>\n",
       "      <td>113803</td>\n",
       "      <td>NaN</td>\n",
       "      <td>C123</td>\n",
       "      <td>S</td>\n",
       "    </tr>\n",
       "    <tr>\n",
       "      <th>4</th>\n",
       "      <td>5</td>\n",
       "      <td>0</td>\n",
       "      <td>3</td>\n",
       "      <td>Allen, Mr. William Henry</td>\n",
       "      <td>male</td>\n",
       "      <td>35.0</td>\n",
       "      <td>0</td>\n",
       "      <td>0</td>\n",
       "      <td>373450</td>\n",
       "      <td>NaN</td>\n",
       "      <td>NaN</td>\n",
       "      <td>S</td>\n",
       "    </tr>\n",
       "    <tr>\n",
       "      <th>...</th>\n",
       "      <td>...</td>\n",
       "      <td>...</td>\n",
       "      <td>...</td>\n",
       "      <td>...</td>\n",
       "      <td>...</td>\n",
       "      <td>...</td>\n",
       "      <td>...</td>\n",
       "      <td>...</td>\n",
       "      <td>...</td>\n",
       "      <td>...</td>\n",
       "      <td>...</td>\n",
       "      <td>...</td>\n",
       "    </tr>\n",
       "    <tr>\n",
       "      <th>886</th>\n",
       "      <td>887</td>\n",
       "      <td>0</td>\n",
       "      <td>2</td>\n",
       "      <td>Montvila, Rev. Juozas</td>\n",
       "      <td>male</td>\n",
       "      <td>27.0</td>\n",
       "      <td>0</td>\n",
       "      <td>0</td>\n",
       "      <td>211536</td>\n",
       "      <td>NaN</td>\n",
       "      <td>NaN</td>\n",
       "      <td>S</td>\n",
       "    </tr>\n",
       "    <tr>\n",
       "      <th>887</th>\n",
       "      <td>888</td>\n",
       "      <td>1</td>\n",
       "      <td>1</td>\n",
       "      <td>Graham, Miss. Margaret Edith</td>\n",
       "      <td>female</td>\n",
       "      <td>19.0</td>\n",
       "      <td>0</td>\n",
       "      <td>0</td>\n",
       "      <td>112053</td>\n",
       "      <td>NaN</td>\n",
       "      <td>B42</td>\n",
       "      <td>S</td>\n",
       "    </tr>\n",
       "    <tr>\n",
       "      <th>888</th>\n",
       "      <td>889</td>\n",
       "      <td>0</td>\n",
       "      <td>3</td>\n",
       "      <td>Johnston, Miss. Catherine Helen \"Carrie\"</td>\n",
       "      <td>female</td>\n",
       "      <td>NaN</td>\n",
       "      <td>1</td>\n",
       "      <td>2</td>\n",
       "      <td>W./C. 6607</td>\n",
       "      <td>NaN</td>\n",
       "      <td>NaN</td>\n",
       "      <td>S</td>\n",
       "    </tr>\n",
       "    <tr>\n",
       "      <th>889</th>\n",
       "      <td>890</td>\n",
       "      <td>1</td>\n",
       "      <td>1</td>\n",
       "      <td>Behr, Mr. Karl Howell</td>\n",
       "      <td>male</td>\n",
       "      <td>26.0</td>\n",
       "      <td>0</td>\n",
       "      <td>0</td>\n",
       "      <td>111369</td>\n",
       "      <td>NaN</td>\n",
       "      <td>C148</td>\n",
       "      <td>C</td>\n",
       "    </tr>\n",
       "    <tr>\n",
       "      <th>890</th>\n",
       "      <td>891</td>\n",
       "      <td>0</td>\n",
       "      <td>3</td>\n",
       "      <td>Dooley, Mr. Patrick</td>\n",
       "      <td>male</td>\n",
       "      <td>32.0</td>\n",
       "      <td>0</td>\n",
       "      <td>0</td>\n",
       "      <td>370376</td>\n",
       "      <td>NaN</td>\n",
       "      <td>NaN</td>\n",
       "      <td>Q</td>\n",
       "    </tr>\n",
       "  </tbody>\n",
       "</table>\n",
       "<p>891 rows × 12 columns</p>\n",
       "</div>"
      ],
      "text/plain": [
       "     PassengerId  Survived  Pclass  \\\n",
       "0              1         0       3   \n",
       "1              2         1       1   \n",
       "2              3         1       3   \n",
       "3              4         1       1   \n",
       "4              5         0       3   \n",
       "..           ...       ...     ...   \n",
       "886          887         0       2   \n",
       "887          888         1       1   \n",
       "888          889         0       3   \n",
       "889          890         1       1   \n",
       "890          891         0       3   \n",
       "\n",
       "                                                  Name     Sex   Age  SibSp  \\\n",
       "0                              Braund, Mr. Owen Harris    male  22.0      1   \n",
       "1    Cumings, Mrs. John Bradley (Florence Briggs Th...  female  38.0      1   \n",
       "2                               Heikkinen, Miss. Laina  female  26.0      0   \n",
       "3         Futrelle, Mrs. Jacques Heath (Lily May Peel)  female  35.0      1   \n",
       "4                             Allen, Mr. William Henry    male  35.0      0   \n",
       "..                                                 ...     ...   ...    ...   \n",
       "886                              Montvila, Rev. Juozas    male  27.0      0   \n",
       "887                       Graham, Miss. Margaret Edith  female  19.0      0   \n",
       "888           Johnston, Miss. Catherine Helen \"Carrie\"  female   NaN      1   \n",
       "889                              Behr, Mr. Karl Howell    male  26.0      0   \n",
       "890                                Dooley, Mr. Patrick    male  32.0      0   \n",
       "\n",
       "     Parch            Ticket Fare Cabin Embarked  \n",
       "0        0         A/5 21171  NaN   NaN        S  \n",
       "1        0          PC 17599  NaN   C85        C  \n",
       "2        0  STON/O2. 3101282  NaN   NaN        S  \n",
       "3        0            113803  NaN  C123        S  \n",
       "4        0            373450  NaN   NaN        S  \n",
       "..     ...               ...  ...   ...      ...  \n",
       "886      0            211536  NaN   NaN        S  \n",
       "887      0            112053  NaN   B42        S  \n",
       "888      2        W./C. 6607  NaN   NaN        S  \n",
       "889      0            111369  NaN  C148        C  \n",
       "890      0            370376  NaN   NaN        Q  \n",
       "\n",
       "[891 rows x 12 columns]"
      ]
     },
     "execution_count": 41,
     "metadata": {},
     "output_type": "execute_result"
    }
   ],
   "source": [
    "df"
   ]
  },
  {
   "cell_type": "code",
   "execution_count": 42,
   "id": "e713c452-483c-47a0-aafd-58657ab52977",
   "metadata": {},
   "outputs": [],
   "source": [
    "df['Fare'] = pd.Categorical(df['Fare'], categories=category_order, ordered=True)\n"
   ]
  },
  {
   "cell_type": "code",
   "execution_count": 43,
   "id": "a90edd45-ac9d-4fca-a680-69d85743c2bc",
   "metadata": {},
   "outputs": [
    {
     "data": {
      "text/html": [
       "<div>\n",
       "<style scoped>\n",
       "    .dataframe tbody tr th:only-of-type {\n",
       "        vertical-align: middle;\n",
       "    }\n",
       "\n",
       "    .dataframe tbody tr th {\n",
       "        vertical-align: top;\n",
       "    }\n",
       "\n",
       "    .dataframe thead th {\n",
       "        text-align: right;\n",
       "    }\n",
       "</style>\n",
       "<table border=\"1\" class=\"dataframe\">\n",
       "  <thead>\n",
       "    <tr style=\"text-align: right;\">\n",
       "      <th></th>\n",
       "      <th>PassengerId</th>\n",
       "      <th>Survived</th>\n",
       "      <th>Pclass</th>\n",
       "      <th>Name</th>\n",
       "      <th>Sex</th>\n",
       "      <th>Age</th>\n",
       "      <th>SibSp</th>\n",
       "      <th>Parch</th>\n",
       "      <th>Ticket</th>\n",
       "      <th>Fare</th>\n",
       "      <th>Cabin</th>\n",
       "      <th>Embarked</th>\n",
       "    </tr>\n",
       "  </thead>\n",
       "  <tbody>\n",
       "    <tr>\n",
       "      <th>0</th>\n",
       "      <td>1</td>\n",
       "      <td>0</td>\n",
       "      <td>3</td>\n",
       "      <td>Braund, Mr. Owen Harris</td>\n",
       "      <td>male</td>\n",
       "      <td>22.0</td>\n",
       "      <td>1</td>\n",
       "      <td>0</td>\n",
       "      <td>A/5 21171</td>\n",
       "      <td>NaN</td>\n",
       "      <td>NaN</td>\n",
       "      <td>S</td>\n",
       "    </tr>\n",
       "    <tr>\n",
       "      <th>1</th>\n",
       "      <td>2</td>\n",
       "      <td>1</td>\n",
       "      <td>1</td>\n",
       "      <td>Cumings, Mrs. John Bradley (Florence Briggs Th...</td>\n",
       "      <td>female</td>\n",
       "      <td>38.0</td>\n",
       "      <td>1</td>\n",
       "      <td>0</td>\n",
       "      <td>PC 17599</td>\n",
       "      <td>NaN</td>\n",
       "      <td>C85</td>\n",
       "      <td>C</td>\n",
       "    </tr>\n",
       "    <tr>\n",
       "      <th>2</th>\n",
       "      <td>3</td>\n",
       "      <td>1</td>\n",
       "      <td>3</td>\n",
       "      <td>Heikkinen, Miss. Laina</td>\n",
       "      <td>female</td>\n",
       "      <td>26.0</td>\n",
       "      <td>0</td>\n",
       "      <td>0</td>\n",
       "      <td>STON/O2. 3101282</td>\n",
       "      <td>NaN</td>\n",
       "      <td>NaN</td>\n",
       "      <td>S</td>\n",
       "    </tr>\n",
       "    <tr>\n",
       "      <th>3</th>\n",
       "      <td>4</td>\n",
       "      <td>1</td>\n",
       "      <td>1</td>\n",
       "      <td>Futrelle, Mrs. Jacques Heath (Lily May Peel)</td>\n",
       "      <td>female</td>\n",
       "      <td>35.0</td>\n",
       "      <td>1</td>\n",
       "      <td>0</td>\n",
       "      <td>113803</td>\n",
       "      <td>NaN</td>\n",
       "      <td>C123</td>\n",
       "      <td>S</td>\n",
       "    </tr>\n",
       "    <tr>\n",
       "      <th>4</th>\n",
       "      <td>5</td>\n",
       "      <td>0</td>\n",
       "      <td>3</td>\n",
       "      <td>Allen, Mr. William Henry</td>\n",
       "      <td>male</td>\n",
       "      <td>35.0</td>\n",
       "      <td>0</td>\n",
       "      <td>0</td>\n",
       "      <td>373450</td>\n",
       "      <td>NaN</td>\n",
       "      <td>NaN</td>\n",
       "      <td>S</td>\n",
       "    </tr>\n",
       "    <tr>\n",
       "      <th>...</th>\n",
       "      <td>...</td>\n",
       "      <td>...</td>\n",
       "      <td>...</td>\n",
       "      <td>...</td>\n",
       "      <td>...</td>\n",
       "      <td>...</td>\n",
       "      <td>...</td>\n",
       "      <td>...</td>\n",
       "      <td>...</td>\n",
       "      <td>...</td>\n",
       "      <td>...</td>\n",
       "      <td>...</td>\n",
       "    </tr>\n",
       "    <tr>\n",
       "      <th>886</th>\n",
       "      <td>887</td>\n",
       "      <td>0</td>\n",
       "      <td>2</td>\n",
       "      <td>Montvila, Rev. Juozas</td>\n",
       "      <td>male</td>\n",
       "      <td>27.0</td>\n",
       "      <td>0</td>\n",
       "      <td>0</td>\n",
       "      <td>211536</td>\n",
       "      <td>NaN</td>\n",
       "      <td>NaN</td>\n",
       "      <td>S</td>\n",
       "    </tr>\n",
       "    <tr>\n",
       "      <th>887</th>\n",
       "      <td>888</td>\n",
       "      <td>1</td>\n",
       "      <td>1</td>\n",
       "      <td>Graham, Miss. Margaret Edith</td>\n",
       "      <td>female</td>\n",
       "      <td>19.0</td>\n",
       "      <td>0</td>\n",
       "      <td>0</td>\n",
       "      <td>112053</td>\n",
       "      <td>NaN</td>\n",
       "      <td>B42</td>\n",
       "      <td>S</td>\n",
       "    </tr>\n",
       "    <tr>\n",
       "      <th>888</th>\n",
       "      <td>889</td>\n",
       "      <td>0</td>\n",
       "      <td>3</td>\n",
       "      <td>Johnston, Miss. Catherine Helen \"Carrie\"</td>\n",
       "      <td>female</td>\n",
       "      <td>NaN</td>\n",
       "      <td>1</td>\n",
       "      <td>2</td>\n",
       "      <td>W./C. 6607</td>\n",
       "      <td>NaN</td>\n",
       "      <td>NaN</td>\n",
       "      <td>S</td>\n",
       "    </tr>\n",
       "    <tr>\n",
       "      <th>889</th>\n",
       "      <td>890</td>\n",
       "      <td>1</td>\n",
       "      <td>1</td>\n",
       "      <td>Behr, Mr. Karl Howell</td>\n",
       "      <td>male</td>\n",
       "      <td>26.0</td>\n",
       "      <td>0</td>\n",
       "      <td>0</td>\n",
       "      <td>111369</td>\n",
       "      <td>NaN</td>\n",
       "      <td>C148</td>\n",
       "      <td>C</td>\n",
       "    </tr>\n",
       "    <tr>\n",
       "      <th>890</th>\n",
       "      <td>891</td>\n",
       "      <td>0</td>\n",
       "      <td>3</td>\n",
       "      <td>Dooley, Mr. Patrick</td>\n",
       "      <td>male</td>\n",
       "      <td>32.0</td>\n",
       "      <td>0</td>\n",
       "      <td>0</td>\n",
       "      <td>370376</td>\n",
       "      <td>NaN</td>\n",
       "      <td>NaN</td>\n",
       "      <td>Q</td>\n",
       "    </tr>\n",
       "  </tbody>\n",
       "</table>\n",
       "<p>891 rows × 12 columns</p>\n",
       "</div>"
      ],
      "text/plain": [
       "     PassengerId  Survived  Pclass  \\\n",
       "0              1         0       3   \n",
       "1              2         1       1   \n",
       "2              3         1       3   \n",
       "3              4         1       1   \n",
       "4              5         0       3   \n",
       "..           ...       ...     ...   \n",
       "886          887         0       2   \n",
       "887          888         1       1   \n",
       "888          889         0       3   \n",
       "889          890         1       1   \n",
       "890          891         0       3   \n",
       "\n",
       "                                                  Name     Sex   Age  SibSp  \\\n",
       "0                              Braund, Mr. Owen Harris    male  22.0      1   \n",
       "1    Cumings, Mrs. John Bradley (Florence Briggs Th...  female  38.0      1   \n",
       "2                               Heikkinen, Miss. Laina  female  26.0      0   \n",
       "3         Futrelle, Mrs. Jacques Heath (Lily May Peel)  female  35.0      1   \n",
       "4                             Allen, Mr. William Henry    male  35.0      0   \n",
       "..                                                 ...     ...   ...    ...   \n",
       "886                              Montvila, Rev. Juozas    male  27.0      0   \n",
       "887                       Graham, Miss. Margaret Edith  female  19.0      0   \n",
       "888           Johnston, Miss. Catherine Helen \"Carrie\"  female   NaN      1   \n",
       "889                              Behr, Mr. Karl Howell    male  26.0      0   \n",
       "890                                Dooley, Mr. Patrick    male  32.0      0   \n",
       "\n",
       "     Parch            Ticket Fare Cabin Embarked  \n",
       "0        0         A/5 21171  NaN   NaN        S  \n",
       "1        0          PC 17599  NaN   C85        C  \n",
       "2        0  STON/O2. 3101282  NaN   NaN        S  \n",
       "3        0            113803  NaN  C123        S  \n",
       "4        0            373450  NaN   NaN        S  \n",
       "..     ...               ...  ...   ...      ...  \n",
       "886      0            211536  NaN   NaN        S  \n",
       "887      0            112053  NaN   B42        S  \n",
       "888      2        W./C. 6607  NaN   NaN        S  \n",
       "889      0            111369  NaN  C148        C  \n",
       "890      0            370376  NaN   NaN        Q  \n",
       "\n",
       "[891 rows x 12 columns]"
      ]
     },
     "execution_count": 43,
     "metadata": {},
     "output_type": "execute_result"
    }
   ],
   "source": [
    "df"
   ]
  },
  {
   "cell_type": "code",
   "execution_count": 44,
   "id": "1267e38a-21ee-49bf-b8d2-08d126a8a923",
   "metadata": {},
   "outputs": [
    {
     "name": "stdout",
     "output_type": "stream",
     "text": [
      "   PassengerId  Survived  Pclass  \\\n",
      "0            1         0       3   \n",
      "1            2         1       1   \n",
      "2            3         1       3   \n",
      "3            4         1       1   \n",
      "4            5         0       3   \n",
      "\n",
      "                                                Name     Sex   Age  SibSp  \\\n",
      "0                            Braund, Mr. Owen Harris    male  22.0      1   \n",
      "1  Cumings, Mrs. John Bradley (Florence Briggs Th...  female  38.0      1   \n",
      "2                             Heikkinen, Miss. Laina  female  26.0      0   \n",
      "3       Futrelle, Mrs. Jacques Heath (Lily May Peel)  female  35.0      1   \n",
      "4                           Allen, Mr. William Henry    male  35.0      0   \n",
      "\n",
      "   Parch            Ticket Fare Cabin Embarked  \n",
      "0      0         A/5 21171  NaN   NaN        S  \n",
      "1      0          PC 17599  NaN   C85        C  \n",
      "2      0  STON/O2. 3101282  NaN   NaN        S  \n",
      "3      0            113803  NaN  C123        S  \n",
      "4      0            373450  NaN   NaN        S  \n"
     ]
    }
   ],
   "source": [
    "sorted_df = df.sort_values(by=['Fare']).head()\n",
    "print(sorted_df)"
   ]
  },
  {
   "cell_type": "markdown",
   "id": "04650776-9512-481a-95da-f12ed72840b5",
   "metadata": {},
   "source": [
    "## Q10. Write a Python program that reads a CSV file containing sales data for different products and visualizes the data using a stacked bar chart to show the sales of each product category over time. The program should prompt the user to enter the file path and display the chart.\n",
    "## Solution:\n"
   ]
  },
  {
   "cell_type": "code",
   "execution_count": 2,
   "id": "5e9c1689-5ee0-4eca-96e6-ca84a86ffae2",
   "metadata": {},
   "outputs": [
    {
     "name": "stdin",
     "output_type": "stream",
     "text": [
      "enter the file ppath: statsfinal.csv\n"
     ]
    }
   ],
   "source": [
    "file_path = input(\"enter the file ppath:\")"
   ]
  },
  {
   "cell_type": "code",
   "execution_count": 3,
   "id": "3708ac2e-33a0-4654-8488-f5266ea2795d",
   "metadata": {},
   "outputs": [],
   "source": [
    "df = pd.read_csv(file_path)"
   ]
  },
  {
   "cell_type": "code",
   "execution_count": 4,
   "id": "51cd8863-42b1-4342-98d9-b7dd7d74e759",
   "metadata": {},
   "outputs": [
    {
     "data": {
      "text/html": [
       "<div>\n",
       "<style scoped>\n",
       "    .dataframe tbody tr th:only-of-type {\n",
       "        vertical-align: middle;\n",
       "    }\n",
       "\n",
       "    .dataframe tbody tr th {\n",
       "        vertical-align: top;\n",
       "    }\n",
       "\n",
       "    .dataframe thead th {\n",
       "        text-align: right;\n",
       "    }\n",
       "</style>\n",
       "<table border=\"1\" class=\"dataframe\">\n",
       "  <thead>\n",
       "    <tr style=\"text-align: right;\">\n",
       "      <th></th>\n",
       "      <th>Unnamed: 0</th>\n",
       "      <th>Date</th>\n",
       "      <th>Q-P1</th>\n",
       "      <th>Q-P2</th>\n",
       "      <th>Q-P3</th>\n",
       "      <th>Q-P4</th>\n",
       "      <th>S-P1</th>\n",
       "      <th>S-P2</th>\n",
       "      <th>S-P3</th>\n",
       "      <th>S-P4</th>\n",
       "    </tr>\n",
       "  </thead>\n",
       "  <tbody>\n",
       "    <tr>\n",
       "      <th>0</th>\n",
       "      <td>0</td>\n",
       "      <td>13-06-2010</td>\n",
       "      <td>5422</td>\n",
       "      <td>3725</td>\n",
       "      <td>576</td>\n",
       "      <td>907</td>\n",
       "      <td>17187.74</td>\n",
       "      <td>23616.50</td>\n",
       "      <td>3121.92</td>\n",
       "      <td>6466.91</td>\n",
       "    </tr>\n",
       "    <tr>\n",
       "      <th>1</th>\n",
       "      <td>1</td>\n",
       "      <td>14-06-2010</td>\n",
       "      <td>7047</td>\n",
       "      <td>779</td>\n",
       "      <td>3578</td>\n",
       "      <td>1574</td>\n",
       "      <td>22338.99</td>\n",
       "      <td>4938.86</td>\n",
       "      <td>19392.76</td>\n",
       "      <td>11222.62</td>\n",
       "    </tr>\n",
       "    <tr>\n",
       "      <th>2</th>\n",
       "      <td>2</td>\n",
       "      <td>15-06-2010</td>\n",
       "      <td>1572</td>\n",
       "      <td>2082</td>\n",
       "      <td>595</td>\n",
       "      <td>1145</td>\n",
       "      <td>4983.24</td>\n",
       "      <td>13199.88</td>\n",
       "      <td>3224.90</td>\n",
       "      <td>8163.85</td>\n",
       "    </tr>\n",
       "    <tr>\n",
       "      <th>3</th>\n",
       "      <td>3</td>\n",
       "      <td>16-06-2010</td>\n",
       "      <td>5657</td>\n",
       "      <td>2399</td>\n",
       "      <td>3140</td>\n",
       "      <td>1672</td>\n",
       "      <td>17932.69</td>\n",
       "      <td>15209.66</td>\n",
       "      <td>17018.80</td>\n",
       "      <td>11921.36</td>\n",
       "    </tr>\n",
       "    <tr>\n",
       "      <th>4</th>\n",
       "      <td>4</td>\n",
       "      <td>17-06-2010</td>\n",
       "      <td>3668</td>\n",
       "      <td>3207</td>\n",
       "      <td>2184</td>\n",
       "      <td>708</td>\n",
       "      <td>11627.56</td>\n",
       "      <td>20332.38</td>\n",
       "      <td>11837.28</td>\n",
       "      <td>5048.04</td>\n",
       "    </tr>\n",
       "    <tr>\n",
       "      <th>...</th>\n",
       "      <td>...</td>\n",
       "      <td>...</td>\n",
       "      <td>...</td>\n",
       "      <td>...</td>\n",
       "      <td>...</td>\n",
       "      <td>...</td>\n",
       "      <td>...</td>\n",
       "      <td>...</td>\n",
       "      <td>...</td>\n",
       "      <td>...</td>\n",
       "    </tr>\n",
       "    <tr>\n",
       "      <th>4595</th>\n",
       "      <td>4595</td>\n",
       "      <td>30-01-2023</td>\n",
       "      <td>2476</td>\n",
       "      <td>3419</td>\n",
       "      <td>525</td>\n",
       "      <td>1359</td>\n",
       "      <td>7848.92</td>\n",
       "      <td>21676.46</td>\n",
       "      <td>2845.50</td>\n",
       "      <td>9689.67</td>\n",
       "    </tr>\n",
       "    <tr>\n",
       "      <th>4596</th>\n",
       "      <td>4596</td>\n",
       "      <td>31-01-2023</td>\n",
       "      <td>7446</td>\n",
       "      <td>841</td>\n",
       "      <td>4825</td>\n",
       "      <td>1311</td>\n",
       "      <td>23603.82</td>\n",
       "      <td>5331.94</td>\n",
       "      <td>26151.50</td>\n",
       "      <td>9347.43</td>\n",
       "    </tr>\n",
       "    <tr>\n",
       "      <th>4597</th>\n",
       "      <td>4597</td>\n",
       "      <td>01-02-2023</td>\n",
       "      <td>6289</td>\n",
       "      <td>3143</td>\n",
       "      <td>3588</td>\n",
       "      <td>474</td>\n",
       "      <td>19936.13</td>\n",
       "      <td>19926.62</td>\n",
       "      <td>19446.96</td>\n",
       "      <td>3379.62</td>\n",
       "    </tr>\n",
       "    <tr>\n",
       "      <th>4598</th>\n",
       "      <td>4598</td>\n",
       "      <td>02-02-2023</td>\n",
       "      <td>3122</td>\n",
       "      <td>1188</td>\n",
       "      <td>5899</td>\n",
       "      <td>517</td>\n",
       "      <td>9896.74</td>\n",
       "      <td>7531.92</td>\n",
       "      <td>31972.58</td>\n",
       "      <td>3686.21</td>\n",
       "    </tr>\n",
       "    <tr>\n",
       "      <th>4599</th>\n",
       "      <td>4599</td>\n",
       "      <td>03-02-2023</td>\n",
       "      <td>1234</td>\n",
       "      <td>3854</td>\n",
       "      <td>2321</td>\n",
       "      <td>406</td>\n",
       "      <td>3911.78</td>\n",
       "      <td>24434.36</td>\n",
       "      <td>12579.82</td>\n",
       "      <td>2894.78</td>\n",
       "    </tr>\n",
       "  </tbody>\n",
       "</table>\n",
       "<p>4600 rows × 10 columns</p>\n",
       "</div>"
      ],
      "text/plain": [
       "      Unnamed: 0        Date  Q-P1  Q-P2  Q-P3  Q-P4      S-P1      S-P2  \\\n",
       "0              0  13-06-2010  5422  3725   576   907  17187.74  23616.50   \n",
       "1              1  14-06-2010  7047   779  3578  1574  22338.99   4938.86   \n",
       "2              2  15-06-2010  1572  2082   595  1145   4983.24  13199.88   \n",
       "3              3  16-06-2010  5657  2399  3140  1672  17932.69  15209.66   \n",
       "4              4  17-06-2010  3668  3207  2184   708  11627.56  20332.38   \n",
       "...          ...         ...   ...   ...   ...   ...       ...       ...   \n",
       "4595        4595  30-01-2023  2476  3419   525  1359   7848.92  21676.46   \n",
       "4596        4596  31-01-2023  7446   841  4825  1311  23603.82   5331.94   \n",
       "4597        4597  01-02-2023  6289  3143  3588   474  19936.13  19926.62   \n",
       "4598        4598  02-02-2023  3122  1188  5899   517   9896.74   7531.92   \n",
       "4599        4599  03-02-2023  1234  3854  2321   406   3911.78  24434.36   \n",
       "\n",
       "          S-P3      S-P4  \n",
       "0      3121.92   6466.91  \n",
       "1     19392.76  11222.62  \n",
       "2      3224.90   8163.85  \n",
       "3     17018.80  11921.36  \n",
       "4     11837.28   5048.04  \n",
       "...        ...       ...  \n",
       "4595   2845.50   9689.67  \n",
       "4596  26151.50   9347.43  \n",
       "4597  19446.96   3379.62  \n",
       "4598  31972.58   3686.21  \n",
       "4599  12579.82   2894.78  \n",
       "\n",
       "[4600 rows x 10 columns]"
      ]
     },
     "execution_count": 4,
     "metadata": {},
     "output_type": "execute_result"
    }
   ],
   "source": [
    "df"
   ]
  },
  {
   "cell_type": "code",
   "execution_count": 9,
   "id": "18a70c69-0e7e-4ab8-9b56-179b31d674e0",
   "metadata": {},
   "outputs": [],
   "source": [
    "result = df.head()"
   ]
  },
  {
   "cell_type": "code",
   "execution_count": 13,
   "id": "9c5fb09c-038f-4543-b1ad-c952f1fec549",
   "metadata": {},
   "outputs": [],
   "source": [
    "import matplotlib.pyplot as plt"
   ]
  },
  {
   "cell_type": "code",
   "execution_count": 16,
   "id": "57302634-c968-4e53-b585-6d6c2ff4c568",
   "metadata": {},
   "outputs": [
    {
     "data": {
      "image/png": "[encoded data removed]",
      "text/plain": [
       "<Figure size 640x480 with 1 Axes>"
      ]
     },
     "metadata": {},
     "output_type": "display_data"
    }
   ],
   "source": [
    "result.plot(kind = 'bar') ## first five data\n",
    "plt.title('Sales by Product')\n",
    "plt.xlabel('Product')\n",
    "plt.ylabel('Sales')\n",
    "#plt.show()\n",
    "plt.grid()"
   ]
  },
  {
   "cell_type": "markdown",
   "id": "4a8d52af-f680-4cb7-a504-b2aafbaa735c",
   "metadata": {},
   "source": [
    "## Q11. You are given a CSV file containing student data that includes the student ID and their test score. Write a Python program that reads the CSV file, calculates the mean, median, and mode of the test scores, and displays the results in a table.\n",
    "## solution:"
   ]
  },
  {
   "cell_type": "code",
   "execution_count": 17,
   "id": "d09cbff1-9a9b-4b57-aa57-63dc7d9577da",
   "metadata": {},
   "outputs": [],
   "source": [
    "data = {'Student ID':[1,2,3,4,5,6,7,8,9,10],\n",
    "        'Test Score':[85,90,80,75,85,82,78,85,90,85]}\n"
   ]
  },
  {
   "cell_type": "code",
   "execution_count": 18,
   "id": "9a8c86ed-a97b-4113-b9f9-9d02829972b0",
   "metadata": {},
   "outputs": [
    {
     "data": {
      "text/plain": [
       "{'Student ID': [1, 2, 3, 4, 5, 6, 7, 8, 9, 10],\n",
       " 'Test Score': [85, 90, 80, 75, 85, 82, 78, 85, 90, 85]}"
      ]
     },
     "execution_count": 18,
     "metadata": {},
     "output_type": "execute_result"
    }
   ],
   "source": [
    "data"
   ]
  },
  {
   "cell_type": "code",
   "execution_count": 22,
   "id": "81643c6c-a7fd-427d-bfda-17afd38e405f",
   "metadata": {},
   "outputs": [],
   "source": [
    "new = pd.DataFrame(data)"
   ]
  },
  {
   "cell_type": "code",
   "execution_count": 23,
   "id": "e1f7c316-9810-4681-b795-9c38b93e6950",
   "metadata": {},
   "outputs": [
    {
     "data": {
      "text/html": [
       "<div>\n",
       "<style scoped>\n",
       "    .dataframe tbody tr th:only-of-type {\n",
       "        vertical-align: middle;\n",
       "    }\n",
       "\n",
       "    .dataframe tbody tr th {\n",
       "        vertical-align: top;\n",
       "    }\n",
       "\n",
       "    .dataframe thead th {\n",
       "        text-align: right;\n",
       "    }\n",
       "</style>\n",
       "<table border=\"1\" class=\"dataframe\">\n",
       "  <thead>\n",
       "    <tr style=\"text-align: right;\">\n",
       "      <th></th>\n",
       "      <th>Student ID</th>\n",
       "      <th>Test Score</th>\n",
       "    </tr>\n",
       "  </thead>\n",
       "  <tbody>\n",
       "    <tr>\n",
       "      <th>0</th>\n",
       "      <td>1</td>\n",
       "      <td>85</td>\n",
       "    </tr>\n",
       "    <tr>\n",
       "      <th>1</th>\n",
       "      <td>2</td>\n",
       "      <td>90</td>\n",
       "    </tr>\n",
       "    <tr>\n",
       "      <th>2</th>\n",
       "      <td>3</td>\n",
       "      <td>80</td>\n",
       "    </tr>\n",
       "    <tr>\n",
       "      <th>3</th>\n",
       "      <td>4</td>\n",
       "      <td>75</td>\n",
       "    </tr>\n",
       "    <tr>\n",
       "      <th>4</th>\n",
       "      <td>5</td>\n",
       "      <td>85</td>\n",
       "    </tr>\n",
       "    <tr>\n",
       "      <th>5</th>\n",
       "      <td>6</td>\n",
       "      <td>82</td>\n",
       "    </tr>\n",
       "    <tr>\n",
       "      <th>6</th>\n",
       "      <td>7</td>\n",
       "      <td>78</td>\n",
       "    </tr>\n",
       "    <tr>\n",
       "      <th>7</th>\n",
       "      <td>8</td>\n",
       "      <td>85</td>\n",
       "    </tr>\n",
       "    <tr>\n",
       "      <th>8</th>\n",
       "      <td>9</td>\n",
       "      <td>90</td>\n",
       "    </tr>\n",
       "    <tr>\n",
       "      <th>9</th>\n",
       "      <td>10</td>\n",
       "      <td>85</td>\n",
       "    </tr>\n",
       "  </tbody>\n",
       "</table>\n",
       "</div>"
      ],
      "text/plain": [
       "   Student ID  Test Score\n",
       "0           1          85\n",
       "1           2          90\n",
       "2           3          80\n",
       "3           4          75\n",
       "4           5          85\n",
       "5           6          82\n",
       "6           7          78\n",
       "7           8          85\n",
       "8           9          90\n",
       "9          10          85"
      ]
     },
     "execution_count": 23,
     "metadata": {},
     "output_type": "execute_result"
    }
   ],
   "source": [
    "new"
   ]
  },
  {
   "cell_type": "code",
   "execution_count": 26,
   "id": "5c7b254a-e115-4389-b50e-a54e940529a3",
   "metadata": {},
   "outputs": [],
   "source": [
    "new.to_csv('student.csv', index = False) ## create the data and download to csv file"
   ]
  },
  {
   "cell_type": "raw",
   "id": "ebbdbe71-7d33-4fcb-807f-320bc7c1771c",
   "metadata": {},
   "source": [
    "The program should do the following:\n",
    "I Prompt the user to enter the file path of the CSV file containing the student dataR\n",
    "I Read the CSV file into a Pandas DataFrameR\n",
    "I Calculate the mean, median, and mode of the test scores using Pandas toolsR\n",
    "I Display the mean, median, and mode in a table."
   ]
  },
  {
   "cell_type": "code",
   "execution_count": 27,
   "id": "912d0e85-7b09-458f-b68d-4a28aef24063",
   "metadata": {},
   "outputs": [
    {
     "name": "stdin",
     "output_type": "stream",
     "text": [
      "please enter the file path student.csv\n"
     ]
    }
   ],
   "source": [
    "student = input(\"please enter the file path\")"
   ]
  },
  {
   "cell_type": "code",
   "execution_count": 28,
   "id": "e3f8ee9f-bf75-43ba-a986-c4dc717c36ee",
   "metadata": {},
   "outputs": [],
   "source": [
    "df = pd.read_csv(student)"
   ]
  },
  {
   "cell_type": "code",
   "execution_count": 29,
   "id": "93cba2e9-a45d-4b58-a50b-e16810ca2ac4",
   "metadata": {},
   "outputs": [
    {
     "data": {
      "text/html": [
       "<div>\n",
       "<style scoped>\n",
       "    .dataframe tbody tr th:only-of-type {\n",
       "        vertical-align: middle;\n",
       "    }\n",
       "\n",
       "    .dataframe tbody tr th {\n",
       "        vertical-align: top;\n",
       "    }\n",
       "\n",
       "    .dataframe thead th {\n",
       "        text-align: right;\n",
       "    }\n",
       "</style>\n",
       "<table border=\"1\" class=\"dataframe\">\n",
       "  <thead>\n",
       "    <tr style=\"text-align: right;\">\n",
       "      <th></th>\n",
       "      <th>Student ID</th>\n",
       "      <th>Test Score</th>\n",
       "    </tr>\n",
       "  </thead>\n",
       "  <tbody>\n",
       "    <tr>\n",
       "      <th>0</th>\n",
       "      <td>1</td>\n",
       "      <td>85</td>\n",
       "    </tr>\n",
       "    <tr>\n",
       "      <th>1</th>\n",
       "      <td>2</td>\n",
       "      <td>90</td>\n",
       "    </tr>\n",
       "    <tr>\n",
       "      <th>2</th>\n",
       "      <td>3</td>\n",
       "      <td>80</td>\n",
       "    </tr>\n",
       "    <tr>\n",
       "      <th>3</th>\n",
       "      <td>4</td>\n",
       "      <td>75</td>\n",
       "    </tr>\n",
       "    <tr>\n",
       "      <th>4</th>\n",
       "      <td>5</td>\n",
       "      <td>85</td>\n",
       "    </tr>\n",
       "    <tr>\n",
       "      <th>5</th>\n",
       "      <td>6</td>\n",
       "      <td>82</td>\n",
       "    </tr>\n",
       "    <tr>\n",
       "      <th>6</th>\n",
       "      <td>7</td>\n",
       "      <td>78</td>\n",
       "    </tr>\n",
       "    <tr>\n",
       "      <th>7</th>\n",
       "      <td>8</td>\n",
       "      <td>85</td>\n",
       "    </tr>\n",
       "    <tr>\n",
       "      <th>8</th>\n",
       "      <td>9</td>\n",
       "      <td>90</td>\n",
       "    </tr>\n",
       "    <tr>\n",
       "      <th>9</th>\n",
       "      <td>10</td>\n",
       "      <td>85</td>\n",
       "    </tr>\n",
       "  </tbody>\n",
       "</table>\n",
       "</div>"
      ],
      "text/plain": [
       "   Student ID  Test Score\n",
       "0           1          85\n",
       "1           2          90\n",
       "2           3          80\n",
       "3           4          75\n",
       "4           5          85\n",
       "5           6          82\n",
       "6           7          78\n",
       "7           8          85\n",
       "8           9          90\n",
       "9          10          85"
      ]
     },
     "execution_count": 29,
     "metadata": {},
     "output_type": "execute_result"
    }
   ],
   "source": [
    "df"
   ]
  },
  {
   "cell_type": "code",
   "execution_count": 33,
   "id": "d91834d0-ae8f-47c3-8297-edc84b56fcfd",
   "metadata": {},
   "outputs": [],
   "source": [
    "Mean_of_test_score = df['Test Score'].mean()"
   ]
  },
  {
   "cell_type": "code",
   "execution_count": 34,
   "id": "ac350b97-15e6-47de-be1b-d00323a368ab",
   "metadata": {},
   "outputs": [],
   "source": [
    "median_of_test_score = df['Test Score'].median()"
   ]
  },
  {
   "cell_type": "code",
   "execution_count": 35,
   "id": "b80f2762-944b-45ee-af65-4f0e17a18cf7",
   "metadata": {},
   "outputs": [],
   "source": [
    "mode_of_test_score = df['Test Score'].mode()"
   ]
  },
  {
   "cell_type": "code",
   "execution_count": 41,
   "id": "2f92515b-f7bf-41ce-a265-1f16619c73e1",
   "metadata": {},
   "outputs": [],
   "source": [
    "Result = pd.DataFrame([Mean_of_test_score,median_of_test_score,mode_of_test_score], index= ['Mean','Median','Mode'])"
   ]
  },
  {
   "cell_type": "code",
   "execution_count": 42,
   "id": "9e1fa5b3-e540-4a67-b0fa-4197eb0237aa",
   "metadata": {},
   "outputs": [
    {
     "data": {
      "text/html": [
       "<div>\n",
       "<style scoped>\n",
       "    .dataframe tbody tr th:only-of-type {\n",
       "        vertical-align: middle;\n",
       "    }\n",
       "\n",
       "    .dataframe tbody tr th {\n",
       "        vertical-align: top;\n",
       "    }\n",
       "\n",
       "    .dataframe thead th {\n",
       "        text-align: right;\n",
       "    }\n",
       "</style>\n",
       "<table border=\"1\" class=\"dataframe\">\n",
       "  <thead>\n",
       "    <tr style=\"text-align: right;\">\n",
       "      <th></th>\n",
       "      <th>0</th>\n",
       "    </tr>\n",
       "  </thead>\n",
       "  <tbody>\n",
       "    <tr>\n",
       "      <th>Mean</th>\n",
       "      <td>83.5</td>\n",
       "    </tr>\n",
       "    <tr>\n",
       "      <th>Median</th>\n",
       "      <td>85.0</td>\n",
       "    </tr>\n",
       "    <tr>\n",
       "      <th>Mode</th>\n",
       "      <td>0    85\n",
       "Name: Test Score, dtype: int64</td>\n",
       "    </tr>\n",
       "  </tbody>\n",
       "</table>\n",
       "</div>"
      ],
      "text/plain": [
       "                                             0\n",
       "Mean                                      83.5\n",
       "Median                                    85.0\n",
       "Mode    0    85\n",
       "Name: Test Score, dtype: int64"
      ]
     },
     "execution_count": 42,
     "metadata": {},
     "output_type": "execute_result"
    }
   ],
   "source": [
    "Result"
   ]
  },
  {
   "cell_type": "code",
   "execution_count": null,
   "id": "80265dbb-d6e1-4146-ad22-760f4712f735",
   "metadata": {},
   "outputs": [],
   "source": []
  }
 ],
 "metadata": {
  "kernelspec": {
   "display_name": "Python 3 (ipykernel)",
   "language": "python",
   "name": "python3"
  },
  "language_info": {
   "codemirror_mode": {
    "name": "ipython",
    "version": 3
   },
   "file_extension": ".py",
   "mimetype": "text/x-python",
   "name": "python",
   "nbconvert_exporter": "python",
   "pygments_lexer": "ipython3",
   "version": "3.10.8"
  }
 },
 "nbformat": 4,
 "nbformat_minor": 5
}
