{
 "cells": [
  {
   "cell_type": "markdown",
   "id": "2a13d1f7-a32a-4cdf-bf5c-526c560f88fe",
   "metadata": {},
   "source": [
    "## Q1, Create a vehicle class with an init method having instance variables as name_of_vehicle, max_speed and average_of_vehicle.\n",
    "## SOLUTION:"
   ]
  },
  {
   "cell_type": "code",
   "execution_count": 2,
   "id": "397c1b93-aa52-46e5-8ea8-6fcd296f0628",
   "metadata": {},
   "outputs": [],
   "source": [
    "class vehicle:                        #### this is my class name\n",
    "    \n",
    "    def __init__(self, name_of_vehicle, max_speed, average_of_vehicle):      ### self is pointer to the class and access the instasnce of object\n",
    "        self.name_of_vehicle = name_of_vehicle\n",
    "        self.max_speed = max_speed\n",
    "        self.average_of_vehicle = average_of_vehicle\n",
    "        \n",
    "    \n",
    "    def car_details(self):\n",
    "        return self.name_of_vehicle,self.max_speed,self.average_of_vehicle\n",
    "    \n",
    "    "
   ]
  },
  {
   "cell_type": "code",
   "execution_count": 3,
   "id": "cbc81e71-6674-4556-a94d-f9965b0eecd4",
   "metadata": {},
   "outputs": [],
   "source": [
    "mycar = vehicle(\"lamborgini\", 89, 56)"
   ]
  },
  {
   "cell_type": "code",
   "execution_count": 4,
   "id": "2da6010b-7a2f-4d26-b323-fedbfb805023",
   "metadata": {},
   "outputs": [
    {
     "data": {
      "text/plain": [
       "'lamborgini'"
      ]
     },
     "execution_count": 4,
     "metadata": {},
     "output_type": "execute_result"
    }
   ],
   "source": [
    "mycar.name_of_vehicle"
   ]
  },
  {
   "cell_type": "code",
   "execution_count": 5,
   "id": "43c5dc7d-b947-49a1-924c-4fd96122147c",
   "metadata": {},
   "outputs": [
    {
     "data": {
      "text/plain": [
       "('lamborgini', 89, 56)"
      ]
     },
     "execution_count": 5,
     "metadata": {},
     "output_type": "execute_result"
    }
   ],
   "source": [
    "mycar.car_details()"
   ]
  },
  {
   "cell_type": "markdown",
   "id": "4cee3208-d157-4134-8d3f-502ca2813e52",
   "metadata": {},
   "source": [
    "## Q2. Create a child class car from the vehicle class created in Que 1, which will inherit the vehicle class. Create a method named seating_capacity which takes capacity as an argument and returns the name of the vehicle and its seating capacity.\n",
    "## SOLUTION:"
   ]
  },
  {
   "cell_type": "code",
   "execution_count": 19,
   "id": "d33693d1-6045-464d-a6f6-e8481be3e712",
   "metadata": {},
   "outputs": [],
   "source": [
    "### from the above program we can create child class\n",
    "\n",
    "class child(vehicle):\n",
    "    \n",
    "    def seating_capacity(self, capacity):\n",
    "        self.capacity = capacity\n",
    "        return self.name_of_vehicle,self.capacity\n",
    "    "
   ]
  },
  {
   "cell_type": "code",
   "execution_count": 20,
   "id": "5e4fad2c-4ed4-4e41-b68c-5228292e9a14",
   "metadata": {},
   "outputs": [],
   "source": [
    "child_obj = child(\"Lambougini\", 67, 45)"
   ]
  },
  {
   "cell_type": "code",
   "execution_count": 21,
   "id": "ba5ea9c5-7299-4741-b7e4-a95179af025a",
   "metadata": {},
   "outputs": [
    {
     "data": {
      "text/plain": [
       "('Lambougini', 2)"
      ]
     },
     "execution_count": 21,
     "metadata": {},
     "output_type": "execute_result"
    }
   ],
   "source": [
    "child_obj.seating_capacity(2)"
   ]
  },
  {
   "cell_type": "markdown",
   "id": "0110289e-0f99-4a2d-ba67-be4f41335d4f",
   "metadata": {},
   "source": [
    "## Q3. What is multiple inheritance? Write a python code to demonstrate multiple inheritance.\n",
    "## SOLUTION:"
   ]
  },
  {
   "cell_type": "markdown",
   "id": "136386ed-77ff-4819-a741-38accb5da3ec",
   "metadata": {},
   "source": [
    "### When one class inherit the properties of two or more class together. Then this is known as multiple inheritance."
   ]
  },
  {
   "cell_type": "code",
   "execution_count": 23,
   "id": "fae939e4-e695-46a0-ad70-233b9b8c5724",
   "metadata": {},
   "outputs": [],
   "source": [
    "## example\n",
    "class first_name:\n",
    "    \n",
    "    def myfirst_name(self):\n",
    "        print(\"Akshay\")"
   ]
  },
  {
   "cell_type": "code",
   "execution_count": 24,
   "id": "871f237c-d91e-4147-b380-316a7edb2654",
   "metadata": {},
   "outputs": [],
   "source": [
    "class last_name:\n",
    "    \n",
    "    def mylast_name(self):\n",
    "        print(\"Chhabra\")"
   ]
  },
  {
   "cell_type": "code",
   "execution_count": 32,
   "id": "ab40b4a3-b80f-43d2-9e1b-a1d0f0f2a16d",
   "metadata": {},
   "outputs": [],
   "source": [
    "class full_name(first_name,last_name):\n",
    "    pass\n",
    "    \n",
    " "
   ]
  },
  {
   "cell_type": "code",
   "execution_count": 33,
   "id": "62a020bd-7fc6-444b-aecb-2f08643a59da",
   "metadata": {},
   "outputs": [],
   "source": [
    "my_name = full_name()"
   ]
  },
  {
   "cell_type": "code",
   "execution_count": 35,
   "id": "fb83c598-0615-4b09-ad98-cd275f3d7857",
   "metadata": {},
   "outputs": [
    {
     "name": "stdout",
     "output_type": "stream",
     "text": [
      "Akshay\n"
     ]
    }
   ],
   "source": [
    "my_name.myfirst_name()"
   ]
  },
  {
   "cell_type": "code",
   "execution_count": 36,
   "id": "9085acf5-2245-4332-897a-7c75027d1b1a",
   "metadata": {},
   "outputs": [
    {
     "name": "stdout",
     "output_type": "stream",
     "text": [
      "Chhabra\n"
     ]
    }
   ],
   "source": [
    "my_name.mylast_name()"
   ]
  },
  {
   "cell_type": "markdown",
   "id": "7f9a6c80-5ef9-4b8e-95c9-8fc5eb672df0",
   "metadata": {},
   "source": [
    "## Q What are getter and setter in python? Create a class and create a getter and a setter method in thisclass.\n",
    "## SOLUTION:"
   ]
  },
  {
   "cell_type": "markdown",
   "id": "c26dc52a-1dc8-4b23-8ddb-ac2d5b1873d6",
   "metadata": {},
   "source": [
    "## the main purpose of using getters and setters in object-oriented programs is to ensure data encapsulation. like, when I allow my user to access or change my private data i.e we use setter and getter."
   ]
  },
  {
   "cell_type": "code",
   "execution_count": 54,
   "id": "63863a8f-98bc-40ab-864c-fbd46c7a234c",
   "metadata": {},
   "outputs": [],
   "source": [
    "## Example\n",
    "\n",
    "class year_graduated:\n",
    "    \n",
    "    def __init__(self,year=0):\n",
    "        self._year = year\n",
    "     ## getter method   \n",
    "    def get_year(self):\n",
    "        return self._year\n",
    "    \n",
    "# setter method\n",
    "    def set_year(self,a):\n",
    "        self._year = a\n",
    "    "
   ]
  },
  {
   "cell_type": "code",
   "execution_count": 55,
   "id": "ac371da4-f7a0-4299-91b4-1d4651f7e002",
   "metadata": {},
   "outputs": [],
   "source": [
    "obj = year_graduated()"
   ]
  },
  {
   "cell_type": "code",
   "execution_count": 56,
   "id": "6a0ce3a9-3426-4ea6-bb23-1109caf2c220",
   "metadata": {},
   "outputs": [
    {
     "data": {
      "text/plain": [
       "0"
      ]
     },
     "execution_count": 56,
     "metadata": {},
     "output_type": "execute_result"
    }
   ],
   "source": [
    "##before using setter\n",
    "obj.get_year()"
   ]
  },
  {
   "cell_type": "code",
   "execution_count": 57,
   "id": "88c5318b-3c77-404e-a041-97aa2d1b4693",
   "metadata": {},
   "outputs": [],
   "source": [
    "## after using setter\n",
    "obj.set_year(2023)"
   ]
  },
  {
   "cell_type": "code",
   "execution_count": 58,
   "id": "e705b612-e7e9-4e45-b57f-51105aea792b",
   "metadata": {},
   "outputs": [
    {
     "data": {
      "text/plain": [
       "2023"
      ]
     },
     "execution_count": 58,
     "metadata": {},
     "output_type": "execute_result"
    }
   ],
   "source": [
    "obj._year"
   ]
  },
  {
   "cell_type": "markdown",
   "id": "102ee694-e044-46a1-a185-047992e6dbb3",
   "metadata": {},
   "source": [
    "## Q5.What is method overriding in python? Write a python code to demonstrate method overriding."
   ]
  },
  {
   "cell_type": "markdown",
   "id": "e5042210-6f48-4d46-865b-2f0a043c280e",
   "metadata": {},
   "source": [
    "## Method Overriding in Python is an OOPs concept closely related to inheritance. When a child class method overrides(or, provides it's own implementation) the parent class method of the same name, parameters and return type, it is known as method overriding.\n",
    "\n",
    "## In this case, the child class's method is called the overriding method and the parent class's method is called the overriden method."
   ]
  },
  {
   "cell_type": "code",
   "execution_count": 1,
   "id": "8ce7e501-483d-48bf-ba5b-fc11001259e7",
   "metadata": {},
   "outputs": [],
   "source": [
    "## EXAMPLE\n",
    "# Parent class \n",
    "class Shape:\n",
    "    # properties \n",
    "    data1 = \"abc\"\n",
    "\n",
    "    # function no_of_sides \n",
    "    def no_of_sides(self):\n",
    "        print(\"My sides need to be defined. I am from shape class.\")\n",
    "\n",
    "    # function two_dimensional \n",
    "    def two_dimensional(self):\n",
    "        print(\"I am a 2D object. I am from shape class\")\n",
    "\n"
   ]
  },
  {
   "cell_type": "code",
   "execution_count": 2,
   "id": "f4a85727-6af6-47c9-87ed-8cae7cdd53d6",
   "metadata": {},
   "outputs": [],
   "source": [
    "class Square (Shape):\n",
    "    data2 = \"XYZ\"\n",
    "\n",
    "    def no_of_sides (self):\n",
    "        print(\"I have 4 sides. I am from Square class\")\n",
    "\n",
    "    def color(self):\n",
    "        print(\"I have teal color. I am from Square class.\")\n",
    "\n"
   ]
  },
  {
   "cell_type": "code",
   "execution_count": 3,
   "id": "d274497a-e880-41fb-aa51-b6fae6339ba6",
   "metadata": {},
   "outputs": [
    {
     "name": "stdout",
     "output_type": "stream",
     "text": [
      "I have 4 sides. I am from Square class\n",
      "I am a 2D object. I am from shape class\n",
      "I have teal color. I am from Square class.\n"
     ]
    }
   ],
   "source": [
    "# Create an object of Square class \n",
    "sq = Square() \n",
    "# Override the no_of_sides of parent class \n",
    "sq.no_of_sides() \n",
    "# Will inherit this method from the parent class\n",
    "sq.two_dimensional() \n",
    "# It's own method color \n",
    "sq.color()\n"
   ]
  },
  {
   "cell_type": "code",
   "execution_count": null,
   "id": "4ae174d1-d45b-419c-8498-a54ebfa99a2c",
   "metadata": {},
   "outputs": [],
   "source": []
  }
 ],
 "metadata": {
  "kernelspec": {
   "display_name": "Python 3 (ipykernel)",
   "language": "python",
   "name": "python3"
  },
  "language_info": {
   "codemirror_mode": {
    "name": "ipython",
    "version": 3
   },
   "file_extension": ".py",
   "mimetype": "text/x-python",
   "name": "python",
   "nbconvert_exporter": "python",
   "pygments_lexer": "ipython3",
   "version": "3.10.8"
  }
 },
 "nbformat": 4,
 "nbformat_minor": 5
}
