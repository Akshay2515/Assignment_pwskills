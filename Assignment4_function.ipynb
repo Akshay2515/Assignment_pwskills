{
 "cells": [
  {
   "cell_type": "markdown",
   "id": "ab70804c-85a3-489e-baca-d6c575de6fec",
   "metadata": {},
   "source": [
    "# Assignment number 4_function"
   ]
  },
  {
   "cell_type": "markdown",
   "id": "e9f484cf-25f5-412f-a6c7-181ce89a0cdf",
   "metadata": {},
   "source": [
    "## Q1. Create a python program to sort the given list of tuples based on integer value using a lambda function. \n",
    "\n",
    "\n",
    "## [('Sachin Tendulkar', 34357), ('Ricky Ponting', 27483), ('Jack Kallis', 25534), ('Virat Kohli', 24936)]"
   ]
  },
  {
   "cell_type": "markdown",
   "id": "90b42649-d2d9-47e5-a139-0447f1864587",
   "metadata": {},
   "source": [
    "## SOLUTION"
   ]
  },
  {
   "cell_type": "code",
   "execution_count": 2,
   "id": "107d8739-2c7a-41e7-aba0-bd9760bbe199",
   "metadata": {},
   "outputs": [],
   "source": [
    "my_list = [('Sachin Tendulkar', 34357), ('Ricky Ponting', 27483), ('Jack Kallis', 25534), ('Virat Kohli', 24936)]\n",
    "## MY LIST"
   ]
  },
  {
   "cell_type": "code",
   "execution_count": 3,
   "id": "6e73a922-3fa8-4183-8781-8ea46e0ebf2e",
   "metadata": {},
   "outputs": [],
   "source": [
    "my_list.sort(key = lambda x: x[1], reverse= True) ## sort a list using lambda function you can use sort method or sorted function."
   ]
  },
  {
   "cell_type": "code",
   "execution_count": 4,
   "id": "b4b09fd7-1fb5-4a58-8e6d-1d609c5c071a",
   "metadata": {},
   "outputs": [
    {
     "data": {
      "text/plain": [
       "[('Sachin Tendulkar', 34357),\n",
       " ('Ricky Ponting', 27483),\n",
       " ('Jack Kallis', 25534),\n",
       " ('Virat Kohli', 24936)]"
      ]
     },
     "execution_count": 4,
     "metadata": {},
     "output_type": "execute_result"
    }
   ],
   "source": [
    "my_list"
   ]
  },
  {
   "cell_type": "markdown",
   "id": "b2a229c4-6a52-4397-8b3f-dc65bcf4ccd7",
   "metadata": {},
   "source": [
    "## Q2. Write a Python Program to find the squares of all the numbers in the given list of integers using lambda and map functions.\n",
    "\n",
    "\n",
    "## [1, 2, 3, 4, 5, 6, 7, 8, 9, 10]"
   ]
  },
  {
   "cell_type": "markdown",
   "id": "cabd35d1-de30-474e-a351-60b0237928a1",
   "metadata": {},
   "source": [
    "## SOLUTION"
   ]
  },
  {
   "cell_type": "code",
   "execution_count": 5,
   "id": "ebb418a4-331a-49ec-b2ff-90787daa18ed",
   "metadata": {},
   "outputs": [],
   "source": [
    "list1 = [1,2,3,4,5,6,7,8,9,10]"
   ]
  },
  {
   "cell_type": "code",
   "execution_count": 6,
   "id": "0aa3d553-d9fc-48e5-a49e-f5faef37e8d3",
   "metadata": {},
   "outputs": [],
   "source": [
    "result = list(map(lambda x : x**2, list1))"
   ]
  },
  {
   "cell_type": "code",
   "execution_count": 7,
   "id": "9a00d3bc-4082-4331-85be-2dd48f1e2b4b",
   "metadata": {},
   "outputs": [
    {
     "name": "stdout",
     "output_type": "stream",
     "text": [
      "[1, 4, 9, 16, 25, 36, 49, 64, 81, 100]\n"
     ]
    }
   ],
   "source": [
    "print(result)"
   ]
  },
  {
   "cell_type": "markdown",
   "id": "84bda906-0af0-44a5-9207-38fcf00c9a49",
   "metadata": {},
   "source": [
    "## Q3. Write a python program to convert the given list of integers into a tuple of strings. Use map and lambda functions\n",
    "\n",
    "\n",
    "## Given String: [1, 2, 3, 4, 5, 6, 7, 8, 9, 10]\n",
    "\n",
    "## Expected output: ('1', '2', '3', '4', '5', '6', '7', '8', '9', '10')"
   ]
  },
  {
   "cell_type": "markdown",
   "id": "3bfd65ba-ee69-4f2e-a08d-78c8333bce5c",
   "metadata": {},
   "source": [
    "## SOLUTUION"
   ]
  },
  {
   "cell_type": "code",
   "execution_count": 13,
   "id": "66b9bf5f-933f-468d-875c-01837ae52447",
   "metadata": {},
   "outputs": [],
   "source": [
    "string = [1,2,3,4,5,6,7,8,9,10]\n",
    "result = list(map(lambda x: str(x) ,string))"
   ]
  },
  {
   "cell_type": "code",
   "execution_count": 18,
   "id": "e9ddd1f3-cbf9-43b8-9cfd-6c2712bdf962",
   "metadata": {},
   "outputs": [
    {
     "name": "stdout",
     "output_type": "stream",
     "text": [
      "Given string ['1', '2', '3', '4', '5', '6', '7', '8', '9', '10']\n",
      "Expexted output ('1', '2', '3', '4', '5', '6', '7', '8', '9', '10')\n"
     ]
    }
   ],
   "source": [
    "print(\"Given string\",result)\n",
    "print(\"Expexted output\",tuple(result))"
   ]
  },
  {
   "cell_type": "markdown",
   "id": "a74c9828-2f3c-4d66-a99a-d76c572477db",
   "metadata": {},
   "source": [
    "## Q4.  Write a python program using reduce function to compute the product of a list containing numbers from 1 to 25."
   ]
  },
  {
   "cell_type": "markdown",
   "id": "b00346df-47b7-4f8f-a6bd-ada992b75b4f",
   "metadata": {},
   "source": [
    "## SOLUTION"
   ]
  },
  {
   "cell_type": "markdown",
   "id": "6531e72d-ead6-4968-8016-54b7d0d1205a",
   "metadata": {},
   "source": [
    "## so , the reduce function is not in python library. you need to import the function from functools."
   ]
  },
  {
   "cell_type": "code",
   "execution_count": 60,
   "id": "61a90845-50b4-4876-92df-4828642f4bc0",
   "metadata": {},
   "outputs": [],
   "source": [
    "from functools import reduce"
   ]
  },
  {
   "cell_type": "code",
   "execution_count": 61,
   "id": "77474474-fd24-4ac4-b91e-a04bb39b22e1",
   "metadata": {},
   "outputs": [
    {
     "name": "stdout",
     "output_type": "stream",
     "text": [
      "[1, 2, 3, 4, 5, 6, 7, 8, 9, 10, 11, 12, 13, 14, 15, 16, 17, 18, 19, 20, 21, 22, 23, 24, 25]\n"
     ]
    }
   ],
   "source": [
    "list_1 =[i for i in range(1,25+1)]\n",
    "print(list_1)"
   ]
  },
  {
   "cell_type": "code",
   "execution_count": 62,
   "id": "5b271681-06be-40e8-8104-84fb0e282893",
   "metadata": {},
   "outputs": [],
   "source": [
    "def product(x,y):\n",
    "    return x*y"
   ]
  },
  {
   "cell_type": "code",
   "execution_count": 63,
   "id": "b7d313f1-7014-4445-839b-a663e2069cb9",
   "metadata": {},
   "outputs": [
    {
     "data": {
      "text/plain": [
       "15511210043330985984000000"
      ]
     },
     "execution_count": 63,
     "metadata": {},
     "output_type": "execute_result"
    }
   ],
   "source": [
    "reduce(product,list_1)"
   ]
  },
  {
   "cell_type": "code",
   "execution_count": 64,
   "id": "56a2e732-c17d-4538-8ede-ce20cd6858b7",
   "metadata": {},
   "outputs": [
    {
     "data": {
      "text/plain": [
       "15511210043330985984000000"
      ]
     },
     "execution_count": 64,
     "metadata": {},
     "output_type": "execute_result"
    }
   ],
   "source": [
    "reduce(lambda x,y: x*y, list_1) ## using lambda  function"
   ]
  },
  {
   "cell_type": "markdown",
   "id": "da30db09-cca2-4844-ab3a-21d768414072",
   "metadata": {},
   "source": [
    "## Q5. Write a python program to filter the numbers in a given list that are divisible by 2 and 3 using the filter function.\n",
    "\n",
    "\n",
    "## [2, 3, 6, 9, 27, 60, 90, 120, 55, 46]"
   ]
  },
  {
   "cell_type": "markdown",
   "id": "ba43c188-229b-4fc9-accb-69283d91e0d4",
   "metadata": {},
   "source": [
    "## SOLUTION"
   ]
  },
  {
   "cell_type": "code",
   "execution_count": 53,
   "id": "9f8a02bb-0fe8-4312-b6b0-b2a08f6a9703",
   "metadata": {},
   "outputs": [],
   "source": [
    "my_list = [2,3,6,9,27,60,90,120,55,46]"
   ]
  },
  {
   "cell_type": "code",
   "execution_count": 57,
   "id": "46140aec-1da4-4266-92a2-60d95631153e",
   "metadata": {},
   "outputs": [
    {
     "data": {
      "text/plain": [
       "[2, 3, 6, 9, 27, 60, 90, 120, 46]"
      ]
     },
     "execution_count": 57,
     "metadata": {},
     "output_type": "execute_result"
    }
   ],
   "source": [
    "list(filter(lambda x:  x%2==0  or x%3==0, my_list )) ## filter the given list is divisible by 2 and 3"
   ]
  },
  {
   "cell_type": "markdown",
   "id": "76e1346f-ed18-4b64-8b9e-5f0c73a32db6",
   "metadata": {},
   "source": [
    "## Q6. Write a python program to find palindromes in the given list of strings using lambda and filter function.\n",
    "\n",
    "\n",
    "## ['python', 'php', 'aba', 'radar', 'level']"
   ]
  },
  {
   "cell_type": "markdown",
   "id": "6fe827a7-cd4b-4f88-ac8b-a5f89f94c6ec",
   "metadata": {},
   "source": [
    "## SOLUTION"
   ]
  },
  {
   "cell_type": "code",
   "execution_count": 58,
   "id": "e10079f0-bbdc-42d3-b7be-3561c2347cf5",
   "metadata": {},
   "outputs": [],
   "source": [
    "my_list = ['python', 'php', 'aba', 'radar', 'level']"
   ]
  },
  {
   "cell_type": "code",
   "execution_count": 59,
   "id": "4bd39d5c-e1f5-4a72-9aac-9cfe00977801",
   "metadata": {},
   "outputs": [
    {
     "data": {
      "text/plain": [
       "['php', 'aba', 'radar', 'level']"
      ]
     },
     "execution_count": 59,
     "metadata": {},
     "output_type": "execute_result"
    }
   ],
   "source": [
    "list(filter(lambda x: x[:]==x[::-1], my_list)) ## using slicing to check the given list is palindromes or not"
   ]
  },
  {
   "cell_type": "code",
   "execution_count": null,
   "id": "2d748d0a-3b10-4fb1-bfa5-d62cb97a9fb7",
   "metadata": {},
   "outputs": [],
   "source": []
  }
 ],
 "metadata": {
  "kernelspec": {
   "display_name": "Python 3 (ipykernel)",
   "language": "python",
   "name": "python3"
  },
  "language_info": {
   "codemirror_mode": {
    "name": "ipython",
    "version": 3
   },
   "file_extension": ".py",
   "mimetype": "text/x-python",
   "name": "python",
   "nbconvert_exporter": "python",
   "pygments_lexer": "ipython3",
   "version": "3.10.8"
  }
 },
 "nbformat": 4,
 "nbformat_minor": 5
}
