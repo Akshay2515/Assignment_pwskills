{
 "cells": [
  {
   "cell_type": "markdown",
   "id": "43b46045-f96b-4c2a-9027-1ffd7b78416a",
   "metadata": {},
   "source": [
    "# EXCEPTION HANDLING ASSIGNMENT-1"
   ]
  },
  {
   "cell_type": "markdown",
   "id": "7007fc15-d698-41ae-91d7-30e449eba32b",
   "metadata": {},
   "source": [
    "## Q1. What is an Exception in python? Write the difference between Exceptions and syntax errors?\n",
    "## SOLUTION:"
   ]
  },
  {
   "cell_type": "markdown",
   "id": "3f38500c-3d76-4329-bc69-aefc7659a14b",
   "metadata": {},
   "source": [
    "## An Exception is an error that happens during the execution of a program. Whenever there is an error, Python generates an exception that could be handled."
   ]
  },
  {
   "cell_type": "markdown",
   "id": "9388c49f-2b65-4298-bcbb-61f997e3c726",
   "metadata": {},
   "source": [
    "## Exceptions are usually caused by runtime errors, such as dividing by zero, trying to access an element in an array with an out-of-bounds index, or trying to access a file that does not exist. Exceptions are not syntax errors, but they can still prevent the program from running if they are not handled properly."
   ]
  },
  {
   "cell_type": "markdown",
   "id": "8f36a954-99ce-47b5-88d6-a77f94976dcf",
   "metadata": {},
   "source": [
    "## Q2. What happens when an exception is not handled? Explain with an example?\n",
    "## SOLUTION:"
   ]
  },
  {
   "cell_type": "markdown",
   "id": "ef306aac-1706-4f6d-9423-ccb7699bb374",
   "metadata": {},
   "source": [
    "## When Exception is not handled the program will terminate means fail and error message will be displayed on the screen.\n",
    "## see below the exmaple when the exception is handled and when the exception is not handled."
   ]
  },
  {
   "cell_type": "code",
   "execution_count": 2,
   "id": "4cae36a2-0a4f-49a3-90c1-719fa9d47eb8",
   "metadata": {},
   "outputs": [],
   "source": [
    "## EXAMPLE 1- WHEN THE EXCEPTION IS HANDLED.\n",
    "def dividebyzero(a,b):\n",
    "    try:\n",
    "        result = a/b\n",
    "        return result\n",
    "    except ZeroDivisionError as e:\n",
    "        print(\"I am facing the error\",e)"
   ]
  },
  {
   "cell_type": "code",
   "execution_count": 3,
   "id": "ce931709-ac3a-4e56-b8b8-babc09454091",
   "metadata": {},
   "outputs": [
    {
     "name": "stdout",
     "output_type": "stream",
     "text": [
      "I am facing the error division by zero\n"
     ]
    }
   ],
   "source": [
    "result = dividebyzero(10,0)"
   ]
  },
  {
   "cell_type": "code",
   "execution_count": 4,
   "id": "a630efa9-b69d-4f2c-8999-9701b178ddbe",
   "metadata": {},
   "outputs": [],
   "source": [
    "## EXAMPLE 2 - WHEN THE EXCEPTION IS NOT HANDLED\n",
    "def dividebyzero(a,b):\n",
    "    result = a/b\n",
    "    return result"
   ]
  },
  {
   "cell_type": "code",
   "execution_count": 5,
   "id": "9960c6bc-4a09-4107-9fe2-6b6e3271c708",
   "metadata": {},
   "outputs": [
    {
     "ename": "ZeroDivisionError",
     "evalue": "division by zero",
     "output_type": "error",
     "traceback": [
      "\u001b[0;31m---------------------------------------------------------------------------\u001b[0m",
      "\u001b[0;31mZeroDivisionError\u001b[0m                         Traceback (most recent call last)",
      "Cell \u001b[0;32mIn[5], line 1\u001b[0m\n\u001b[0;32m----> 1\u001b[0m result \u001b[38;5;241m=\u001b[39m \u001b[43mdividebyzero\u001b[49m\u001b[43m(\u001b[49m\u001b[38;5;241;43m10\u001b[39;49m\u001b[43m,\u001b[49m\u001b[38;5;241;43m0\u001b[39;49m\u001b[43m)\u001b[49m\n",
      "Cell \u001b[0;32mIn[4], line 3\u001b[0m, in \u001b[0;36mdividebyzero\u001b[0;34m(a, b)\u001b[0m\n\u001b[1;32m      2\u001b[0m \u001b[38;5;28;01mdef\u001b[39;00m \u001b[38;5;21mdividebyzero\u001b[39m(a,b):\n\u001b[0;32m----> 3\u001b[0m     result \u001b[38;5;241m=\u001b[39m \u001b[43ma\u001b[49m\u001b[38;5;241;43m/\u001b[39;49m\u001b[43mb\u001b[49m\n\u001b[1;32m      4\u001b[0m     \u001b[38;5;28;01mreturn\u001b[39;00m result\n",
      "\u001b[0;31mZeroDivisionError\u001b[0m: division by zero"
     ]
    }
   ],
   "source": [
    "result = dividebyzero(10,0)"
   ]
  },
  {
   "cell_type": "markdown",
   "id": "4ba2d8e1-7ddc-48a2-b28b-7529350b9cd3",
   "metadata": {},
   "source": [
    "## Q3. Which Python statements are used to catch and handle exceptions? Explain with an example?\n",
    "## SOLUTION:"
   ]
  },
  {
   "cell_type": "markdown",
   "id": "9febdeff-21fd-4850-abaa-c620de307b78",
   "metadata": {},
   "source": [
    "## In python, there are two statements are used to catch and handled exceptions.\n",
    "## 1. Try : This block is used to catch the exception.\n",
    "## 2. except: This block is used to handled the exception."
   ]
  },
  {
   "cell_type": "code",
   "execution_count": 21,
   "id": "d1b1e740-3a94-42e2-8260-0ae92712a4c0",
   "metadata": {},
   "outputs": [
    {
     "name": "stdin",
     "output_type": "stream",
     "text": [
      "enter your age 23.3\n"
     ]
    },
    {
     "name": "stdout",
     "output_type": "stream",
     "text": [
      "I am facing this type error invalid literal for int() with base 10: '23.3'\n"
     ]
    }
   ],
   "source": [
    "## Exmaple:\n",
    "try:\n",
    "    age = int(input(\"enter your age\"))\n",
    "except ValueError as e:\n",
    "    print(\"I am facing this type error\",e)"
   ]
  },
  {
   "cell_type": "markdown",
   "id": "debfe645-349b-44f3-acda-33ff65a335e1",
   "metadata": {},
   "source": [
    "## Q4. Explain with an example:\n",
    "##    try and else\n",
    "##    finally\n",
    "##    raise"
   ]
  },
  {
   "cell_type": "markdown",
   "id": "8ddc5c44-b612-43bb-b393-956d23f521e7",
   "metadata": {},
   "source": [
    "## 1. try and else: In this part, when an exception is catch in try block then the try block executed. when there is no any exception in try block the else part will be executed."
   ]
  },
  {
   "cell_type": "code",
   "execution_count": 25,
   "id": "283e32d1-1380-4774-a8b7-95664cac8efe",
   "metadata": {},
   "outputs": [
    {
     "name": "stdout",
     "output_type": "stream",
     "text": [
      "division by zero\n"
     ]
    }
   ],
   "source": [
    "## Example:\n",
    "## try block executed\n",
    "try:\n",
    "    a = 10/0\n",
    "except ZeroDivisionError as e:\n",
    "    print(e)\n",
    "else:\n",
    "    print(\"there is no ANY exception in try block\")"
   ]
  },
  {
   "cell_type": "code",
   "execution_count": 26,
   "id": "f85b2cfa-a032-41f1-bdae-dd5183214218",
   "metadata": {},
   "outputs": [
    {
     "name": "stdout",
     "output_type": "stream",
     "text": [
      "there is no ANY exception in try block\n"
     ]
    }
   ],
   "source": [
    "## else part executed\n",
    "try:\n",
    "    a = 10/10\n",
    "except ZeroDivisionError as e:\n",
    "    print(e)\n",
    "else:\n",
    "    print(\"there is no ANY exception in try block\")"
   ]
  },
  {
   "cell_type": "markdown",
   "id": "427e9ae3-bce9-42e8-a429-406292f0ca3c",
   "metadata": {},
   "source": [
    "## 2. Finally: whether the try block and except block catch and handled the exception or not . the finally block will be always executed."
   ]
  },
  {
   "cell_type": "code",
   "execution_count": 27,
   "id": "e7cd3045-6b43-4fb0-bcc2-b47e22b491b8",
   "metadata": {},
   "outputs": [
    {
     "name": "stdout",
     "output_type": "stream",
     "text": [
      "division by zero\n",
      "I will always be executed I am the king\n"
     ]
    }
   ],
   "source": [
    "## Example\n",
    "try:\n",
    "    a = 10/0\n",
    "except ZeroDivisionError as e:\n",
    "    print(e)\n",
    "else:\n",
    "    print(\"there is no ANY exception in try block\")\n",
    "finally:\n",
    "    print(\"I will always be executed I am the king\")"
   ]
  },
  {
   "cell_type": "markdown",
   "id": "859d1053-79f6-412b-bf0d-4142ca8a5809",
   "metadata": {},
   "source": [
    "## 3. raise: raise is reserved keyword. this keyword in Python is used to manually raise exceptions or errors. You can use it to create custom exceptions"
   ]
  },
  {
   "cell_type": "code",
   "execution_count": 28,
   "id": "a3df15ab-9f74-4ac3-ba7a-791cf3c32ffb",
   "metadata": {},
   "outputs": [],
   "source": [
    "## Example\n",
    "def dividezero(a,b):\n",
    "    if b==0:\n",
    "        raise ZeroDivisionError(\"divided by zero is not allowded\")\n",
    "    result = a/b\n",
    "    return result"
   ]
  },
  {
   "cell_type": "code",
   "execution_count": 30,
   "id": "32c32f72-2dd8-4d19-af20-0e4970514116",
   "metadata": {},
   "outputs": [
    {
     "name": "stdout",
     "output_type": "stream",
     "text": [
      "I am facing divison by zero error divided by zero is not allowded\n"
     ]
    }
   ],
   "source": [
    "try:\n",
    "    result = dividezero(10,0)\n",
    "    \n",
    "except ZeroDivisionError as e:\n",
    "    print(\"I am facing divison by zero error\",e)\n",
    "    "
   ]
  },
  {
   "cell_type": "markdown",
   "id": "88c7755e-cad1-4cd3-adf5-deca788fd311",
   "metadata": {},
   "source": [
    "## Q5. What are Custom Exceptions in python? Why do we need Custom Exceptions? Explain with an example?\n",
    "## Solution:"
   ]
  },
  {
   "cell_type": "markdown",
   "id": "e95fc83d-7b0a-467e-a4e0-98a58b45b594",
   "metadata": {},
   "source": [
    "## In Python, we can define custom exceptions by creating a new class that is derived from the built-in Exception class."
   ]
  },
  {
   "cell_type": "markdown",
   "id": "595b95a4-23eb-49ba-bf44-6aa5e159a827",
   "metadata": {},
   "source": [
    "## Built-in exceptions offer information about Python-related problems, and custom exceptions will add information about project-related problems. That way, you can design your code (and traceback, if an exception is raised) in a way that combines Python code with the language of the project"
   ]
  },
  {
   "cell_type": "code",
   "execution_count": 31,
   "id": "47a25406-83b5-4cda-93d3-c3f2dc69b2e0",
   "metadata": {},
   "outputs": [
    {
     "name": "stdin",
     "output_type": "stream",
     "text": [
      "enter the age 22\n"
     ]
    }
   ],
   "source": [
    "## Example \n",
    "age = int(input(\"enter the age\")) "
   ]
  },
  {
   "cell_type": "markdown",
   "id": "8b00f7c4-62ec-4f10-b077-fdc66e65e991",
   "metadata": {},
   "source": [
    "## it is okay that but if we enter less than zero or greater then age criteria thats the exception will be generated by my manually and my system is okay with it they will not raise the exception."
   ]
  },
  {
   "cell_type": "code",
   "execution_count": 32,
   "id": "0cc21151-e6a8-40c0-85a9-a19306bc27bf",
   "metadata": {},
   "outputs": [
    {
     "name": "stdin",
     "output_type": "stream",
     "text": [
      "enter the age -345\n"
     ]
    }
   ],
   "source": [
    "age = int(input(\"enter the age\")) "
   ]
  },
  {
   "cell_type": "code",
   "execution_count": 36,
   "id": "d9765c46-13a9-4408-b2cc-cae6252146b3",
   "metadata": {},
   "outputs": [],
   "source": [
    "## how to handled this lets see that\n",
    "class validateage(Exception):\n",
    "    def __init__(self,msg):\n",
    "        self.msg = msg"
   ]
  },
  {
   "cell_type": "code",
   "execution_count": 37,
   "id": "c03e65f2-5a31-4c41-a6ab-ed32972098cc",
   "metadata": {},
   "outputs": [],
   "source": [
    "def validate_age(age):\n",
    "    if age<0:\n",
    "        raise validateage(\"age is less than zero its not valid\")\n",
    "    elif age>200:\n",
    "        raise validateage(\"age is more than the criteria its not valid\")\n",
    "    else:\n",
    "        print(\"age is valid\")"
   ]
  },
  {
   "cell_type": "code",
   "execution_count": 38,
   "id": "6cd9c46a-7853-4cec-94fa-593c6e96dae6",
   "metadata": {},
   "outputs": [
    {
     "name": "stdin",
     "output_type": "stream",
     "text": [
      "enter your age -124\n"
     ]
    },
    {
     "name": "stdout",
     "output_type": "stream",
     "text": [
      "age is less than zero its not valid\n"
     ]
    }
   ],
   "source": [
    "try:\n",
    "    age = int(input(\"enter your age\"))\n",
    "    validate_age(age)\n",
    "except validateage as e:\n",
    "    print(e)"
   ]
  },
  {
   "cell_type": "markdown",
   "id": "216114d2-0162-49bb-b42a-b3ea095bc187",
   "metadata": {},
   "source": [
    "## Q6. Create custom exception class. Use this class to handle an exception."
   ]
  },
  {
   "cell_type": "code",
   "execution_count": 39,
   "id": "fba8dd15-4370-4a61-a74e-3e4cb2cff052",
   "metadata": {},
   "outputs": [],
   "source": [
    "class validateage(Exception):\n",
    "    def __init__(self,msg):\n",
    "        self.msg = msg"
   ]
  },
  {
   "cell_type": "code",
   "execution_count": 40,
   "id": "e2079306-0c31-40a4-b189-d8fa9839beea",
   "metadata": {},
   "outputs": [],
   "source": [
    "def validate_age(age):\n",
    "    if age<0:\n",
    "        raise validateage(\"age is less than zero its not valid\")\n",
    "    elif age>200:\n",
    "        raise validateage(\"age is more than the criteria its not valid\")\n",
    "    else:\n",
    "        print(\"age is valid\")"
   ]
  },
  {
   "cell_type": "code",
   "execution_count": 41,
   "id": "499b27a3-27ef-43a9-b698-4c5800916c33",
   "metadata": {},
   "outputs": [
    {
     "name": "stdin",
     "output_type": "stream",
     "text": [
      "enter your age 300\n"
     ]
    },
    {
     "name": "stdout",
     "output_type": "stream",
     "text": [
      "age is more than the criteria its not valid\n"
     ]
    }
   ],
   "source": [
    "try:\n",
    "    age = int(input(\"enter your age\"))\n",
    "    validate_age(age)\n",
    "except validateage as e:\n",
    "    print(e)"
   ]
  },
  {
   "cell_type": "code",
   "execution_count": null,
   "id": "09008ec4-ed94-47ad-bf10-0528877bbc68",
   "metadata": {},
   "outputs": [],
   "source": []
  }
 ],
 "metadata": {
  "kernelspec": {
   "display_name": "Python 3 (ipykernel)",
   "language": "python",
   "name": "python3"
  },
  "language_info": {
   "codemirror_mode": {
    "name": "ipython",
    "version": 3
   },
   "file_extension": ".py",
   "mimetype": "text/x-python",
   "name": "python",
   "nbconvert_exporter": "python",
   "pygments_lexer": "ipython3",
   "version": "3.10.8"
  }
 },
 "nbformat": 4,
 "nbformat_minor": 5
}
