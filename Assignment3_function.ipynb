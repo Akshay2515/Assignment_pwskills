{
 "cells": [
  {
   "cell_type": "markdown",
   "id": "d08389c2-8eba-4a20-8b84-dfb3b9c80396",
   "metadata": {},
   "source": [
    "# ASSIGNMENT NO. 3 FUNCTION"
   ]
  },
  {
   "cell_type": "markdown",
   "id": "20170847-d68c-4e41-ae2a-a106a3df8db8",
   "metadata": {},
   "source": [
    "## Q1. Which keyword is used to create a function? Create a function to return a list of odd numbers in the range of 1 to 25."
   ]
  },
  {
   "cell_type": "markdown",
   "id": "831f2e2e-901f-46c1-993b-a1e62e5fd1c0",
   "metadata": {},
   "source": [
    "## SOLUTION"
   ]
  },
  {
   "cell_type": "markdown",
   "id": "c2c16bdc-463b-464c-ba6e-f05a196cb8e4",
   "metadata": {},
   "source": [
    "## TO CREATE THE FUNCTION IN PYTHON . WE CAN USE THE FOLLOWING KEYWORD\n",
    "## def function_name(arguments):\n",
    "        stuff\n",
    "## EXPLANATION:\n",
    "### DEF: def is a keyword\n",
    "### function_name: it is totally up to the users or programmer that what the name of the function you give it.\n",
    "### arguments: it is used to pass the inputs to the function."
   ]
  },
  {
   "cell_type": "code",
   "execution_count": 19,
   "id": "31fd1f33-7090-4e9a-9a2a-4009688eeb58",
   "metadata": {},
   "outputs": [],
   "source": [
    "## NOW CREATE A FUNCTION THAT RETURN A LIST OF ODD NUMBER IN RANGE OF 1 TO 25\n",
    "\n",
    "def odd_number(n):\n",
    "    for i in range(n):\n",
    "        if i%2 != 0:\n",
    "            print(i)       "
   ]
  },
  {
   "cell_type": "code",
   "execution_count": 22,
   "id": "6ac352ad-61f2-421d-98ec-94ec6a30ea89",
   "metadata": {},
   "outputs": [
    {
     "name": "stdout",
     "output_type": "stream",
     "text": [
      "1\n",
      "3\n",
      "5\n",
      "7\n",
      "9\n",
      "11\n",
      "13\n",
      "15\n",
      "17\n",
      "19\n",
      "21\n",
      "23\n"
     ]
    }
   ],
   "source": [
    "odd_number(25)"
   ]
  },
  {
   "cell_type": "code",
   "execution_count": 23,
   "id": "3ab06ac3-9465-42aa-82aa-1d92b49348f5",
   "metadata": {},
   "outputs": [],
   "source": [
    "## we can use the list comprehension method to retrieve the odd values.\n",
    "def odd_number_method2(n):\n",
    "    return [x for x in range(n) if x%2!=0] ## this will create a list "
   ]
  },
  {
   "cell_type": "code",
   "execution_count": 24,
   "id": "c8730a2d-b8e1-4b75-8af1-611a38d92dbf",
   "metadata": {},
   "outputs": [
    {
     "data": {
      "text/plain": [
       "[1, 3, 5, 7, 9, 11, 13, 15, 17, 19, 21, 23]"
      ]
     },
     "execution_count": 24,
     "metadata": {},
     "output_type": "execute_result"
    }
   ],
   "source": [
    "odd_number_method2(25)"
   ]
  },
  {
   "cell_type": "markdown",
   "id": "187e9954-b1cc-4690-9c47-5639b5f0ecd8",
   "metadata": {},
   "source": [
    "## Q2. Why *args and **kwargs is used in some functions? Create a function each for *args and **kwargs to demonstrate their use."
   ]
  },
  {
   "cell_type": "markdown",
   "id": "6b2389db-e431-4092-aed1-9373cf36df14",
   "metadata": {},
   "source": [
    "## SOLUTION"
   ]
  },
  {
   "cell_type": "markdown",
   "id": "f1f79604-7e82-4a96-9fa7-8a76cbd62d4d",
   "metadata": {},
   "source": [
    "## *args : IT IS USED TO PASS THE MULTIPLE VALUES TO THE FUNCTION. ITS MAY BE A LIST, TUPLES, STRINGS.\n",
    "## **Kwargs : IT IS USED TO PASS THE DICTIONARY KEY AND VALUES TO THE FUNCTION."
   ]
  },
  {
   "cell_type": "markdown",
   "id": "c916157e-f9b6-4678-a06f-5ca94ce94124",
   "metadata": {},
   "source": [
    "## EXAMPLE"
   ]
  },
  {
   "cell_type": "code",
   "execution_count": 25,
   "id": "c72b946c-8d2b-4f6e-b2f2-de08e2fa4763",
   "metadata": {},
   "outputs": [],
   "source": [
    "def test(*akshay): ### for *args\n",
    "    return akshay"
   ]
  },
  {
   "cell_type": "code",
   "execution_count": 26,
   "id": "de0e9ce6-e84f-42b6-a7d5-4f4c34908d80",
   "metadata": {},
   "outputs": [
    {
     "data": {
      "text/plain": [
       "('akshay',\n",
       " 'data scientist',\n",
       " 'pwskills',\n",
       " [1, 2, 34, 455],\n",
       " (1, 2, 3, 4, 5),\n",
       " {1, 3, 4, 5, 22})"
      ]
     },
     "execution_count": 26,
     "metadata": {},
     "output_type": "execute_result"
    }
   ],
   "source": [
    "test(\"akshay\", \"data scientist\", \"pwskills\", [1,2,34,455], (1,2,3,4,5), {1,22,3,3,4,5})"
   ]
  },
  {
   "cell_type": "code",
   "execution_count": 27,
   "id": "134fbb1c-3ac3-47e1-8bf9-bef171f32cb1",
   "metadata": {},
   "outputs": [],
   "source": [
    "def test2(**akshay): ### for **kwargs\n",
    "    return akshay"
   ]
  },
  {
   "cell_type": "code",
   "execution_count": 30,
   "id": "cd3008c6-1322-4db2-b9a4-985a5773ca9c",
   "metadata": {},
   "outputs": [
    {
     "data": {
      "text/plain": [
       "{'Name': 'Akshay',\n",
       " 'profession': 'Data scientist',\n",
       " 'job_location': 'Banglore',\n",
       " 'Company': 'Google'}"
      ]
     },
     "execution_count": 30,
     "metadata": {},
     "output_type": "execute_result"
    }
   ],
   "source": [
    "test2(Name=\"Akshay\", profession = \"Data scientist\", job_location = \"Banglore\", Company = \"Google\")"
   ]
  },
  {
   "cell_type": "markdown",
   "id": "338c48ef-3358-4a7e-8105-b7985478878a",
   "metadata": {},
   "source": [
    "## Q3.  What is an iterator in python? Name the method used to initialise the iterator object and the method used for iteration. Use these methods to print the first five elements of the given list [2, 4, 6, 8, 10, 12, 14, 16, 18, 20]."
   ]
  },
  {
   "cell_type": "markdown",
   "id": "8ce7b1a4-3646-40ac-a2e5-941e359c0a82",
   "metadata": {},
   "source": [
    "## SOLUTION"
   ]
  },
  {
   "cell_type": "markdown",
   "id": "3716dff7-25da-41f7-9cca-3cb6be1df444",
   "metadata": {},
   "source": [
    "## An iterator is an object that contains a countable number of values.\n",
    "## An iterator is an object that can be iterated upon, meaning that you can traverse through all the values.\n",
    "## iter() method is used to get an iterator of objects like list, tuple, dictionary , sets."
   ]
  },
  {
   "cell_type": "code",
   "execution_count": 31,
   "id": "8ac398f4-b362-4103-9897-4ce673a25814",
   "metadata": {},
   "outputs": [],
   "source": [
    "my_list = [2,4,6,8,10,12,14,16,18,20]"
   ]
  },
  {
   "cell_type": "code",
   "execution_count": 50,
   "id": "1215008f-d408-4e9d-89ab-47fe4dde8a07",
   "metadata": {},
   "outputs": [],
   "source": [
    "def iterator(n):\n",
    "    for i in n:\n",
    "        if i<=5:\n",
    "            my_list_iterate = iter(n)\n",
    "            print(next(my_list_iterate))\n",
    "            print(next(my_list_iterate))\n",
    "            print(next(my_list_iterate))\n",
    "            print(next(my_list_iterate))\n",
    "            print(next(my_list_iterate))\n",
    "            break                ## i will use break statement because it will print 2 times."
   ]
  },
  {
   "cell_type": "code",
   "execution_count": 51,
   "id": "66dd0257-01b0-42a2-b863-2215decbb866",
   "metadata": {},
   "outputs": [
    {
     "name": "stdout",
     "output_type": "stream",
     "text": [
      "2\n",
      "4\n",
      "6\n",
      "8\n",
      "10\n"
     ]
    }
   ],
   "source": [
    "iterator(my_list)"
   ]
  },
  {
   "cell_type": "code",
   "execution_count": 54,
   "id": "86cecdcd-a64c-4bc3-b190-c0e2e8190eca",
   "metadata": {},
   "outputs": [
    {
     "name": "stdout",
     "output_type": "stream",
     "text": [
      "2\n",
      "4\n",
      "6\n",
      "8\n",
      "10\n"
     ]
    }
   ],
   "source": [
    "## or we can simply grab the first five elements\n",
    "my_list = [2,4,6,8,10,12,14,16,18,20]\n",
    "my_list_iterate = iter(my_list)\n",
    "print(next(my_list_iterate))\n",
    "print(next(my_list_iterate))\n",
    "print(next(my_list_iterate))\n",
    "print(next(my_list_iterate))\n",
    "print(next(my_list_iterate))"
   ]
  },
  {
   "cell_type": "markdown",
   "id": "3772f80a-66ef-4469-88bb-668c7ee4daa1",
   "metadata": {},
   "source": [
    "## Q4.  What is a generator function in python? Why yield keyword is used? Give an example of a generator function."
   ]
  },
  {
   "cell_type": "markdown",
   "id": "f9d728f9-a0fb-42a9-8fd3-be9428c8b3c1",
   "metadata": {},
   "source": [
    "## SOLUTION"
   ]
  },
  {
   "cell_type": "markdown",
   "id": "68f0093d-f177-423b-b6c6-ecc3ecd52aff",
   "metadata": {},
   "source": [
    "## Generator function in python is used to generates a sequences of values.\n",
    "## Normal function use the return statement while generator function use the yield keyword.\n",
    "## yield keyword is used to generates a generator object in python.\n",
    "\n",
    "## EXAMPLE"
   ]
  },
  {
   "cell_type": "code",
   "execution_count": 55,
   "id": "d0f602f9-1665-46c9-96f2-ae9900d8a3b4",
   "metadata": {},
   "outputs": [],
   "source": [
    "def my_generator_function():\n",
    "    yield \"Akshay\"\n",
    "    yield \"Data Scientist\"\n",
    "    "
   ]
  },
  {
   "cell_type": "code",
   "execution_count": 56,
   "id": "92c35d03-b163-48fe-aadb-bb667d33d98c",
   "metadata": {},
   "outputs": [
    {
     "data": {
      "text/plain": [
       "<generator object my_generator_function at 0x7fe0145266c0>"
      ]
     },
     "execution_count": 56,
     "metadata": {},
     "output_type": "execute_result"
    }
   ],
   "source": [
    "my_generator_function()"
   ]
  },
  {
   "cell_type": "code",
   "execution_count": 71,
   "id": "6bc0a0c1-56ca-41b7-b986-1723a9aad25d",
   "metadata": {},
   "outputs": [],
   "source": [
    "result = (my_generator_function())"
   ]
  },
  {
   "cell_type": "code",
   "execution_count": 72,
   "id": "2f5cc7c4-afbb-4bfb-88f7-362f82b3ddc0",
   "metadata": {},
   "outputs": [
    {
     "name": "stdout",
     "output_type": "stream",
     "text": [
      "Akshay\n",
      "Data Scientist\n"
     ]
    }
   ],
   "source": [
    "print(next(result))\n",
    "print(next(result))"
   ]
  },
  {
   "cell_type": "markdown",
   "id": "5b48b94d-774a-4fe5-ae3d-27ab0732a8fc",
   "metadata": {},
   "source": [
    "## Q5. Create a generator function for prime numbers less than 1000. Use the next() method to print the first 20 prime numbers."
   ]
  },
  {
   "cell_type": "markdown",
   "id": "367e808a-b578-458f-9d77-94b3f4d6d4d8",
   "metadata": {},
   "source": [
    "## SOLUTION"
   ]
  },
  {
   "cell_type": "code",
   "execution_count": 2,
   "id": "6d59f53b-d3b1-43c3-90c2-1eca9681ab33",
   "metadata": {},
   "outputs": [],
   "source": [
    "def prime_num(n):\n",
    "    for i in range(2,n):\n",
    "        for x in range(2,i):\n",
    "            if(i%x==0):\n",
    "                break\n",
    "        else:\n",
    "            yield i"
   ]
  },
  {
   "cell_type": "code",
   "execution_count": 3,
   "id": "f8e8f4f9-5f52-4f69-afb9-ea94bfe380db",
   "metadata": {},
   "outputs": [
    {
     "data": {
      "text/plain": [
       "<generator object prime_num at 0x7f507a285850>"
      ]
     },
     "execution_count": 3,
     "metadata": {},
     "output_type": "execute_result"
    }
   ],
   "source": [
    "prime_num(10)"
   ]
  },
  {
   "cell_type": "code",
   "execution_count": 43,
   "id": "de0e54b8-5b63-4e29-b41d-b454fefc4b21",
   "metadata": {},
   "outputs": [],
   "source": [
    "result = (prime_num(1000))"
   ]
  },
  {
   "cell_type": "code",
   "execution_count": 21,
   "id": "7aea7c5d-bf57-41a2-a6eb-cc485bf92180",
   "metadata": {},
   "outputs": [
    {
     "name": "stdout",
     "output_type": "stream",
     "text": [
      "2\n",
      "3\n",
      "5\n",
      "7\n",
      "11\n",
      "13\n",
      "17\n",
      "19\n",
      "23\n",
      "29\n",
      "31\n",
      "37\n",
      "41\n",
      "43\n",
      "47\n",
      "53\n",
      "59\n",
      "61\n",
      "67\n",
      "71\n"
     ]
    }
   ],
   "source": [
    "print(next(result))  ### first 20 prime number\n",
    "print(next(result))\n",
    "print(next(result))\n",
    "print(next(result))\n",
    "print(next(result))\n",
    "print(next(result))\n",
    "print(next(result))\n",
    "print(next(result))\n",
    "print(next(result))\n",
    "print(next(result))\n",
    "print(next(result))\n",
    "print(next(result))\n",
    "print(next(result))\n",
    "print(next(result))\n",
    "print(next(result))\n",
    "print(next(result))\n",
    "print(next(result))\n",
    "print(next(result))\n",
    "print(next(result))\n",
    "print(next(result))"
   ]
  },
  {
   "cell_type": "code",
   "execution_count": null,
   "id": "e7bfc98b-b26a-4319-bafa-ea7559807edf",
   "metadata": {},
   "outputs": [],
   "source": []
  }
 ],
 "metadata": {
  "kernelspec": {
   "display_name": "Python 3 (ipykernel)",
   "language": "python",
   "name": "python3"
  },
  "language_info": {
   "codemirror_mode": {
    "name": "ipython",
    "version": 3
   },
   "file_extension": ".py",
   "mimetype": "text/x-python",
   "name": "python",
   "nbconvert_exporter": "python",
   "pygments_lexer": "ipython3",
   "version": "3.10.8"
  }
 },
 "nbformat": 4,
 "nbformat_minor": 5
}
