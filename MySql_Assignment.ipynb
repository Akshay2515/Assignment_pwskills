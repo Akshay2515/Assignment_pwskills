{
 "cells": [
  {
   "cell_type": "markdown",
   "id": "791f6cca-66c0-4d54-8f49-fdbbede25125",
   "metadata": {},
   "source": [
    "# MySQL ASSIGNMENT"
   ]
  },
  {
   "cell_type": "markdown",
   "id": "aedf9794-a25a-42e5-a7c7-f3bdda3939a4",
   "metadata": {},
   "source": [
    "## Q1. What is a database? Differentiate between SQL and NoSQL databases.\n",
    "## SOLUTION:"
   ]
  },
  {
   "cell_type": "markdown",
   "id": "41ce59cf-1d36-47f1-bc7a-25e12530ac79",
   "metadata": {},
   "source": [
    "## A database is a organized collection of structured information or data, typically stored electronically in computer system. A database is usually controlled by a database management system (DBMS)."
   ]
  },
  {
   "cell_type": "markdown",
   "id": "6f98e04e-0383-42c8-afe7-a08d837adcf5",
   "metadata": {},
   "source": [
    "## SQL database are relational and NOSQL database are non-relational. SQL database uses structured query language and have a predefined schema. NOSQL databases have dynamic schema of unstructured data. example of sql: oracle, DB2. example of NOSQL ARE: MongoDB."
   ]
  },
  {
   "cell_type": "markdown",
   "id": "9c0b3a61-1580-45cb-af66-aacec7664eee",
   "metadata": {},
   "source": [
    "## Q2. What is DDL? Explain why CREATE, DROP, ALTER, and TRUNCATE are used with an example.\n",
    "## SOLUTION:"
   ]
  },
  {
   "cell_type": "markdown",
   "id": "d1c06f5c-c4cc-4488-a68b-bfd6e87e07bc",
   "metadata": {},
   "source": [
    "## DDL stands for data definition language. DDL is a subset of SQL and a part of DBMS (Database management system). DDL consists of commands to commands like CREATE,ALTER,TRUNCATE,DROP. These commands are used to create or modify the table data in SQL."
   ]
  },
  {
   "cell_type": "markdown",
   "id": "36282c60-b4cf-4f2a-8de2-37b510d3b485",
   "metadata": {},
   "source": [
    "## 1. CREATE:- This command is used to create a new table in SQL. The user has to give information like table_name, column_name and their datatypes.\n",
    "## SYNTAX: \n",
    "## CREATE TABLE table_name(\n",
    "## column1 datatype,\n",
    "## column2 datatype,\n",
    "## column3 datatype,\n",
    "## ----------------);\n",
    "\n",
    "\n",
    "\n",
    "## EXAMPLE: we need to create a table for storing student information of a particular college.\n",
    "## CREATE TABLE student_info(\n",
    "## college_id number(2),\n",
    "## college_name varchar(30),\n",
    "## branch varchar(10));"
   ]
  },
  {
   "cell_type": "markdown",
   "id": "d1e6a3aa-99db-44e7-b1b6-7a85c9e4346a",
   "metadata": {},
   "source": [
    "## 2.ALTER: This command is used to add, delete, change column in existing table. the user needs to know the existing table name and can do add, delete or modify tasks easily.\n",
    "## SYNTAX:\n",
    "## ALTER TABLE table_name\n",
    "## ADD column_name datatype;\n",
    "\n",
    "\n",
    "\n",
    "## EXAMPLE: In our student_info table, we want to add a new column for CGPA.\n",
    "## ALTER TABLE student_info\n",
    "## ADD CGPA number;"
   ]
  },
  {
   "cell_type": "markdown",
   "id": "bc166c7f-1d39-4201-8cf4-92e1794ca480",
   "metadata": {},
   "source": [
    "## 3. TRUNCATE: This command is used to remove all the rows form the table, but the structure of the table still exists.\n",
    "## SYNTAX:\n",
    "## TRUNCATE TABLE table_name;\n",
    "\n",
    "## EXAMPLE: The college authority wants to remove the all the details of all students for new batches but wants to keeps the table structure.\n",
    "## TRUNCATE TABLE student_info;"
   ]
  },
  {
   "cell_type": "markdown",
   "id": "6b6bf2ae-9d51-4f9a-bf28-686e6b899216",
   "metadata": {},
   "source": [
    "## 4. DROP: This command is used to remove the existing table along with structure from database.\n",
    "## SYNTAX:\n",
    "## DROP TABLE table_name;\n",
    "\n",
    "## EXAMPLE: If the college authority wants to change their database by deleting the student_info table.\n",
    "## DROP TABLE student_info;"
   ]
  },
  {
   "cell_type": "markdown",
   "id": "d377ee82-950f-4cb8-ad5c-4525d0eed8bd",
   "metadata": {},
   "source": [
    "## Q3. What is DML? Explain INSERT, UPDATE, and DELETE with an example."
   ]
  },
  {
   "cell_type": "markdown",
   "id": "f7464e85-05fb-43b8-8784-5601f2d3d275",
   "metadata": {},
   "source": [
    "## The structured query language commands deals with the manipulation of data present in the database that belongs to DML Or Data Manipulation Language."
   ]
  },
  {
   "cell_type": "markdown",
   "id": "41692585-a1be-46f4-bf60-a4148d1d4081",
   "metadata": {},
   "source": [
    "## 1. INSERT: This command is used to enter the information or value into a row. we can connect one or more record to a single table within a repository using this instruction.\n",
    "## SYNTAX:\n",
    "## INSERT INTO <table_name>(\n",
    "## 'column_name1' <data_type>,\n",
    "## 'column_name2' <data_type>)\n",
    "## VALUES('value1','value2');\n",
    "\n",
    "# EXAMPLE:\n",
    "## INSERT INTO student_info(\n",
    "## 'stud_id' int,\n",
    "## 'student_name' varchar(20),\n",
    "## 'city' varchar(20))\n",
    "## VALUES('1','Akshay','gurgaon')"
   ]
  },
  {
   "cell_type": "markdown",
   "id": "e9287754-34ad-46f9-845e-16ccf4edbfd3",
   "metadata": {},
   "source": [
    "## 2. UPDATE command: This command is used to alter existing table records. within a table, it modify one or more records. this command is used to alter the data which is already present in the table.\n",
    "## SYNTAX:\n",
    "## UPDATE <table_name>\n",
    "## SET <column_name=value>\n",
    "## where condition;\n",
    "\n",
    "# EXAMPLE:\n",
    "## UPDATE students\n",
    "## SET due_fees = 2000\n",
    "## where stud_name = 'Akshay';"
   ]
  },
  {
   "cell_type": "markdown",
   "id": "c7518aff-8d72-4aa7-ad8a-b96dbe91b2ba",
   "metadata": {},
   "source": [
    "## 3. DELETE: It delete all archives from the table. This command is used to erase some or all the table records. if we don't specify the where condition then all the rows would be erased or deleted.\n",
    "## SYNTAX:\n",
    "## DELETE from <table_name>\n",
    "## where <#condition>;\n",
    "\n",
    "# EXAMPLE:\n",
    "## DELETE from student\n",
    "## WHERE stud_id = '001';\n",
    "\n",
    "    \n"
   ]
  },
  {
   "cell_type": "markdown",
   "id": "41973dfc-7343-4360-9f9d-669d7b466337",
   "metadata": {},
   "source": [
    "## Q4. What is DQL? Explain SELECT with an example.\n",
    "## SOLUTION:"
   ]
  },
  {
   "cell_type": "markdown",
   "id": "c334c823-9adc-4e2e-abaa-666c71f9dcea",
   "metadata": {},
   "source": [
    "## DQL statements are used to perform queries on the data within schema objects. The purpose of DQL command is used to get some schema relation based on the query passed to it."
   ]
  },
  {
   "cell_type": "markdown",
   "id": "33bcf8b6-8b45-4f9d-934d-8287ed6a93bd",
   "metadata": {},
   "source": [
    "## SELECT: It is used to retrieve the data from the database.\n",
    "## SYNTAX: \n",
    "## SELECT column1, column2 from <table_name>;\n",
    "\n",
    "## EXAMPLE:\n",
    "## SELECT stud_id, stud_name form students;\n",
    "## SELECT * FORM students;"
   ]
  },
  {
   "cell_type": "markdown",
   "id": "0b6e5281-a14b-4f7d-81e7-1dc4b76f3520",
   "metadata": {},
   "source": [
    "## Q5. Explain Primary Key and Foreign Key.\n",
    "## Solution:"
   ]
  },
  {
   "cell_type": "markdown",
   "id": "6322ed3e-232d-452b-84b1-cb2ec06fe27b",
   "metadata": {},
   "source": [
    "## PRIMARY KEY: A primary is use to ensure that data in the specific column is unique. A column cannot have NULL value. it is either an existing tabke column or a column that is specifically generated by the database according to defined sequence."
   ]
  },
  {
   "cell_type": "markdown",
   "id": "3b67ea06-9bd1-4915-96d5-f02157867eef",
   "metadata": {},
   "source": [
    "## EXAMPLE: stud_no and stud_phone both are candidate key but stud_no can be choosen as primary key."
   ]
  },
  {
   "cell_type": "markdown",
   "id": "6b6244bb-a415-4f37-8529-bdbfd94573e4",
   "metadata": {},
   "source": [
    "## Foreign key: Foreign key is a column or group of column in relational database table that provide a link between data in two table. it is a column that references a column of another table."
   ]
  },
  {
   "cell_type": "markdown",
   "id": "155bfa76-e973-470c-9cc4-bb94dedfdb1b",
   "metadata": {},
   "source": [
    "## EXAMPLE: if in a TABLE1 stud_id column and this column also in TABLE2 , that means the data is linking between TABLE1 and TABLE2. SO, this is a foreign key."
   ]
  },
  {
   "cell_type": "markdown",
   "id": "b68b726a-a480-463d-8055-09043731f697",
   "metadata": {},
   "source": [
    "## Q6. Write a python code to connect MySQL to python. Explain the cursor() and execute() method.\n",
    "## SOLUTION:"
   ]
  },
  {
   "cell_type": "code",
   "execution_count": null,
   "id": "109a491a-4f1b-40a8-87bd-68564dc48841",
   "metadata": {},
   "outputs": [],
   "source": [
    "import mysql.connector\n",
    "mydb = mysql.connector.connect(\n",
    "  host=\"localhost\",\n",
    "  user=\"abc\",\n",
    "  password=\"password\"\n",
    ")\n",
    "print(mydb)\n",
    "mycursor = mydb.cursor()\n",
    "mycursor.execute(\"SHOW DATABASES\")\n",
    "for x in mycursor:\n",
    "    print(x)"
   ]
  },
  {
   "cell_type": "markdown",
   "id": "b2b14e92-6064-46b2-870e-15b2b4dcc99d",
   "metadata": {},
   "source": [
    "## Cursor(): The cursor() method is used to create a cursor object. A cursor is a pointer or handle to a specific row of data in a set of results. It allows you to interact with the database by executing SQL queries and fetching results."
   ]
  },
  {
   "cell_type": "markdown",
   "id": "63b2acf2-42b1-47fd-b4ac-5ffe4e58bcb4",
   "metadata": {},
   "source": [
    "## execute(): The execute() method is used to execute SQL queries or commands through the cursor object. It takes a SQL query string as an argument."
   ]
  },
  {
   "cell_type": "markdown",
   "id": "aac89708-6543-4b95-a769-1e450c9d1000",
   "metadata": {},
   "source": [
    "## Q7. Give the order of execution of SQL clauses in an SQL query.\n",
    "## SOLUTION:"
   ]
  },
  {
   "cell_type": "markdown",
   "id": "e811c3b4-1334-4a21-af48-91b282d8f19e",
   "metadata": {},
   "source": [
    "## The order of execution of SQL query optimize the query, reduced the amount of data to be processed."
   ]
  },
  {
   "cell_type": "markdown",
   "id": "5072242b-302a-43b2-9fc4-eabe17a0d586",
   "metadata": {},
   "source": [
    "## 1. WHERE clause: After the table data on which other operation take place is processed by JOIN and FROM clause, where clause is evaluated. where clause filter the rows based on condition from the table evaluated by the FROM clause."
   ]
  },
  {
   "cell_type": "markdown",
   "id": "51ab5d87-6907-4dad-bdd0-c4df9887b711",
   "metadata": {},
   "source": [
    "## 2. Group By: If the query has a group by clause, it is evaluated next. here, the data is grouped based on common value in the column specified in the group clause. This help to calculate aggregrate function."
   ]
  },
  {
   "cell_type": "markdown",
   "id": "1ea7abce-08a7-4d83-a3ee-f3f341ae583f",
   "metadata": {},
   "source": [
    "## 3. HAVING: if a query had a group by clause, the having clause is evaluated immediately after group by . having clause is not compulsory for group by clause. similar to where operation, this clause also filter the table group processed before by the group by clause."
   ]
  },
  {
   "cell_type": "markdown",
   "id": "74e4c964-8afe-4b5f-9390-dcc9e5dd2703",
   "metadata": {},
   "source": [
    "## 4. SELECT: The select is executed next after the group by and having. it compute expression(arithmetic, aggregrate function, etc.)"
   ]
  },
  {
   "cell_type": "markdown",
   "id": "bd8559ad-f6cf-4047-b515-88ddab29e72a",
   "metadata": {},
   "source": [
    "## 5. DISTINCT: The distinct clause is executed after evaluating expression. it filter any duplicate row and return unique row."
   ]
  },
  {
   "cell_type": "markdown",
   "id": "ae1d8055-531f-4bd3-bf81-8dd25df9d29b",
   "metadata": {},
   "source": [
    "## 6. ORDER BY: After completing all the above clause the data is to displayed or processed as compute. Now order by execute to sort it based on particular column either ascending or descending order."
   ]
  },
  {
   "cell_type": "markdown",
   "id": "492fbac6-bfce-4483-a144-ce100129df30",
   "metadata": {},
   "source": [
    "## 7. LIMIT/OFFSET: At last, the order of data to be processed is evaluated, limit and offset clause is evaluated to display only the row that fall within the limit."
   ]
  },
  {
   "cell_type": "code",
   "execution_count": null,
   "id": "cb834e33-e886-4c6b-85ea-594776dd34ab",
   "metadata": {},
   "outputs": [],
   "source": []
  }
 ],
 "metadata": {
  "kernelspec": {
   "display_name": "Python 3 (ipykernel)",
   "language": "python",
   "name": "python3"
  },
  "language_info": {
   "codemirror_mode": {
    "name": "ipython",
    "version": 3
   },
   "file_extension": ".py",
   "mimetype": "text/x-python",
   "name": "python",
   "nbconvert_exporter": "python",
   "pygments_lexer": "ipython3",
   "version": "3.10.8"
  }
 },
 "nbformat": 4,
 "nbformat_minor": 5
}
