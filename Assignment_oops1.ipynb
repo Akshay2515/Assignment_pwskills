{
 "cells": [
  {
   "cell_type": "markdown",
   "id": "1afbca5c-c2f9-4049-9ffe-45b114287bef",
   "metadata": {},
   "source": [
    "# ASSIGNMENT 5 OOPS CONCEPT"
   ]
  },
  {
   "cell_type": "markdown",
   "id": "2815239f-dbb2-4ece-ad85-2e8f062c1fa2",
   "metadata": {},
   "source": [
    "## Q1. Explain Class and Object with respect to Object-Oriented Programming. Give a suitable example.\n",
    "## SOLUTION"
   ]
  },
  {
   "cell_type": "markdown",
   "id": "4c667bc8-280f-4a65-b1a8-3a38eb880c4b",
   "metadata": {},
   "source": [
    "### CLASS:- user defined objects are created using the class keyword. The class is a blueprint that defines the nature of future objects. from classes we can construct instances. An instance is an specific object created form particular class."
   ]
  },
  {
   "cell_type": "code",
   "execution_count": 1,
   "id": "14f15d34-c550-4d18-9240-f928fc3118c3",
   "metadata": {},
   "outputs": [],
   "source": [
    "## EXAMPLE OF CLASS\n",
    "\n",
    "class firstclass:\n",
    "    pass"
   ]
  },
  {
   "cell_type": "code",
   "execution_count": 2,
   "id": "bc81916c-8be9-43e2-ae84-ca1d78cb0581",
   "metadata": {},
   "outputs": [],
   "source": [
    "obj = firstclass()"
   ]
  },
  {
   "cell_type": "code",
   "execution_count": 3,
   "id": "e6680d3c-4bf7-4654-a901-2b97a05fe1ca",
   "metadata": {},
   "outputs": [
    {
     "name": "stdout",
     "output_type": "stream",
     "text": [
      "<class '__main__.firstclass'>\n"
     ]
    }
   ],
   "source": [
    "print(type(obj))"
   ]
  },
  {
   "cell_type": "markdown",
   "id": "87464799-36e4-4a9a-b429-2afc40f2a36b",
   "metadata": {},
   "source": [
    "### OBJECT:- In python, everything is an object. we can use type() to check the type of object."
   ]
  },
  {
   "cell_type": "code",
   "execution_count": 4,
   "id": "fdfcc92b-47f5-4d00-bd85-07d111d1eb5c",
   "metadata": {},
   "outputs": [],
   "source": [
    "## EXAMPLE OF OBJECT\n",
    "\n",
    "hey = \"hello1\""
   ]
  },
  {
   "cell_type": "code",
   "execution_count": 5,
   "id": "916c3e25-ab19-49b3-8e7b-f24966fbfd00",
   "metadata": {},
   "outputs": [
    {
     "name": "stdout",
     "output_type": "stream",
     "text": [
      "<class 'str'>\n"
     ]
    }
   ],
   "source": [
    "print(type(hey))"
   ]
  },
  {
   "cell_type": "code",
   "execution_count": 6,
   "id": "fef1840b-a59d-4efe-99ab-178f93cd4a8c",
   "metadata": {},
   "outputs": [],
   "source": [
    "a = 45.4"
   ]
  },
  {
   "cell_type": "code",
   "execution_count": 7,
   "id": "0001a54a-e6ae-474e-bba3-e72e707dfd17",
   "metadata": {},
   "outputs": [
    {
     "name": "stdout",
     "output_type": "stream",
     "text": [
      "<class 'float'>\n"
     ]
    }
   ],
   "source": [
    "print(type(a))"
   ]
  },
  {
   "cell_type": "code",
   "execution_count": 8,
   "id": "4cf94b7c-3c1e-4180-93d4-e140ab745585",
   "metadata": {},
   "outputs": [],
   "source": [
    "b = 4"
   ]
  },
  {
   "cell_type": "code",
   "execution_count": 9,
   "id": "1fc7a578-998e-4e1c-9178-3867f362920a",
   "metadata": {},
   "outputs": [
    {
     "name": "stdout",
     "output_type": "stream",
     "text": [
      "<class 'int'>\n"
     ]
    }
   ],
   "source": [
    "print(type(b))"
   ]
  },
  {
   "cell_type": "markdown",
   "id": "8534f56c-8e92-4665-a562-1633cb24f693",
   "metadata": {},
   "source": [
    "## Q2. Name the four pillars of OOPs.\n",
    "## SOLUTION:"
   ]
  },
  {
   "cell_type": "markdown",
   "id": "1fbf813c-20b0-4e4f-9580-2cda803195bc",
   "metadata": {},
   "source": [
    "### The Four pillars of OOPs, abstraction, encapsulation, inheritance, and polymorphism, are integral to understanding and using OOP. By using these four pillars of OOPs, developers can create programs that are powerful, maintainable, and extensible, making them a great choice for software development."
   ]
  },
  {
   "cell_type": "markdown",
   "id": "6c137b58-06f8-4b8c-8c3f-e1bf4723f758",
   "metadata": {},
   "source": [
    "## Q3. Explain why the __init__() function is used. Give a suitable example.\n",
    "## SOLUTION:"
   ]
  },
  {
   "cell_type": "markdown",
   "id": "e943bb40-3053-434f-aba9-3a97adaf8326",
   "metadata": {},
   "source": [
    "### __init__ is a special method known as the constructor. It is automatically called when a new instance (object) of a class is created. The __init__ method allows you to initialize the attributes (variables) of an object."
   ]
  },
  {
   "cell_type": "code",
   "execution_count": 10,
   "id": "3bac6475-5f50-4d4a-adf5-e2265e969bed",
   "metadata": {},
   "outputs": [],
   "source": [
    "## EXAMPLE\n",
    "\n",
    "class myname:\n",
    "    \n",
    "    def __init__(self, name, age):\n",
    "        self.name = name\n",
    "        self.age = age\n",
    "        \n",
    "    def get_details(self):\n",
    "        return self.name,self.age"
   ]
  },
  {
   "cell_type": "code",
   "execution_count": 11,
   "id": "50c16a97-05b0-4670-b9a2-b9497666adf0",
   "metadata": {},
   "outputs": [],
   "source": [
    "obj = myname(\"AKSHAY\",22)"
   ]
  },
  {
   "cell_type": "code",
   "execution_count": 12,
   "id": "39f49711-8d3b-48d3-bc95-729fc6f29529",
   "metadata": {},
   "outputs": [
    {
     "data": {
      "text/plain": [
       "('AKSHAY', 22)"
      ]
     },
     "execution_count": 12,
     "metadata": {},
     "output_type": "execute_result"
    }
   ],
   "source": [
    "obj.get_details()"
   ]
  },
  {
   "cell_type": "markdown",
   "id": "8feb1c22-98d5-446e-942a-a43bdd538b9a",
   "metadata": {},
   "source": [
    "## Q4. Why self is used in OOPs?\n",
    "## SOLUTION:"
   ]
  },
  {
   "cell_type": "markdown",
   "id": "aef98d53-598e-4466-90fb-93cd03a54bb7",
   "metadata": {},
   "source": [
    "### Self represents the instance of the class. By using the “self” we can access the attributes and methods of the class in Python."
   ]
  },
  {
   "cell_type": "markdown",
   "id": "9a55d8c3-9ebb-41b3-81fa-02cad2f90896",
   "metadata": {},
   "source": [
    "## Q5. What is inheritance? Give an example for each type of inheritance.\n",
    "## SOLUTION:"
   ]
  },
  {
   "cell_type": "markdown",
   "id": "8ec1d661-2eb8-493b-a4cb-bbe608ce1b69",
   "metadata": {},
   "source": [
    "### Inheritance is a mechanism in which one class acquires the property of another class. For example, a child inherits the traits of his/her parents."
   ]
  },
  {
   "cell_type": "code",
   "execution_count": 13,
   "id": "a5df915d-8b0c-42b2-a6bd-2ff0e263d6c7",
   "metadata": {},
   "outputs": [],
   "source": [
    "## SINGLE INHERITANCE\n",
    "\n",
    "class pwskills_data_science:\n",
    "    \n",
    "    def myname(self):\n",
    "        print(\"hello my name is akshay and this is single inheritance\")\n"
   ]
  },
  {
   "cell_type": "code",
   "execution_count": 14,
   "id": "5414c62c-4eb1-40a2-9820-0efbb85f9c46",
   "metadata": {},
   "outputs": [],
   "source": [
    "class pw(pwskills_data_science):\n",
    "    pass"
   ]
  },
  {
   "cell_type": "code",
   "execution_count": 16,
   "id": "3b0e2899-8b56-4e9b-8ec5-f4ee7e9fa2da",
   "metadata": {},
   "outputs": [],
   "source": [
    "a = pw()"
   ]
  },
  {
   "cell_type": "code",
   "execution_count": 19,
   "id": "d51cc747-7231-41b7-b927-0307be2525c0",
   "metadata": {},
   "outputs": [
    {
     "name": "stdout",
     "output_type": "stream",
     "text": [
      "hello my name is akshay and this is single inheritance\n"
     ]
    }
   ],
   "source": [
    "a.myname()"
   ]
  },
  {
   "cell_type": "code",
   "execution_count": 20,
   "id": "23dcf4ec-642b-4d4c-9329-6c45fb5e3940",
   "metadata": {},
   "outputs": [],
   "source": [
    "## MULTI-LEVEL INHERITANCE\n",
    "\n",
    "class class1:\n",
    "    \n",
    "    def class1(self):\n",
    "        print(\"this is class first\")"
   ]
  },
  {
   "cell_type": "code",
   "execution_count": 21,
   "id": "9fde5883-e4ef-4c6c-a1bc-4e2437521f77",
   "metadata": {},
   "outputs": [],
   "source": [
    "class class2(class1):\n",
    "    \n",
    "    def class2(self):\n",
    "        print(\"this is class second\")  ### this class inherit the properties of class1\n",
    "    \n",
    "        "
   ]
  },
  {
   "cell_type": "code",
   "execution_count": 22,
   "id": "09c9c692-99cc-4002-be66-fb00a745f2bf",
   "metadata": {},
   "outputs": [],
   "source": [
    "class class3(class2):\n",
    "    \n",
    "    def class3(self):\n",
    "        print(\"this is class third\")    ### this class inherit the properties of class2"
   ]
  },
  {
   "cell_type": "code",
   "execution_count": 23,
   "id": "427ee8a2-ff3a-486b-813a-19d973ff6471",
   "metadata": {},
   "outputs": [],
   "source": [
    "obj = class3()"
   ]
  },
  {
   "cell_type": "code",
   "execution_count": 24,
   "id": "f91977a4-00e8-4df4-b861-a3c961b26017",
   "metadata": {},
   "outputs": [
    {
     "name": "stdout",
     "output_type": "stream",
     "text": [
      "this is class second\n"
     ]
    }
   ],
   "source": [
    "obj.class2()"
   ]
  },
  {
   "cell_type": "code",
   "execution_count": 25,
   "id": "6898a7a7-26f2-4e89-9b90-fd7da26349fc",
   "metadata": {},
   "outputs": [
    {
     "name": "stdout",
     "output_type": "stream",
     "text": [
      "this is class third\n"
     ]
    }
   ],
   "source": [
    "obj.class3()"
   ]
  },
  {
   "cell_type": "code",
   "execution_count": 26,
   "id": "39730818-3c40-4253-9319-cf077b01fda1",
   "metadata": {},
   "outputs": [
    {
     "name": "stdout",
     "output_type": "stream",
     "text": [
      "this is class first\n"
     ]
    }
   ],
   "source": [
    "obj.class1()"
   ]
  },
  {
   "cell_type": "code",
   "execution_count": 27,
   "id": "bbfff3f4-eeca-4afd-924a-d8907adcf4e9",
   "metadata": {},
   "outputs": [],
   "source": [
    "## MULTIPLE INHERITANCE\n",
    "class first_class:\n",
    "    \n",
    "    def first1(self):\n",
    "        print(\"first class\")"
   ]
  },
  {
   "cell_type": "code",
   "execution_count": 28,
   "id": "6d860a6f-bdf0-4912-90ca-ed8b5c0f9af9",
   "metadata": {},
   "outputs": [],
   "source": [
    "class second_class:\n",
    "    \n",
    "    def second2(self):\n",
    "        print(\"seond class\")"
   ]
  },
  {
   "cell_type": "code",
   "execution_count": 29,
   "id": "fbe76e6c-ed9b-45dc-9acc-2543f633a034",
   "metadata": {},
   "outputs": [],
   "source": [
    "class third_class(first_class,second_class):\n",
    "    pass"
   ]
  },
  {
   "cell_type": "code",
   "execution_count": 30,
   "id": "5220ca5b-05ea-402c-9a47-a1a297f94ae0",
   "metadata": {},
   "outputs": [],
   "source": [
    "obj = third_class()"
   ]
  },
  {
   "cell_type": "code",
   "execution_count": 32,
   "id": "44eaa6e1-02d6-4301-b936-75986a942b04",
   "metadata": {},
   "outputs": [
    {
     "name": "stdout",
     "output_type": "stream",
     "text": [
      "seond class\n"
     ]
    }
   ],
   "source": [
    "obj.second2()"
   ]
  },
  {
   "cell_type": "code",
   "execution_count": 33,
   "id": "06da78be-4168-4d85-a8e6-5cbd8cad0a1c",
   "metadata": {},
   "outputs": [
    {
     "name": "stdout",
     "output_type": "stream",
     "text": [
      "first class\n"
     ]
    }
   ],
   "source": [
    "obj.first1()"
   ]
  },
  {
   "cell_type": "code",
   "execution_count": null,
   "id": "e1fdd336-40e7-4547-8708-2615b9f9ec07",
   "metadata": {},
   "outputs": [],
   "source": []
  }
 ],
 "metadata": {
  "kernelspec": {
   "display_name": "Python 3 (ipykernel)",
   "language": "python",
   "name": "python3"
  },
  "language_info": {
   "codemirror_mode": {
    "name": "ipython",
    "version": 3
   },
   "file_extension": ".py",
   "mimetype": "text/x-python",
   "name": "python",
   "nbconvert_exporter": "python",
   "pygments_lexer": "ipython3",
   "version": "3.10.8"
  }
 },
 "nbformat": 4,
 "nbformat_minor": 5
}
